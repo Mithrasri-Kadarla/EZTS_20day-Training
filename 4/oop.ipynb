{
 "cells": [
  {
   "cell_type": "code",
   "execution_count": 1,
   "id": "85469a48-939c-4053-9fe3-7ed9c67ab921",
   "metadata": {},
   "outputs": [],
   "source": [
    "intlf# int x=967070125768125125301"
   ]
  },
  {
   "cell_type": "code",
   "execution_count": 3,
   "id": "ce73f472-e8e4-4fe9-982e-b2984556948f",
   "metadata": {},
   "outputs": [
    {
     "name": "stdout",
     "output_type": "stream",
     "text": [
      "i\n",
      "10\n",
      "40\n"
     ]
    }
   ],
   "source": [
    "\"\"\"for i in range(1,11):\n",
    "    print(i)\n",
    "int x=967070125768125125301\"\"\"\n",
    "class A:\n",
    "    x=10\n",
    "    __y=20\n",
    "    def s(self):\n",
    "        print(\"add\")\n",
    "    def work(self,x):\n",
    "        self.x=x\n",
    "        print(x)\n",
    "class B(A):\n",
    "    print(\"i\")\n",
    "    \n",
    "\n",
    "obj=B()\n",
    "print(obj.x)\n",
    "obj.work(40)\n"
   ]
  },
  {
   "cell_type": "code",
   "execution_count": 16,
   "id": "adbaa8cf-7984-4743-81de-d88ad2316375",
   "metadata": {},
   "outputs": [
    {
     "name": "stdin",
     "output_type": "stream",
     "text": [
      "Enter the string: nan\n",
      "Enter the number: 20\n",
      "Enter the number: 10\n"
     ]
    },
    {
     "name": "stdout",
     "output_type": "stream",
     "text": [
      "Reversed string: nan\n",
      "Square of the number: 400\n",
      "Length of the string: 3\n",
      "Modulus of the numbers: 0\n"
     ]
    }
   ],
   "source": [
    "class A:\n",
    "    def __init__(self):\n",
    "        self.a = input(\"Enter the string:\")\n",
    "        self.b = int(input(\"Enter the number:\"))\n",
    "        self.c = int(input(\"Enter the number:\"))\n",
    "        \n",
    "    def m1(self):\n",
    "        print(\"Reversed string:\",self.a[::-1])\n",
    "        print(\"Square of the number:\",self.b**2)\n",
    "        \n",
    "    def DisplayResults(self):\n",
    "        print(\"Length of the string:\",len(self.a))\n",
    "        print(\"Modulus of the numbers:\",self.b % self.c)\n",
    "\n",
    "obj = A()\n",
    "\n",
    "obj.m1()\n",
    "obj.DisplayResults()\n"
   ]
  },
  {
   "cell_type": "code",
   "execution_count": 31,
   "id": "1c6a1ba3-99df-43b1-8fc5-743acb3dfec5",
   "metadata": {},
   "outputs": [
    {
     "name": "stdout",
     "output_type": "stream",
     "text": [
      "20\n",
      "10\n",
      "10\n"
     ]
    }
   ],
   "source": [
    "class A:\n",
    "    a=10\n",
    "    def s(self,a):\n",
    "        print(a)\n",
    "        print(self.a)\n",
    "        a=self.a\n",
    "    def d(self):\n",
    "        print(self.a)\n",
    "obj=A()\n",
    "obj.s(20)\n",
    "obj.d()"
   ]
  },
  {
   "cell_type": "code",
   "execution_count": null,
   "id": "21a2e008-1df8-4b31-ad9d-820c99af348a",
   "metadata": {},
   "outputs": [],
   "source": []
  },
  {
   "cell_type": "code",
   "execution_count": 1,
   "id": "7266256a",
   "metadata": {},
   "outputs": [],
   "source": [
    "# int x=967070125768125125301"
   ]
  },
  {
   "cell_type": "code",
   "execution_count": 3,
   "id": "a9571cbd",
   "metadata": {},
   "outputs": [
    {
     "name": "stdout",
     "output_type": "stream",
     "text": [
      "i\n",
      "10\n",
      "40\n"
     ]
    }
   ],
   "source": [
    "\"\"\"for i in range(1,11):\n",
    "    print(i)\n",
    "int x=967070125768125125301\"\"\"\n",
    "class A:\n",
    "    x=10\n",
    "    __y=20\n",
    "    def s(self):\n",
    "        print(\"add\")\n",
    "    def work(self,x):\n",
    "        self.x=x\n",
    "        print(x)\n",
    "class B(A):\n",
    "    print(\"i\")\n",
    "    \n",
    "\n",
    "obj=B()\n",
    "print(obj.x)\n",
    "obj.work(40)\n"
   ]
  },
  {
   "cell_type": "code",
   "execution_count": 16,
   "id": "e397b3a0",
   "metadata": {},
   "outputs": [
    {
     "name": "stdin",
     "output_type": "stream",
     "text": [
      "Enter the string: nan\n",
      "Enter the number: 20\n",
      "Enter the number: 10\n"
     ]
    },
    {
     "name": "stdout",
     "output_type": "stream",
     "text": [
      "Reversed string: nan\n",
      "Square of the number: 400\n",
      "Length of the string: 3\n",
      "Modulus of the numbers: 0\n"
     ]
    }
   ],
   "source": [
    "class A:\n",
    "    def __init__(self):\n",
    "        self.a = input(\"Enter the string:\")\n",
    "        self.b = int(input(\"Enter the number:\"))\n",
    "        self.c = int(input(\"Enter the number:\"))\n",
    "        \n",
    "    def m1(self):\n",
    "        print(\"Reversed string:\",self.a[::-1])\n",
    "        print(\"Square of the number:\",self.b**2)\n",
    "        \n",
    "    def DisplayResults(self):\n",
    "        print(\"Length of the string:\",len(self.a))\n",
    "        print(\"Modulus of the numbers:\",self.b % self.c)\n",
    "\n",
    "obj = A()\n",
    "\n",
    "obj.m1()\n",
    "obj.DisplayResults()\n"
   ]
  },
  {
   "cell_type": "code",
   "execution_count": 31,
   "id": "cb1736f7",
   "metadata": {},
   "outputs": [
    {
     "name": "stdout",
     "output_type": "stream",
     "text": [
      "20\n",
      "10\n",
      "10\n"
     ]
    }
   ],
   "source": [
    "class A:\n",
    "    a=10\n",
    "    def s(self,a):\n",
    "        print(a)\n",
    "        print(self.a)\n",
    "        a=self.a\n",
    "    def d(self):\n",
    "        print(self.a)\n",
    "obj=A()\n",
    "obj.s(20)\n",
    "obj.d()"
   ]
  },
  {
   "cell_type": "code",
   "execution_count": null,
   "id": "f1188301",
   "metadata": {},
   "outputs": [],
   "source": []
  }
 ],
 "metadata": {
  "kernelspec": {
   "display_name": "Python 3 (ipykernel)",
   "language": "python",
   "name": "python3"
  },
  "language_info": {
   "codemirror_mode": {
    "name": "ipython",
    "version": 3
   },
   "file_extension": ".py",
   "mimetype": "text/x-python",
   "name": "python",
   "nbconvert_exporter": "python",
   "pygments_lexer": "ipython3",
   "version": "3.11.4"
  }
 },
 "nbformat": 4,
 "nbformat_minor": 5
}
