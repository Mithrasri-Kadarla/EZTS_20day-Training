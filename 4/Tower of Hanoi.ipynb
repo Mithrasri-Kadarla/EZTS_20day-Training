{
 "cells": [
  {
   "cell_type": "code",
   "execution_count": 1,
   "id": "ab491249-5dfe-4120-928a-77759e576d63",
   "metadata": {},
   "outputs": [
    {
     "name": "stdout",
     "output_type": "stream",
     "text": [
      "I moved from src to dest\n",
      "I moved from src to aux\n",
      "I moved from dest to aux\n",
      "I moved from src to dest\n",
      "I moved from aux to src\n",
      "I moved from aux to dest\n",
      "I moved from src to dest\n"
     ]
    }
   ],
   "source": [
    "def TOH(n, src, aux, dest):\n",
    "    if n == 1:\n",
    "        print(\"I moved from \"+src+\" to \" + dest)\n",
    "        return\n",
    "    TOH( n-1, src, dest, aux)\n",
    "    print(\"I moved from \"+src+\" to \" + dest)\n",
    "    TOH( n-1, aux, src, dest)\n",
    "n = 3\n",
    "TOH(n, 'src', 'aux', 'dest')"
   ]
  },
  {
   "cell_type": "code",
   "execution_count": null,
   "id": "9e526ab4-20a5-46ef-a379-fd4b41128e4e",
   "metadata": {},
   "outputs": [],
   "source": []
  }
 ],
 "metadata": {
  "kernelspec": {
   "display_name": "Python 3 (ipykernel)",
   "language": "python",
   "name": "python3"
  },
  "language_info": {
   "codemirror_mode": {
    "name": "ipython",
    "version": 3
   },
   "file_extension": ".py",
   "mimetype": "text/x-python",
   "name": "python",
   "nbconvert_exporter": "python",
   "pygments_lexer": "ipython3",
   "version": "3.11.4"
  }
 },
 "nbformat": 4,
 "nbformat_minor": 5
}
