{
 "cells": [
  {
   "cell_type": "code",
   "execution_count": 16,
   "id": "f157ae98",
   "metadata": {},
   "outputs": [
    {
     "name": "stdout",
     "output_type": "stream",
     "text": [
      "1000.0\n",
      "104000.0\n",
      "79000.0\n",
      "790.0\n",
      "3160.0\n",
      "92160.0\n",
      "3686.4\n",
      "95846.4\n"
     ]
    }
   ],
   "source": [
    "'''Swajith is having 1lakh in is bank account,Rate of interest is 12% per annum in the 5th month \n",
    "swajith is \n",
    "withdrwaing 25k rupees inordered to buy a gift to is loved one.In 9th month 10k Rs is going to be \n",
    "deposited\n",
    "End of the financial year how much swajith is having in his account (simple interest)'''\n",
    "p=100000\n",
    "R=12\n",
    "x=(R/12)*(1/100)\n",
    "PerLakh=x*p\n",
    "print(PerLakh)\n",
    "m=p+(PerLakh*4)\n",
    "print(m)\n",
    "In5=m-25000\n",
    "print(In5)\n",
    "OnePfrom5th=In5*x\n",
    "print(OnePfrom5th)\n",
    "Add=(4*OnePfrom5th)\n",
    "print(Add)\n",
    "In8=In5+Add+10000\n",
    "print(In8)\n",
    "Upto12=In8*x*4\n",
    "print(Upto12)\n",
    "print(In8+Upto12)"
   ]
  },
  {
   "cell_type": "code",
   "execution_count": 11,
   "id": "aa4b9253",
   "metadata": {},
   "outputs": [
    {
     "name": "stdout",
     "output_type": "stream",
     "text": [
      "Enter the actual amount:100000\n",
      "Enter the Rate of Interest:12\n",
      "Enter the Time in months:12\n",
      "0.01\n",
      "Upto 4th month =  104000.0\n",
      "After withdrawing 25k= 79000.0\n",
      "82160.0\n"
     ]
    }
   ],
   "source": [
    "Actual=int(input(\"Enter the actual amount:\"))\n",
    "ROI=int(input(\"Enter the Rate of Interest:\"))\n",
    "Time=int(input(\"Enter the Time in months:\"))\n",
    "Percentage=(ROI/Time)*(1/100)\n",
    "print(Percentage)\n",
    "upto4=Actual+(Percentage*Actual*4)\n",
    "print(\"Upto 4th month = \",upto4)\n",
    "At5th=upto4-25000\n",
    "print(\"After withdrawing 25k=\",At5th)\n",
    "Per_At5th=At5th+(Percentage*At5th*4)\n",
    "print(Per_At5th)"
   ]
  },
  {
   "cell_type": "code",
   "execution_count": 27,
   "id": "26e7c964",
   "metadata": {},
   "outputs": [
    {
     "name": "stdout",
     "output_type": "stream",
     "text": [
      "100000\n",
      "Total: 95400.0\n"
     ]
    }
   ],
   "source": [
    "p=int(input())\n",
    "SI1=(p*(4/12)*12)/100\n",
    "p-=25000\n",
    "SI2=(p*(4/12)*12)/100\n",
    "p+=10000\n",
    "SI3=(p*(4/12)*12)/100\n",
    "p=p+SI1+SI2+SI3\n",
    "print(\"Total:\",p)"
   ]
  },
  {
   "cell_type": "code",
   "execution_count": 29,
   "id": "03961e07",
   "metadata": {},
   "outputs": [
    {
     "name": "stdout",
     "output_type": "stream",
     "text": [
      "140714026722088\n"
     ]
    }
   ],
   "source": [
    "a=1\n",
    "print(id(a))# to find memory address"
   ]
  },
  {
   "cell_type": "code",
   "execution_count": null,
   "id": "58358e51",
   "metadata": {},
   "outputs": [],
   "source": []
  }
 ],
 "metadata": {
  "kernelspec": {
   "display_name": "Python 3 (ipykernel)",
   "language": "python",
   "name": "python3"
  },
  "language_info": {
   "codemirror_mode": {
    "name": "ipython",
    "version": 3
   },
   "file_extension": ".py",
   "mimetype": "text/x-python",
   "name": "python",
   "nbconvert_exporter": "python",
   "pygments_lexer": "ipython3",
   "version": "3.11.4"
  }
 },
 "nbformat": 4,
 "nbformat_minor": 5
}
