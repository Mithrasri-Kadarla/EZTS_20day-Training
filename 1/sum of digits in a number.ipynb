{
 "cells": [
  {
   "cell_type": "code",
   "execution_count": 21,
   "id": "4da8633e",
   "metadata": {},
   "outputs": [
    {
     "name": "stdout",
     "output_type": "stream",
     "text": [
      "Enter the number:12396\n",
      "[1, 2, 3, 9, 6]\n",
      "21\n"
     ]
    }
   ],
   "source": [
    "def split_digits(number):\n",
    "    digits = []\n",
    "    while number > 0:\n",
    "        digits.insert(0, number % 10)\n",
    "        number = number // 10\n",
    "    return digits\n",
    "number =int(input(\"Enter the number:\"))\n",
    "result = split_digits(number)\n",
    "print(result)\n",
    "print(sum(result))"
   ]
  },
  {
   "cell_type": "code",
   "execution_count": 32,
   "id": "50510402",
   "metadata": {},
   "outputs": [
    {
     "name": "stdout",
     "output_type": "stream",
     "text": [
      "6\n"
     ]
    }
   ],
   "source": [
    "x=123\n",
    "c=0\n",
    "while x!=0:\n",
    "    c+=(x%10)\n",
    "    x//=10\n",
    "print(c)"
   ]
  },
  {
   "cell_type": "code",
   "execution_count": 38,
   "id": "d2d1007b",
   "metadata": {},
   "outputs": [
    {
     "name": "stdout",
     "output_type": "stream",
     "text": [
      "5\n"
     ]
    }
   ],
   "source": [
    "x=122\n",
    "sx=str(x)\n",
    "l=[]\n",
    "for i in range(len(str(x))):\n",
    "    l.append(int(sx[i]))\n",
    "print(sum(l))"
   ]
  },
  {
   "cell_type": "code",
   "execution_count": null,
   "id": "7999c290",
   "metadata": {},
   "outputs": [],
   "source": []
  }
 ],
 "metadata": {
  "kernelspec": {
   "display_name": "Python 3 (ipykernel)",
   "language": "python",
   "name": "python3"
  },
  "language_info": {
   "codemirror_mode": {
    "name": "ipython",
    "version": 3
   },
   "file_extension": ".py",
   "mimetype": "text/x-python",
   "name": "python",
   "nbconvert_exporter": "python",
   "pygments_lexer": "ipython3",
   "version": "3.11.4"
  }
 },
 "nbformat": 4,
 "nbformat_minor": 5
}
