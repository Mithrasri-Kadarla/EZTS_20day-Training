{
 "cells": [
  {
   "cell_type": "code",
   "execution_count": 1,
   "id": "237a7182-65b1-4af4-8bba-a1f5581e39c4",
   "metadata": {},
   "outputs": [
    {
     "name": "stdout",
     "output_type": "stream",
     "text": [
      "{'key': 'value', 0: 'one', 1.3: 'one.three'}\n",
      "one\n",
      "{'key': 'value', 1.3: 'one.three'}\n",
      "key\n",
      "{'key': 'value', 1.3: 'one.three'}\n",
      "no\n"
     ]
    }
   ],
   "source": [
    "#hash map\n",
    "my_map={}\n",
    "#putting key value pair\n",
    "my_map[\"key\"]=\"value\"\n",
    "my_map[0]=\"one\"\n",
    "my_map[1.3]=\"one.three\"\n",
    "print(my_map)\n",
    "print(my_map[0])\n",
    "del my_map[0]\n",
    "print(my_map)\n",
    "if \"key\" in my_map:\n",
    "    print(\"key\")\n",
    "    \n",
    "else:\n",
    "    print(\"no value\")\n",
    "#printing and  default if key does not exist\n",
    "print(my_map)\n",
    "try:\n",
    "    print(my_map[10])\n",
    "except:\n",
    "    print(\"no\")"
   ]
  },
  {
   "cell_type": "code",
   "execution_count": 5,
   "id": "bf7ea740",
   "metadata": {},
   "outputs": [
    {
     "name": "stdin",
     "output_type": "stream",
     "text": [
      " 5\n"
     ]
    },
    {
     "name": "stdout",
     "output_type": "stream",
     "text": [
      "2\n"
     ]
    }
   ],
   "source": [
    "n=int(input())\n",
    "c=0\n",
    "while(n):\n",
    "    n=n&(n-1)\n",
    "    c+=1\n",
    "print(c) "
   ]
  },
  {
   "cell_type": "code",
   "execution_count": 6,
   "id": "47133c93-7bf6-4c4e-ac4d-0de18474a880",
   "metadata": {},
   "outputs": [
    {
     "name": "stdout",
     "output_type": "stream",
     "text": [
      "0b1101\n"
     ]
    }
   ],
   "source": [
    "print(bin(13))"
   ]
  },
  {
   "cell_type": "code",
   "execution_count": 7,
   "id": "a0e29fe6-0ffa-4cf1-9491-6bd96ac14a9d",
   "metadata": {},
   "outputs": [
    {
     "name": "stdout",
     "output_type": "stream",
     "text": [
      "[2, 4]\n"
     ]
    }
   ],
   "source": [
    "a=[1,2,4]\n",
    "a.remove(1)\n",
    "print(a)\n"
   ]
  },
  {
   "cell_type": "code",
   "execution_count": 8,
   "id": "688937af-4555-4290-a773-c599ae1f2734",
   "metadata": {},
   "outputs": [
    {
     "name": "stdout",
     "output_type": "stream",
     "text": [
      "[4, 7]\n",
      "[4]\n"
     ]
    }
   ],
   "source": [
    "a=[1,4,7]\n",
    "for i in a:\n",
    "    a.remove(i)\n",
    "    print(a)"
   ]
  },
  {
   "cell_type": "code",
   "execution_count": 10,
   "id": "9b39e56f-ecc9-4288-bab5-7ac16e8e0dd7",
   "metadata": {},
   "outputs": [
    {
     "name": "stdout",
     "output_type": "stream",
     "text": [
      "[3, 3, 5, 5, 6, 7]\n"
     ]
    }
   ],
   "source": [
    "def maxSlidingWindow(nums,k):\n",
    "        x=[]\n",
    "        i,j=0,k-1\n",
    "        while j<len(nums):\n",
    "            s=max(nums[i:j+1])\n",
    "            x.append(s)\n",
    "            i+=1\n",
    "            j+=1\n",
    "        return x\n",
    "nums=[1,3,-1,-3,5,3,6,7]\n",
    "k=3\n",
    "print(maxSlidingWindow(nums,k))"
   ]
  },
  {
   "cell_type": "code",
   "execution_count": 11,
   "id": "0395264e-14f2-42b7-a226-5b6dc6d1563d",
   "metadata": {},
   "outputs": [
    {
     "name": "stdout",
     "output_type": "stream",
     "text": [
      "[-1, 10]\n",
      "10\n"
     ]
    }
   ],
   "source": [
    "from heapq import heappop,heapify,heappush,_heapify_max\n",
    "max_heap=[-1,-4,-2,-6]\n",
    "heappush(max_heap,10)\n",
    "heapify(max_heap)\n",
    "e=(heappop(max_heap))\n",
    "e=(heappop(max_heap))\n",
    "e=(heappop(max_heap))\n",
    "print(max_heap)\n",
    "_heapify_max(max_heap)\n",
    "print(heappop(max_heap))"
   ]
  },
  {
   "cell_type": "code",
   "execution_count": 16,
   "id": "00dd49e3-e606-4129-bd8c-d8e206454eae",
   "metadata": {},
   "outputs": [
    {
     "name": "stdout",
     "output_type": "stream",
     "text": [
      "False\n"
     ]
    }
   ],
   "source": [
    "vertices = 7\n",
    "graph = [[] for i in range(vertices)]\n",
    "graph[0] = [[0,1,3],[0,4,2]]\n",
    "graph[1] = [[1,0,3],[1,3,5],[1,7,10]]\n",
    "\n",
    "def has_path(graph, src, des, visited):\n",
    "    if src == des:\n",
    "        return True\n",
    "    visited[src] = True\n",
    "    for neighbour in graph[src]:\n",
    "        if not visited[neighbour[1]]:\n",
    "            result = has_path(graph, neighbour[1], des, visited)\n",
    "            if result:\n",
    "                return True\n",
    "    return False\n",
    "\n",
    "visited = [False] * vertices\n",
    "print(has_path(graph, 3, 4, visited))\n"
   ]
  },
  {
   "cell_type": "code",
   "execution_count": 21,
   "id": "6f547fb8-0015-40f0-9cfb-1227f9994bb1",
   "metadata": {},
   "outputs": [
    {
     "name": "stdout",
     "output_type": "stream",
     "text": [
      "**** ****\n",
      "***   ***\n",
      "**     **\n",
      "*       *\n",
      "         \n",
      "  * * *   \n",
      "*       * \n",
      "*       * \n",
      "*       * \n",
      "  * * *   \n",
      "a \n",
      "b c \n",
      "d e f \n",
      "g h i j \n",
      "k l m n o \n",
      "p q r s t u \n",
      "v w x y z a b \n",
      "c d e f g h i j \n",
      "k l m n o p q r s \n",
      "t u v w x y z a b c \n",
      "    1     \n",
      "   1  2    \n",
      "  1    3   \n",
      " 1      4  \n",
      "1 2 3 4 5     \n"
     ]
    }
   ],
   "source": [
    "def pyramid(n):\n",
    "    row = n\n",
    "    col = 2*n-1\n",
    "    start , end = n-1 , n-1\n",
    "    for i in range(row):\n",
    "        for j in range(col):\n",
    "            if j>=start and j<=end:\n",
    "                print(\" \",end=\"\")\n",
    "            else:\n",
    "                print(\"*\",end=\"\")\n",
    "        print()\n",
    "        start-=1\n",
    "        end+=1\n",
    "pyramid(5)\n",
    "def circle(n):\n",
    "    row = n\n",
    "    col = n\n",
    "    for i in range(row):\n",
    "        for j in range(col):\n",
    "            if i==j or (i+j) == n-1:\n",
    "                print(\" \",end=\" \")\n",
    "            elif i==0 or i==n-1 or j==0 or j==n-1:\n",
    "                print(\"*\",end=\" \")\n",
    "            else:\n",
    "                print(\" \",end=\" \")\n",
    "        print()\n",
    "circle(5)\n",
    "def upper_trangular(n):\n",
    "    char = 'a'\n",
    "    for i in range(1,n+1):\n",
    "        for j in range(i):\n",
    "            print(char,end=\" \")\n",
    "            char = chr(ord(char)+1)\n",
    "            if char > 'z':\n",
    "                char = 'a'\n",
    "        print()\n",
    "upper_trangular(10)\n",
    "def hollow_pyramid(n):\n",
    "    row = n\n",
    "    col = 2*n-1\n",
    "    start , end = n-1 , n-1\n",
    "    var = 2\n",
    "    var2 = 1\n",
    "    for i in range(row):\n",
    "        for j in range(col):\n",
    "            if (j==start or j==end) and i!=n-1:\n",
    "                if start == end:\n",
    "                    print(1,end=\" \")\n",
    "                elif j==start:\n",
    "                    print(1,end=\" \")\n",
    "                else:\n",
    "                    print(var,end=\" \")\n",
    "                    var+=1\n",
    "            elif i==n-1 and (j>=start and j<=n-1):\n",
    "                print(var2,end=\" \")\n",
    "                var2+=1\n",
    "            else:\n",
    "                print(\" \",end=\"\")\n",
    "            \n",
    "        print()\n",
    "        start-=1\n",
    "        end+=1\n",
    "\n",
    "\n",
    "\n",
    "hollow_pyramid(5)\n",
    "\n",
    "\n",
    "\n"
   ]
  },
  {
   "cell_type": "code",
   "execution_count": 23,
   "id": "d2da35fc-66b5-42d5-92a7-c665f67cc3d3",
   "metadata": {},
   "outputs": [
    {
     "name": "stdout",
     "output_type": "stream",
     "text": [
      "45\n"
     ]
    }
   ],
   "source": [
    "def sliding_window(arr,k):\n",
    "    _sum = 0\n",
    "    ps = 0\n",
    "    i,j = 0,k-1\n",
    "    while j<len(arr):\n",
    "        if i==0:\n",
    "            _sum = sum(arr[i:j+1])\n",
    "            ps = _sum\n",
    "        else:\n",
    "            cs = ps - arr[i-1]+arr[j]\n",
    "            _sum = max(_sum,cs)\n",
    "            ps = cs\n",
    "        i+=1\n",
    "        j+=1\n",
    "    return _sum\n",
    "\n",
    "print(sliding_window(\n",
    "    [-3,20,3,-9,18,-45,23,67],3\n",
    "))\n",
    "  "
   ]
  },
  {
   "cell_type": "code",
   "execution_count": null,
   "id": "f24fa524-d7ac-4cf6-876b-c9297ecefcbb",
   "metadata": {},
   "outputs": [],
   "source": []
  }
 ],
 "metadata": {
  "kernelspec": {
   "display_name": "Python 3 (ipykernel)",
   "language": "python",
   "name": "python3"
  },
  "language_info": {
   "codemirror_mode": {
    "name": "ipython",
    "version": 3
   },
   "file_extension": ".py",
   "mimetype": "text/x-python",
   "name": "python",
   "nbconvert_exporter": "python",
   "pygments_lexer": "ipython3",
   "version": "3.11.4"
  }
 },
 "nbformat": 4,
 "nbformat_minor": 5
}
