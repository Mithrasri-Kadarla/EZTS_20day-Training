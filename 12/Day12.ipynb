{
 "cells": [
  {
   "cell_type": "code",
   "execution_count": 21,
   "id": "4a8a5304-7763-4106-8e7b-2278bdce2c0e",
   "metadata": {},
   "outputs": [
    {
     "name": "stdout",
     "output_type": "stream",
     "text": [
      "Duplicate element is: 3\n",
      "Duplicate element is: 7\n",
      "Missing Element: 8\n"
     ]
    }
   ],
   "source": [
    "#n=int(input(\"Enter the size:\"))#10\n",
    "#l=list(map(int,input(\"Enter the array elements:\").split()))#2 4 6 1 3 5 8 9\n",
    "\n",
    "n =10\n",
    "l = [1,2,3,4,5,6,7,10,9]\n",
    "\n",
    "c=0\n",
    "for i in range(1,n+1):#XOR of elements from 1 to max element of an array\n",
    "    c=c^i\n",
    "b=0\n",
    "for i in l:#Xor of elements in an array\n",
    "    b=b^i\n",
    "print(\"Missing Element:\",c^b)"
   ]
  },
  {
   "cell_type": "code",
   "execution_count": 7,
   "id": "c6adff2a-4e24-47b5-8061-bd07dd8a3b29",
   "metadata": {},
   "outputs": [
    {
     "data": {
      "text/plain": [
       "6"
      ]
     },
     "execution_count": 7,
     "metadata": {},
     "output_type": "execute_result"
    }
   ],
   "source": [
    "2^4^6^1^3^5^8^9"
   ]
  },
  {
   "cell_type": "code",
   "execution_count": 8,
   "id": "1b43d263-2c68-4eef-b60d-ef18b8bde247",
   "metadata": {},
   "outputs": [
    {
     "data": {
      "text/plain": [
       "1"
      ]
     },
     "execution_count": 8,
     "metadata": {},
     "output_type": "execute_result"
    }
   ],
   "source": [
    "1^2^3^4^5^6^7^8^9"
   ]
  },
  {
   "cell_type": "code",
   "execution_count": 9,
   "id": "9c154c12-8802-477a-95f0-c7c98db757b6",
   "metadata": {},
   "outputs": [
    {
     "data": {
      "text/plain": [
       "7"
      ]
     },
     "execution_count": 9,
     "metadata": {},
     "output_type": "execute_result"
    }
   ],
   "source": [
    "6^1"
   ]
  },
  {
   "cell_type": "code",
   "execution_count": 37,
   "id": "f2f3278a-1ab9-46ca-b9e1-6f8280712c41",
   "metadata": {},
   "outputs": [
    {
     "name": "stdout",
     "output_type": "stream",
     "text": [
      "The repeated elements are: [1, 2, 4]\n"
     ]
    }
   ],
   "source": [
    "def find_duplicates(arr):\n",
    "    seen = set()\n",
    "    duplicates = set()\n",
    "\n",
    "    for item in arr:\n",
    "        if item in seen:\n",
    "            duplicates.add(item)\n",
    "        else:\n",
    "            seen.add(item)\n",
    "\n",
    "    return list(duplicates)\n",
    "\n",
    "# Example Usage\n",
    "arr = [1, 2, 3, 2, 1, 4, 4]\n",
    "repeated_elements = find_duplicates(arr)\n",
    "print(f\"The repeated elements are: {repeated_elements}\")\n"
   ]
  },
  {
   "cell_type": "code",
   "execution_count": 47,
   "id": "4c122a38-2dac-46d3-894f-3bf288b0894d",
   "metadata": {},
   "outputs": [
    {
     "name": "stdin",
     "output_type": "stream",
     "text": [
      " 15\n"
     ]
    },
    {
     "name": "stdout",
     "output_type": "stream",
     "text": [
      "True\n",
      "(4, {(13, 2), (6, 9), (7, 8), (18, -3)})\n"
     ]
    }
   ],
   "source": [
    "#arr[i]+arr[i+1]=target     target-arr[i+1]=arr[i]\n",
    "def is_pair_exist(arr,target):\n",
    "    pairs=set()\n",
    "    pairs2=set()\n",
    "    c=0\n",
    "    for i in arr:\n",
    "        j=target-i\n",
    "        if j in pairs:\n",
    "            c+=1\n",
    "            pairs2.add((i,j))\n",
    "        pairs.add(i)\n",
    "    if c>0:\n",
    "        print(\"True\")\n",
    "    else:\n",
    "        print(\"False\")\n",
    "    return c,pairs2\n",
    "arr=[-3,8,7,2,-5,13,18,9,6]\n",
    "target=int(input())\n",
    "x=is_pair_exist(arr,target)\n",
    "print(x)\n"
   ]
  },
  {
   "cell_type": "code",
   "execution_count": 48,
   "id": "35524cbe-2e35-42f9-80b2-27a958221779",
   "metadata": {},
   "outputs": [
    {
     "name": "stdin",
     "output_type": "stream",
     "text": [
      " 10\n"
     ]
    },
    {
     "name": "stdout",
     "output_type": "stream",
     "text": [
      "True\n"
     ]
    }
   ],
   "source": [
    "def two_pointer(arr,target):\n",
    "    arr.sort()\n",
    "    i,j=0,len(arr)-1\n",
    "    while i<j:\n",
    "        if arr[i]+arr[j]==target:\n",
    "            return True\n",
    "        if arr[i]+arr[j]<target:\n",
    "            i+=1\n",
    "        if arr[i]+arr[j]>target:\n",
    "            j-=1\n",
    "    return False\n",
    "arr=[-3,8,7,2,-5,13,18,9,6]\n",
    "target=int(input())\n",
    "print(two_pointer(arr,target))"
   ]
  },
  {
   "cell_type": "code",
   "execution_count": 59,
   "id": "92081c41-3595-4862-bf95-df0edecaacab",
   "metadata": {},
   "outputs": [
    {
     "name": "stdout",
     "output_type": "stream",
     "text": [
      "0 3\n",
      "1 12\n",
      "2 10\n",
      "3 18\n",
      "4 25\n",
      "5 31\n",
      "6 36\n",
      "[3, 12, 10, 18, 25, 31, 36]\n",
      "21\n"
     ]
    }
   ],
   "source": [
    "l=[3,9,-2,8,7,6,5]\n",
    "s=0\n",
    "sl=[]\n",
    "for i,j in enumerate(l):\n",
    "    s+=j\n",
    "    sl.append(s)\n",
    "    print(i,s)\n",
    "print(sl)\n",
    "r=sl[5]-sl[2]\n",
    "print(r)"
   ]
  },
  {
   "cell_type": "code",
   "execution_count": 69,
   "id": "0f869c9f-ac53-4883-a844-108dc05eaccb",
   "metadata": {},
   "outputs": [
    {
     "name": "stdout",
     "output_type": "stream",
     "text": [
      "10 19 26 "
     ]
    }
   ],
   "source": [
    "def query_subarray_sum(arr,q):\n",
    "    n=len(arr)\n",
    "    ps=[0 for i in range(n)]\n",
    "    for i in range(n):\n",
    "        if i==0:\n",
    "            ps[i]=arr[i]\n",
    "        else:\n",
    "            ps[i]=ps[i-1]+arr[i]\n",
    "    for query in q:\n",
    "        i=query[0]\n",
    "        j=query[1]\n",
    "        if i==0:\n",
    "            print(ps[j],end=\" \")\n",
    "        else:\n",
    "            print(ps[j]-ps[i-1],end=\" \")\n",
    "l=[3,9,-2,8,7,6,5]\n",
    "q=[[0,2],[2,5],[3,6]]        \n",
    "query_subarray_sum(l,q)"
   ]
  },
  {
   "cell_type": "code",
   "execution_count": 18,
   "id": "dee531a6-5f9d-4fd7-ae40-de8125f773c9",
   "metadata": {},
   "outputs": [
    {
     "name": "stdout",
     "output_type": "stream",
     "text": [
      "21\n"
     ]
    }
   ],
   "source": [
    "def sliding_window(l,k):# Maximum subarray of given size \n",
    "    s=0\n",
    "    ps=0\n",
    "    i,j=0,k-1\n",
    "    while j<len(l):\n",
    "        if i==0:\n",
    "            s=sum(l[i:j+1])\n",
    "            ps=s\n",
    "        else:\n",
    "            cs=ps-l[i-1]+l[j]\n",
    "            s=max(s,cs)\n",
    "        i+=1\n",
    "        j+=1\n",
    "    return s\n",
    "l=[-3,8,5,2,7,9,-11,18]\n",
    "k=3\n",
    "print(sliding_window(l,k))"
   ]
  },
  {
   "cell_type": "code",
   "execution_count": 33,
   "id": "02dd40f6-4e4e-42ce-a38c-b7c31f485dfb",
   "metadata": {},
   "outputs": [
    {
     "name": "stdout",
     "output_type": "stream",
     "text": [
      "2\n",
      "1\n",
      "3\n",
      "3\n",
      "3\n",
      "6\n",
      "-4\n",
      "6\n",
      "6\n",
      "6\n"
     ]
    }
   ],
   "source": [
    "def max_subarr(arr):\n",
    "    ms=arr[0]\n",
    "    cs=arr[0]\n",
    "    for i in arr[1:]:\n",
    "        print(i)\n",
    "        cs=max(i,cs+i)\n",
    "        print(ms)\n",
    "        ms=max(ms,cs)\n",
    "        print(ms)\n",
    "    return ms\n",
    "arr=[1,2,3,-4]\n",
    "x=max_subarr(arr)\n",
    "print(x)"
   ]
  },
  {
   "cell_type": "code",
   "execution_count": 21,
   "id": "fc47a245",
   "metadata": {},
   "outputs": [
    {
     "name": "stdout",
     "output_type": "stream",
     "text": [
      "Duplicate element is: 3\n",
      "Duplicate element is: 7\n",
      "Missing Element: 8\n"
     ]
    }
   ],
   "source": [
    "#n=int(input(\"Enter the size:\"))#10\n",
    "#l=list(map(int,input(\"Enter the array elements:\").split()))#2 4 6 1 3 5 8 9\n",
    "\n",
    "n =10\n",
    "l = [1,2,3,4,5,6,7,10,9]\n",
    "\n",
    "c=0\n",
    "for i in range(1,n+1):#XOR of elements from 1 to max element of an array\n",
    "    c=c^i\n",
    "b=0\n",
    "for i in l:#Xor of elements in an array\n",
    "    b=b^i\n",
    "print(\"Missing Element:\",c^b)"
   ]
  },
  {
   "cell_type": "code",
   "execution_count": 7,
   "id": "d3b01e48",
   "metadata": {},
   "outputs": [
    {
     "data": {
      "text/plain": [
       "6"
      ]
     },
     "execution_count": 7,
     "metadata": {},
     "output_type": "execute_result"
    }
   ],
   "source": [
    "2^4^6^1^3^5^8^9"
   ]
  },
  {
   "cell_type": "code",
   "execution_count": 8,
   "id": "533c0184",
   "metadata": {},
   "outputs": [
    {
     "data": {
      "text/plain": [
       "1"
      ]
     },
     "execution_count": 8,
     "metadata": {},
     "output_type": "execute_result"
    }
   ],
   "source": [
    "1^2^3^4^5^6^7^8^9"
   ]
  },
  {
   "cell_type": "code",
   "execution_count": 9,
   "id": "b07c4f2e",
   "metadata": {},
   "outputs": [
    {
     "data": {
      "text/plain": [
       "7"
      ]
     },
     "execution_count": 9,
     "metadata": {},
     "output_type": "execute_result"
    }
   ],
   "source": [
    "6^1"
   ]
  },
  {
   "cell_type": "code",
   "execution_count": 37,
   "id": "e6c2d203",
   "metadata": {},
   "outputs": [
    {
     "name": "stdout",
     "output_type": "stream",
     "text": [
      "The repeated elements are: [1, 2, 4]\n"
     ]
    }
   ],
   "source": [
    "def find_duplicates(arr):\n",
    "    seen = set()\n",
    "    duplicates = set()\n",
    "\n",
    "    for item in arr:\n",
    "        if item in seen:\n",
    "            duplicates.add(item)\n",
    "        else:\n",
    "            seen.add(item)\n",
    "\n",
    "    return list(duplicates)\n",
    "\n",
    "# Example Usage\n",
    "arr = [1, 2, 3, 2, 1, 4, 4]\n",
    "repeated_elements = find_duplicates(arr)\n",
    "print(f\"The repeated elements are: {repeated_elements}\")\n"
   ]
  },
  {
   "cell_type": "code",
   "execution_count": 47,
   "id": "140b7c0f",
   "metadata": {},
   "outputs": [
    {
     "name": "stdin",
     "output_type": "stream",
     "text": [
      " 15\n"
     ]
    },
    {
     "name": "stdout",
     "output_type": "stream",
     "text": [
      "True\n",
      "(4, {(13, 2), (6, 9), (7, 8), (18, -3)})\n"
     ]
    }
   ],
   "source": [
    "#arr[i]+arr[i+1]=target     target-arr[i+1]=arr[i]\n",
    "def is_pair_exist(arr,target):\n",
    "    pairs=set()\n",
    "    pairs2=set()\n",
    "    c=0\n",
    "    for i in arr:\n",
    "        j=target-i\n",
    "        if j in pairs:\n",
    "            c+=1\n",
    "            pairs2.add((i,j))\n",
    "        pairs.add(i)\n",
    "    if c>0:\n",
    "        print(\"True\")\n",
    "    else:\n",
    "        print(\"False\")\n",
    "    return c,pairs2\n",
    "arr=[-3,8,7,2,-5,13,18,9,6]\n",
    "target=int(input())\n",
    "x=is_pair_exist(arr,target)\n",
    "print(x)\n"
   ]
  },
  {
   "cell_type": "code",
   "execution_count": 48,
   "id": "ba74293c",
   "metadata": {},
   "outputs": [
    {
     "name": "stdin",
     "output_type": "stream",
     "text": [
      " 10\n"
     ]
    },
    {
     "name": "stdout",
     "output_type": "stream",
     "text": [
      "True\n"
     ]
    }
   ],
   "source": [
    "def two_pointer(arr,target):\n",
    "    arr.sort()\n",
    "    i,j=0,len(arr)-1\n",
    "    while i<j:\n",
    "        if arr[i]+arr[j]==target:\n",
    "            return True\n",
    "        if arr[i]+arr[j]<target:\n",
    "            i+=1\n",
    "        if arr[i]+arr[j]>target:\n",
    "            j-=1\n",
    "    return False\n",
    "arr=[-3,8,7,2,-5,13,18,9,6]\n",
    "target=int(input())\n",
    "print(two_pointer(arr,target))"
   ]
  },
  {
   "cell_type": "code",
   "execution_count": 59,
   "id": "bbe9421d",
   "metadata": {},
   "outputs": [
    {
     "name": "stdout",
     "output_type": "stream",
     "text": [
      "0 3\n",
      "1 12\n",
      "2 10\n",
      "3 18\n",
      "4 25\n",
      "5 31\n",
      "6 36\n",
      "[3, 12, 10, 18, 25, 31, 36]\n",
      "21\n"
     ]
    }
   ],
   "source": [
    "l=[3,9,-2,8,7,6,5]\n",
    "s=0\n",
    "sl=[]\n",
    "for i,j in enumerate(l):\n",
    "    s+=j\n",
    "    sl.append(s)\n",
    "    print(i,s)\n",
    "print(sl)\n",
    "r=sl[5]-sl[2]\n",
    "print(r)"
   ]
  },
  {
   "cell_type": "code",
   "execution_count": 69,
   "id": "cdd28c9a",
   "metadata": {},
   "outputs": [
    {
     "name": "stdout",
     "output_type": "stream",
     "text": [
      "10 19 26 "
     ]
    }
   ],
   "source": [
    "def query_subarray_sum(arr,q):\n",
    "    n=len(arr)\n",
    "    ps=[0 for i in range(n)]\n",
    "    for i in range(n):\n",
    "        if i==0:\n",
    "            ps[i]=arr[i]\n",
    "        else:\n",
    "            ps[i]=ps[i-1]+arr[i]\n",
    "    for query in q:\n",
    "        i=query[0]\n",
    "        j=query[1]\n",
    "        if i==0:\n",
    "            print(ps[j],end=\" \")\n",
    "        else:\n",
    "            print(ps[j]-ps[i-1],end=\" \")\n",
    "l=[3,9,-2,8,7,6,5]\n",
    "q=[[0,2],[2,5],[3,6]]        \n",
    "query_subarray_sum(l,q)"
   ]
  },
  {
   "cell_type": "code",
   "execution_count": 18,
   "id": "2172682b",
   "metadata": {},
   "outputs": [
    {
     "name": "stdout",
     "output_type": "stream",
     "text": [
      "21\n"
     ]
    }
   ],
   "source": [
    "def sliding_window(l,k):# Maximum subarray of given size \n",
    "    s=0\n",
    "    ps=0\n",
    "    i,j=0,k-1\n",
    "    while j<len(l):\n",
    "        if i==0:\n",
    "            s=sum(l[i:j+1])\n",
    "            ps=s\n",
    "        else:\n",
    "            cs=ps-l[i-1]+l[j]\n",
    "            s=max(s,cs)\n",
    "        i+=1\n",
    "        j+=1\n",
    "    return s\n",
    "l=[-3,8,5,2,7,9,-11,18]\n",
    "k=3\n",
    "print(sliding_window(l,k))"
   ]
  },
  {
   "cell_type": "code",
   "execution_count": 34,
   "id": "28741fa3",
   "metadata": {},
   "outputs": [
    {
     "name": "stdout",
     "output_type": "stream",
     "text": [
      "6\n"
     ]
    }
   ],
   "source": [
    "def max_subarr(arr):\n",
    "    ms=arr[0]\n",
    "    cs=arr[0]\n",
    "    for i in arr[1:]:\n",
    "        cs=max(i,cs+i)\n",
    "        ms=max(ms,cs)\n",
    "    return ms\n",
    "arr=[1,2,3,-4]\n",
    "x=max_subarr(arr)\n",
    "print(x)"
   ]
  },
  {
   "cell_type": "markdown",
   "id": "6f067803-2969-48a2-917c-e51b425d081f",
   "metadata": {},
   "source": [
    "## Kadanes algorithm"
   ]
  },
  {
   "cell_type": "code",
   "execution_count": 37,
   "id": "466aae57-0833-4dd2-b031-a5faca18aeac",
   "metadata": {},
   "outputs": [
    {
     "name": "stdout",
     "output_type": "stream",
     "text": [
      "30\n"
     ]
    }
   ],
   "source": [
    "def kadanes(arr):\n",
    "    s=float('-inf')\n",
    "    cs=arr[0]\n",
    "    n=len(arr)\n",
    "    for i in range(1,n):\n",
    "        if cs<0:\n",
    "            cs=0\n",
    "        cs+=arr[i]\n",
    "        if arr[i]<0:\n",
    "            s=max(s,cs+arr[i])\n",
    "    return max(s,cs)\n",
    "l=[-3,-2,-19,18,6,-3,15,9,-17,2]\n",
    "print(kadanes(l))"
   ]
  },
  {
   "cell_type": "code",
   "execution_count": 38,
   "id": "d9f1535e-0e18-46c4-b219-03f32927b8c1",
   "metadata": {},
   "outputs": [
    {
     "data": {
      "text/plain": [
       "45"
      ]
     },
     "execution_count": 38,
     "metadata": {},
     "output_type": "execute_result"
    }
   ],
   "source": [
    "18+6-3+15+9"
   ]
  },
  {
   "cell_type": "code",
   "execution_count": 45,
   "id": "a806d6f2-ed31-4e44-a102-83f1997799d4",
   "metadata": {},
   "outputs": [
    {
     "name": "stdout",
     "output_type": "stream",
     "text": [
      "45\n"
     ]
    }
   ],
   "source": [
    "def kadanes(arr):\n",
    "    _sum=float(\"-inf\")\n",
    "    cs=arr[0]\n",
    "    n=len(arr)\n",
    "    for i in range(1,n):\n",
    "        if cs<0:\n",
    "            cs=0\n",
    "        cs=cs+arr[i]\n",
    "        _sum=max(_sum,cs)\n",
    "\n",
    "    return _sum\n",
    "print(kadanes([-3,-2,-19,18,6,-3,15,9,-17,2]))"
   ]
  },
  {
   "cell_type": "code",
   "execution_count": null,
   "id": "f43f417a-7ae4-47f0-b370-92f96a9cc6bd",
   "metadata": {},
   "outputs": [],
   "source": []
  }
 ],
 "metadata": {
  "kernelspec": {
   "display_name": "Python 3 (ipykernel)",
   "language": "python",
   "name": "python3"
  },
  "language_info": {
   "codemirror_mode": {
    "name": "ipython",
    "version": 3
   },
   "file_extension": ".py",
   "mimetype": "text/x-python",
   "name": "python",
   "nbconvert_exporter": "python",
   "pygments_lexer": "ipython3",
   "version": "3.11.4"
  }
 },
 "nbformat": 4,
 "nbformat_minor": 5
}
