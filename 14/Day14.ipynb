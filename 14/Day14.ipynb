{
 "cells": [
  {
   "cell_type": "raw",
   "id": "1d26eb45-ae93-4c61-8c70-660938e440ba",
   "metadata": {},
   "source": [
    "def optimised_fun(n):\n",
    "    global dp\n",
    "    if dp[n]!=-100:\n",
    "        return dp[n]\n",
    "    if n<=2:\n",
    "        dp[n]=n\n",
    "        return n"
   ]
  },
  {
   "cell_type": "raw",
   "id": "2b6d5762-4062-4ead-b1f4-9b4209f74b7b",
   "metadata": {},
   "source": [
    "arr=[1,2,3]\n",
    "x=[]\n",
    "for i in range(len(arr)):\n",
    "    a=[]\n",
    "     "
   ]
  },
  {
   "cell_type": "code",
   "execution_count": 5,
   "id": "51209277-afa5-4f6c-bb7d-cb935946717a",
   "metadata": {},
   "outputs": [
    {
     "data": {
      "text/plain": [
       "[[1, 2, 3], [1, 3, 2], [2, 1, 3], [2, 3, 1], [3, 1, 2], [3, 2, 1]]"
      ]
     },
     "execution_count": 5,
     "metadata": {},
     "output_type": "execute_result"
    }
   ],
   "source": [
    "def permute(arr):\n",
    "    if len(arr)==1:\n",
    "        return [arr]\n",
    "    ans=[]\n",
    "    for i in range(len(arr)):\n",
    "        x=[arr[i]]\n",
    "        #print(\"X:\",x)\n",
    "        n_arr=arr[:i]+arr[i+1:]\n",
    "        #print(\"n_arr:\",n_arr)\n",
    "        for i in permute(n_arr):\n",
    "            ans.append(x+i)\n",
    "            #print(\"ans:\",ans)\n",
    "    return ans\n",
    "permute([1,2,3])"
   ]
  },
  {
   "cell_type": "code",
   "execution_count": 26,
   "id": "2d3509cc-f158-4522-8d4f-3cb5dd3862b7",
   "metadata": {},
   "outputs": [
    {
     "name": "stdout",
     "output_type": "stream",
     "text": [
      "0 1 0 0 \n",
      "0 0 0 1 \n",
      "1 0 0 0 \n",
      "0 0 1 0 \n",
      "\n",
      "0 0 1 0 \n",
      "1 0 0 0 \n",
      "0 0 0 1 \n",
      "0 1 0 0 \n",
      "\n"
     ]
    }
   ],
   "source": [
    "def solve_n_queen(n, board, row, col, diag, rev_diag, asf):\n",
    "    if row == n:\n",
    "        for i in range(n):\n",
    "            for j in range(n):\n",
    "                print(board[i][j], end=\" \")\n",
    "            print()\n",
    "        print()\n",
    "        return\n",
    "\n",
    "    for i in range(n):\n",
    "        if col[i] == 0 and diag[row - i + n - 1] == 0 and rev_diag[row + i] == 0:\n",
    "            board[row][i] = 1\n",
    "            col[i] = 1\n",
    "            diag[row - i + n - 1] = 1\n",
    "            rev_diag[row + i] = 1\n",
    "            asf += str(row) + \" \" + str(i) + \" \"\n",
    "            solve_n_queen(n, board, row + 1, col, diag, rev_diag, asf)\n",
    "            board[row][i] = 0\n",
    "            col[i] = 0\n",
    "            diag[row - i + n - 1] = 0\n",
    "            rev_diag[row + i] = 0\n",
    "            asf = asf[:-4]\n",
    "\n",
    "def main():\n",
    "    n = 4\n",
    "    board = [[0 for i in range(n)] for j in range(n)]\n",
    "    col = [0 for i in range(n)]\n",
    "    diag = [0 for i in range(2 * n - 1)]\n",
    "    rev_diag = [0 for i in range(2 * n - 1)]\n",
    "    asf = ' '\n",
    "    solve_n_queen(n, board, 0, col, diag, rev_diag, asf)\n",
    "\n",
    "main()\n"
   ]
  },
  {
   "cell_type": "code",
   "execution_count": 32,
   "id": "2a989738-687a-4673-b8fa-0c8d1a7b5cff",
   "metadata": {},
   "outputs": [
    {
     "name": "stdout",
     "output_type": "stream",
     "text": [
      "13\n"
     ]
    }
   ],
   "source": [
    "def find_n_ways(n):\n",
    "    if n < 0:\n",
    "        return 0\n",
    "    if n <= 1:\n",
    "        return 1\n",
    "    return find_n_ways(n-1) + find_n_ways(n-2) + find_n_ways(n-3)\n",
    "\n",
    "print(find_n_ways(5))\n"
   ]
  },
  {
   "cell_type": "code",
   "execution_count": 49,
   "id": "32737bed-f348-4db6-be29-334f17f7e361",
   "metadata": {},
   "outputs": [
    {
     "name": "stdout",
     "output_type": "stream",
     "text": [
      "13\n"
     ]
    }
   ],
   "source": [
    "def sum_till_nth(n):\n",
    "    \n",
    "def n_th_fib_num(n):\n",
    "    if n == 1 or n==2:\n",
    "        return n-1\n",
    "    return n_th_fib_num(n)+n_th_fib_num(n-1)+n_th_fib_num(n-2)\n",
    "print(n_th_fib_num(7))"
   ]
  },
  {
   "cell_type": "code",
   "execution_count": 50,
   "id": "56b58337-3710-437d-9d2d-349180ff85f0",
   "metadata": {},
   "outputs": [
    {
     "name": "stdout",
     "output_type": "stream",
     "text": [
      "The first 10 Fibonacci numbers are:\n",
      "0\n",
      "1\n",
      "1\n",
      "2\n",
      "3\n",
      "5\n",
      "8\n",
      "13\n",
      "21\n",
      "34\n"
     ]
    }
   ],
   "source": [
    "def fibonacci_sequence(n):\n",
    "    fib_sequence = [0, 1]\n",
    "    while len(fib_sequence) < n:\n",
    "        fib_sequence.append(fib_sequence[-1] + fib_sequence[-2])\n",
    "    return fib_sequence\n",
    "\n",
    "limit = 10  # Change this value to display Fibonacci numbers up to a different limit\n",
    "fib_numbers = fibonacci_sequence(limit)\n",
    "\n",
    "print(f\"The first {limit} Fibonacci numbers are:\")\n",
    "for num in fib_numbers:\n",
    "    print(num)\n"
   ]
  },
  {
   "cell_type": "code",
   "execution_count": null,
   "id": "38e3d716-5dfb-44b2-b918-354ed57b245f",
   "metadata": {},
   "outputs": [],
   "source": []
  }
 ],
 "metadata": {
  "kernelspec": {
   "display_name": "Python 3 (ipykernel)",
   "language": "python",
   "name": "python3"
  },
  "language_info": {
   "codemirror_mode": {
    "name": "ipython",
    "version": 3
   },
   "file_extension": ".py",
   "mimetype": "text/x-python",
   "name": "python",
   "nbconvert_exporter": "python",
   "pygments_lexer": "ipython3",
   "version": "3.11.4"
  }
 },
 "nbformat": 4,
 "nbformat_minor": 5
}
