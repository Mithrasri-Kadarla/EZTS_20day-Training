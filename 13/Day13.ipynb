{
 "cells": [
  {
   "cell_type": "code",
   "execution_count": 5,
   "id": "cc299c29-6823-44b6-86a9-a041fda756a6",
   "metadata": {},
   "outputs": [
    {
     "name": "stdin",
     "output_type": "stream",
     "text": [
      "Enter the list: 3,9,8,6,-1,-3,5,2,11\n",
      "Enter the index: 4\n"
     ]
    },
    {
     "name": "stdout",
     "output_type": "stream",
     "text": [
      "[3, 9, 8, 6, 11, 2, 5, -3, -1]\n"
     ]
    }
   ],
   "source": [
    "a=list(map(int,input(\"Enter the list:\").split(',')))#[3,9,8,6,-1,-3,5,2,11]\n",
    "k=int(input(\"Enter the index:\"))#k=4\n",
    "b=a[k:]\n",
    "l=a[:k]\n",
    "print(l+b[::-1])"
   ]
  },
  {
   "cell_type": "raw",
   "id": "47f9228b-c05f-488c-8967-960c2eb9d759",
   "metadata": {},
   "source": [
    "String=\"madammadam\"\n",
    "i)Count number of pallindromic substring\n",
    "ii)Count longest pallindromic substring\n",
    "iii)smallest pallindromic substring which is not 1 in length"
   ]
  },
  {
   "cell_type": "code",
   "execution_count": 6,
   "id": "743febad-84fb-476d-9fde-8c3a421853ca",
   "metadata": {},
   "outputs": [
    {
     "data": {
      "text/plain": [
       "2"
      ]
     },
     "execution_count": 6,
     "metadata": {},
     "output_type": "execute_result"
    }
   ],
   "source": [
    "def palin_substring(str):\n",
    "    #count no fo palindromic substring\n",
    "    x=\"\"\n",
    "    c=0\n",
    "    x+=str[0]\n",
    "    for i in range(1,len(str)):\n",
    "        x+=str[i]\n",
    "        if x==x[::-1]:\n",
    "            c+=1\n",
    "    return c\n",
    "str=\"madammadam\"\n",
    "palin_substring(str)"
   ]
  },
  {
   "cell_type": "code",
   "execution_count": 10,
   "id": "8cb8325d-0161-4bbf-b16d-a283b1138f8b",
   "metadata": {},
   "outputs": [
    {
     "name": "stdout",
     "output_type": "stream",
     "text": [
      "['m', 'a', 'd', 'a', 'm', 'm', 'a', 'd', 'a', 'm', 'mm', 'ada', 'ada', 'amma', 'madam', 'madam', 'dammad', 'adammada', 'madammadam']\n"
     ]
    }
   ],
   "source": [
    "def find_palindromic_substrings(s):\n",
    "    n = len(s)\n",
    "    # Initialize a 2D table with all zeroes.\n",
    "    dp = [[0] * n for _ in range(n)]\n",
    "    palindromes = []\n",
    "\n",
    "    # All substrings of length 1 are palindromes.\n",
    "    for i in range(n):\n",
    "        dp[i][i] = 1\n",
    "        palindromes.append(s[i])\n",
    "\n",
    "    # Check for substrings of length 2.\n",
    "    for i in range(n-1):\n",
    "        if s[i] == s[i+1]:\n",
    "            dp[i][i+1] = 1\n",
    "            palindromes.append(s[i:i+2])\n",
    "\n",
    "    # Check for substrings of length greater than 2.\n",
    "    for k in range(3, n+1):\n",
    "        for i in range(n-k+1):\n",
    "            j = i + k - 1\n",
    "            if dp[i+1][j-1] and s[i] == s[j]:\n",
    "                dp[i][j] = 1\n",
    "                palindromes.append(s[i:j+1])\n",
    "\n",
    "    return palindromes\n",
    "\n",
    "# Example usage:\n",
    "string = \"madammadam\"\n",
    "palindromes = find_palindromic_substrings(string)\n",
    "print(palindromes)\n"
   ]
  },
  {
   "cell_type": "code",
   "execution_count": 4,
   "id": "898f5fe6-374f-48ab-b0dd-0cdd68f4b579",
   "metadata": {},
   "outputs": [
    {
     "name": "stdout",
     "output_type": "stream",
     "text": [
      "['m', 'madam', 'madammadam', 'a', 'ada', 'adammada', 'd', 'dammad', 'a', 'amma', 'm', 'mm', 'm', 'madam', 'a', 'ada', 'd', 'a', 'm']\n",
      "19\n"
     ]
    }
   ],
   "source": [
    "def is_palindrome(substring):\n",
    "    return substring == substring[::-1]\n",
    "\n",
    "def find_palindromic_substrings(s):\n",
    "    n = len(s)\n",
    "    palindromes = []\n",
    "\n",
    "    for i in range(n):\n",
    "        for j in range(i, n):\n",
    "            substring = s[i:j+1]\n",
    "            if is_palindrome(substring):\n",
    "                palindromes.append(substring)\n",
    "\n",
    "    return palindromes\n",
    "\n",
    "# Example usage:\n",
    "string = \"madammadam\"\n",
    "palindromes = find_palindromic_substrings(string)\n",
    "print(palindromes)\n",
    "print(len(palindromes))\n"
   ]
  },
  {
   "cell_type": "code",
   "execution_count": 15,
   "id": "9884d9b4-68f0-46ff-a9d5-8d127886dd85",
   "metadata": {},
   "outputs": [
    {
     "name": "stdout",
     "output_type": "stream",
     "text": [
      "19\n"
     ]
    }
   ],
   "source": [
    "def main():\n",
    "    s = \"madammadam\"\n",
    "    n = len(s)\n",
    "    dp = [[0 for _ in range(n)] for _ in range(n)]\n",
    "    count = 0\n",
    "\n",
    "    for i in range(n):\n",
    "        dp[i][i] = 1\n",
    "        count += 1\n",
    "\n",
    "    for i in range(n-1):\n",
    "        if s[i] == s[i+1]:\n",
    "            dp[i][i+1] = 1\n",
    "            count += 1\n",
    "\n",
    "    for k in range(3, n+1):\n",
    "        for i in range(n-k+1):\n",
    "            j = i + k - 1\n",
    "            if s[i] == s[j] and dp[i+1][j-1]:\n",
    "                dp[i][j] = 1\n",
    "                count += 1\n",
    "\n",
    "    print(count)\n",
    "\n",
    "main()\n"
   ]
  },
  {
   "cell_type": "code",
   "execution_count": 12,
   "id": "c0a31789-67a4-430c-85b2-9b9b2468e420",
   "metadata": {},
   "outputs": [
    {
     "data": {
      "text/plain": [
       "19"
      ]
     },
     "execution_count": 12,
     "metadata": {},
     "output_type": "execute_result"
    }
   ],
   "source": [
    "def main():\n",
    "    s = \"madammadam\"\n",
    "    n = len(s)\n",
    "    dp = [[0 for _ in range(n)] for _ in range(n)]\n",
    "    count = 0\n",
    "\n",
    "    i, j = 0, 0\n",
    "    while j<n:\n",
    "        jflag=j\n",
    "        while jflag<n:\n",
    "            if i==jflag:\n",
    "                dp[i][jflag]=1\n",
    "                count+=1\n",
    "            elif abs(i-jflag)==1:\n",
    "                if s[i]==s[jflag]:\n",
    "                    dp[i][jflag]=1\n",
    "                    count+=1\n",
    "                else:\n",
    "                    dp[i][jflag]=0\n",
    "            else:\n",
    "                if s[i]==s[jflag]:\n",
    "                    if dp[i+1][jflag-1]==1:\n",
    "                        dp[i][jflag]=1\n",
    "                        count+=1\n",
    "                    else:\n",
    "                        dp[i][jflag]=0\n",
    "                else:\n",
    "                    dp[i][jflag]=0\n",
    "            i+=1\n",
    "            jflag+=1\n",
    "        j+=1\n",
    "        i=0\n",
    "    return count\n",
    "main()"
   ]
  },
  {
   "cell_type": "code",
   "execution_count": 5,
   "id": "c4db5f28",
   "metadata": {},
   "outputs": [
    {
     "name": "stdin",
     "output_type": "stream",
     "text": [
      "Enter the list: 3,9,8,6,-1,-3,5,2,11\n",
      "Enter the index: 4\n"
     ]
    },
    {
     "name": "stdout",
     "output_type": "stream",
     "text": [
      "[3, 9, 8, 6, 11, 2, 5, -3, -1]\n"
     ]
    }
   ],
   "source": [
    "a=list(map(int,input(\"Enter the list:\").split(',')))#[3,9,8,6,-1,-3,5,2,11]\n",
    "k=int(input(\"Enter the index:\"))#k=4\n",
    "b=a[k:]\n",
    "l=a[:k]\n",
    "print(l+b[::-1])"
   ]
  },
  {
   "cell_type": "raw",
   "id": "8d11bc6c",
   "metadata": {},
   "source": [
    "String=\"madammadam\"\n",
    "i)Count number of pallindromic substring\n",
    "ii)Count longest pallindromic substring\n",
    "iii)smallest pallindromic substring which is not 1 in length"
   ]
  },
  {
   "cell_type": "code",
   "execution_count": 6,
   "id": "ee359566",
   "metadata": {},
   "outputs": [
    {
     "data": {
      "text/plain": [
       "2"
      ]
     },
     "execution_count": 6,
     "metadata": {},
     "output_type": "execute_result"
    }
   ],
   "source": [
    "def palin_substring(str):\n",
    "    #count no fo palindromic substring\n",
    "    x=\"\"\n",
    "    c=0\n",
    "    x+=str[0]\n",
    "    for i in range(1,len(str)):\n",
    "        x+=str[i]\n",
    "        if x==x[::-1]:\n",
    "            c+=1\n",
    "    return c\n",
    "str=\"madammadam\"\n",
    "palin_substring(str)"
   ]
  },
  {
   "cell_type": "code",
   "execution_count": 10,
   "id": "55cb78b2",
   "metadata": {},
   "outputs": [
    {
     "name": "stdout",
     "output_type": "stream",
     "text": [
      "['m', 'a', 'd', 'a', 'm', 'm', 'a', 'd', 'a', 'm', 'mm', 'ada', 'ada', 'amma', 'madam', 'madam', 'dammad', 'adammada', 'madammadam']\n"
     ]
    }
   ],
   "source": [
    "def find_palindromic_substrings(s):\n",
    "    n = len(s)\n",
    "    # Initialize a 2D table with all zeroes.\n",
    "    dp = [[0] * n for _ in range(n)]\n",
    "    palindromes = []\n",
    "\n",
    "    # All substrings of length 1 are palindromes.\n",
    "    for i in range(n):\n",
    "        dp[i][i] = 1\n",
    "        palindromes.append(s[i])\n",
    "\n",
    "    # Check for substrings of length 2.\n",
    "    for i in range(n-1):\n",
    "        if s[i] == s[i+1]:\n",
    "            dp[i][i+1] = 1\n",
    "            palindromes.append(s[i:i+2])\n",
    "\n",
    "    # Check for substrings of length greater than 2.\n",
    "    for k in range(3, n+1):\n",
    "        for i in range(n-k+1):\n",
    "            j = i + k - 1\n",
    "            if dp[i+1][j-1] and s[i] == s[j]:\n",
    "                dp[i][j] = 1\n",
    "                palindromes.append(s[i:j+1])\n",
    "\n",
    "    return palindromes\n",
    "\n",
    "# Example usage:\n",
    "string = \"madammadam\"\n",
    "palindromes = find_palindromic_substrings(string)\n",
    "print(palindromes)\n"
   ]
  },
  {
   "cell_type": "code",
   "execution_count": 4,
   "id": "a4c476d4",
   "metadata": {},
   "outputs": [
    {
     "name": "stdout",
     "output_type": "stream",
     "text": [
      "['m', 'madam', 'madammadam', 'a', 'ada', 'adammada', 'd', 'dammad', 'a', 'amma', 'm', 'mm', 'm', 'madam', 'a', 'ada', 'd', 'a', 'm']\n",
      "19\n"
     ]
    }
   ],
   "source": [
    "def is_palindrome(substring):\n",
    "    return substring == substring[::-1]\n",
    "\n",
    "def find_palindromic_substrings(s):\n",
    "    n = len(s)\n",
    "    palindromes = []\n",
    "\n",
    "    for i in range(n):\n",
    "        for j in range(i, n):\n",
    "            substring = s[i:j+1]\n",
    "            if is_palindrome(substring):\n",
    "                palindromes.append(substring)\n",
    "\n",
    "    return palindromes\n",
    "\n",
    "# Example usage:\n",
    "string = \"madammadam\"\n",
    "palindromes = find_palindromic_substrings(string)\n",
    "print(palindromes)\n",
    "print(len(palindromes))\n"
   ]
  },
  {
   "cell_type": "code",
   "execution_count": 15,
   "id": "63c04a09",
   "metadata": {},
   "outputs": [
    {
     "name": "stdout",
     "output_type": "stream",
     "text": [
      "19\n"
     ]
    }
   ],
   "source": [
    "def main():\n",
    "    s = \"madammadam\"\n",
    "    n = len(s)\n",
    "    dp = [[0 for _ in range(n)] for _ in range(n)]\n",
    "    count = 0\n",
    "\n",
    "    for i in range(n):\n",
    "        dp[i][i] = 1\n",
    "        count += 1\n",
    "\n",
    "    for i in range(n-1):\n",
    "        if s[i] == s[i+1]:\n",
    "            dp[i][i+1] = 1\n",
    "            count += 1\n",
    "\n",
    "    for k in range(3, n+1):\n",
    "        for i in range(n-k+1):\n",
    "            j = i + k - 1\n",
    "            if s[i] == s[j] and dp[i+1][j-1]:\n",
    "                dp[i][j] = 1\n",
    "                count += 1\n",
    "\n",
    "    print(count)\n",
    "\n",
    "main()\n"
   ]
  },
  {
   "cell_type": "code",
   "execution_count": 12,
   "id": "773ccd0d",
   "metadata": {},
   "outputs": [
    {
     "data": {
      "text/plain": [
       "19"
      ]
     },
     "execution_count": 12,
     "metadata": {},
     "output_type": "execute_result"
    }
   ],
   "source": [
    "def main():\n",
    "    s = \"madammadam\"\n",
    "    n = len(s)\n",
    "    dp = [[0 for _ in range(n)] for _ in range(n)]\n",
    "    count = 0\n",
    "\n",
    "    i, j = 0, 0\n",
    "    while j<n:\n",
    "        jflag=j\n",
    "        while jflag<n:\n",
    "            if i==jflag:\n",
    "                dp[i][jflag]=1\n",
    "                count+=1\n",
    "            elif abs(i-jflag)==1:\n",
    "                if s[i]==s[jflag]:\n",
    "                    dp[i][jflag]=1\n",
    "                    count+=1\n",
    "                else:\n",
    "                    dp[i][jflag]=0\n",
    "            else:\n",
    "                if s[i]==s[jflag]:\n",
    "                    if dp[i+1][jflag-1]==1:\n",
    "                        dp[i][jflag]=1\n",
    "                        count+=1\n",
    "                    else:\n",
    "                        dp[i][jflag]=0\n",
    "                else:\n",
    "                    dp[i][jflag]=0\n",
    "            i+=1\n",
    "            jflag+=1\n",
    "        j+=1\n",
    "        i=0\n",
    "    return count\n",
    "main()"
   ]
  },
  {
   "cell_type": "code",
   "execution_count": 29,
   "id": "c517c6a6-c114-4a2e-844a-c69fc5797e69",
   "metadata": {},
   "outputs": [
    {
     "data": {
      "text/plain": [
       "9"
      ]
     },
     "execution_count": 29,
     "metadata": {},
     "output_type": "execute_result"
    }
   ],
   "source": [
    "def main():\n",
    "    s='bfffbfbffb'\n",
    "    visited=[0 for i in range(1000)]\n",
    "    cp=0\n",
    "    visited[cp]=1\n",
    "    ans=1\n",
    "    for ch in s:\n",
    "        if ch=='b':\n",
    "            if cp-1>=0:\n",
    "                cp-=1\n",
    "        else:\n",
    "            cp+=2\n",
    "        if visited[cp]!=1:\n",
    "            ans+=1\n",
    "            visited[cp]=1\n",
    "    return ans\n",
    "\n",
    "main()"
   ]
  },
  {
   "cell_type": "code",
   "execution_count": null,
   "id": "3a99cbb5-e581-435e-82d1-f538e9495e23",
   "metadata": {},
   "outputs": [],
   "source": []
  },
  {
   "cell_type": "code",
   "execution_count": 5,
   "id": "7e70be89",
   "metadata": {},
   "outputs": [
    {
     "name": "stdin",
     "output_type": "stream",
     "text": [
      "Enter the list: 3,9,8,6,-1,-3,5,2,11\n",
      "Enter the index: 4\n"
     ]
    },
    {
     "name": "stdout",
     "output_type": "stream",
     "text": [
      "[3, 9, 8, 6, 11, 2, 5, -3, -1]\n"
     ]
    }
   ],
   "source": [
    "a=list(map(int,input(\"Enter the list:\").split(',')))#[3,9,8,6,-1,-3,5,2,11]\n",
    "k=int(input(\"Enter the index:\"))#k=4\n",
    "b=a[k:]\n",
    "l=a[:k]\n",
    "print(l+b[::-1])"
   ]
  },
  {
   "cell_type": "raw",
   "id": "d2ee1eb9",
   "metadata": {},
   "source": [
    "String=\"madammadam\"\n",
    "i)Count number of pallindromic substring\n",
    "ii)Count longest pallindromic substring\n",
    "iii)smallest pallindromic substring which is not 1 in length"
   ]
  },
  {
   "cell_type": "code",
   "execution_count": 6,
   "id": "af7dc6e9",
   "metadata": {},
   "outputs": [
    {
     "data": {
      "text/plain": [
       "2"
      ]
     },
     "execution_count": 6,
     "metadata": {},
     "output_type": "execute_result"
    }
   ],
   "source": [
    "def palin_substring(str):\n",
    "    #count no fo palindromic substring\n",
    "    x=\"\"\n",
    "    c=0\n",
    "    x+=str[0]\n",
    "    for i in range(1,len(str)):\n",
    "        x+=str[i]\n",
    "        if x==x[::-1]:\n",
    "            c+=1\n",
    "    return c\n",
    "str=\"madammadam\"\n",
    "palin_substring(str)"
   ]
  },
  {
   "cell_type": "code",
   "execution_count": 10,
   "id": "c3005911",
   "metadata": {},
   "outputs": [
    {
     "name": "stdout",
     "output_type": "stream",
     "text": [
      "['m', 'a', 'd', 'a', 'm', 'm', 'a', 'd', 'a', 'm', 'mm', 'ada', 'ada', 'amma', 'madam', 'madam', 'dammad', 'adammada', 'madammadam']\n"
     ]
    }
   ],
   "source": [
    "def find_palindromic_substrings(s):\n",
    "    n = len(s)\n",
    "    # Initialize a 2D table with all zeroes.\n",
    "    dp = [[0] * n for _ in range(n)]\n",
    "    palindromes = []\n",
    "\n",
    "    # All substrings of length 1 are palindromes.\n",
    "    for i in range(n):\n",
    "        dp[i][i] = 1\n",
    "        palindromes.append(s[i])\n",
    "\n",
    "    # Check for substrings of length 2.\n",
    "    for i in range(n-1):\n",
    "        if s[i] == s[i+1]:\n",
    "            dp[i][i+1] = 1\n",
    "            palindromes.append(s[i:i+2])\n",
    "\n",
    "    # Check for substrings of length greater than 2.\n",
    "    for k in range(3, n+1):\n",
    "        for i in range(n-k+1):\n",
    "            j = i + k - 1\n",
    "            if dp[i+1][j-1] and s[i] == s[j]:\n",
    "                dp[i][j] = 1\n",
    "                palindromes.append(s[i:j+1])\n",
    "\n",
    "    return palindromes\n",
    "\n",
    "# Example usage:\n",
    "string = \"madammadam\"\n",
    "palindromes = find_palindromic_substrings(string)\n",
    "print(palindromes)\n"
   ]
  },
  {
   "cell_type": "code",
   "execution_count": 4,
   "id": "5fb4f719",
   "metadata": {},
   "outputs": [
    {
     "name": "stdout",
     "output_type": "stream",
     "text": [
      "['m', 'madam', 'madammadam', 'a', 'ada', 'adammada', 'd', 'dammad', 'a', 'amma', 'm', 'mm', 'm', 'madam', 'a', 'ada', 'd', 'a', 'm']\n",
      "19\n"
     ]
    }
   ],
   "source": [
    "def is_palindrome(substring):\n",
    "    return substring == substring[::-1]\n",
    "\n",
    "def find_palindromic_substrings(s):\n",
    "    n = len(s)\n",
    "    palindromes = []\n",
    "\n",
    "    for i in range(n):\n",
    "        for j in range(i, n):\n",
    "            substring = s[i:j+1]\n",
    "            if is_palindrome(substring):\n",
    "                palindromes.append(substring)\n",
    "\n",
    "    return palindromes\n",
    "\n",
    "# Example usage:\n",
    "string = \"madammadam\"\n",
    "palindromes = find_palindromic_substrings(string)\n",
    "print(palindromes)\n",
    "print(len(palindromes))\n"
   ]
  },
  {
   "cell_type": "code",
   "execution_count": 15,
   "id": "630de309",
   "metadata": {},
   "outputs": [
    {
     "name": "stdout",
     "output_type": "stream",
     "text": [
      "19\n"
     ]
    }
   ],
   "source": [
    "def main():\n",
    "    s = \"madammadam\"\n",
    "    n = len(s)\n",
    "    dp = [[0 for _ in range(n)] for _ in range(n)]\n",
    "    count = 0\n",
    "\n",
    "    for i in range(n):\n",
    "        dp[i][i] = 1\n",
    "        count += 1\n",
    "\n",
    "    for i in range(n-1):\n",
    "        if s[i] == s[i+1]:\n",
    "            dp[i][i+1] = 1\n",
    "            count += 1\n",
    "\n",
    "    for k in range(3, n+1):\n",
    "        for i in range(n-k+1):\n",
    "            j = i + k - 1\n",
    "            if s[i] == s[j] and dp[i+1][j-1]:\n",
    "                dp[i][j] = 1\n",
    "                count += 1\n",
    "\n",
    "    print(count)\n",
    "\n",
    "main()\n"
   ]
  },
  {
   "cell_type": "code",
   "execution_count": 12,
   "id": "452dbbed",
   "metadata": {},
   "outputs": [
    {
     "data": {
      "text/plain": [
       "19"
      ]
     },
     "execution_count": 12,
     "metadata": {},
     "output_type": "execute_result"
    }
   ],
   "source": [
    "def main():\n",
    "    s = \"madammadam\"\n",
    "    n = len(s)\n",
    "    dp = [[0 for _ in range(n)] for _ in range(n)]\n",
    "    count = 0\n",
    "\n",
    "    i, j = 0, 0\n",
    "    while j<n:\n",
    "        jflag=j\n",
    "        while jflag<n:\n",
    "            if i==jflag:\n",
    "                dp[i][jflag]=1\n",
    "                count+=1\n",
    "            elif abs(i-jflag)==1:\n",
    "                if s[i]==s[jflag]:\n",
    "                    dp[i][jflag]=1\n",
    "                    count+=1\n",
    "                else:\n",
    "                    dp[i][jflag]=0\n",
    "            else:\n",
    "                if s[i]==s[jflag]:\n",
    "                    if dp[i+1][jflag-1]==1:\n",
    "                        dp[i][jflag]=1\n",
    "                        count+=1\n",
    "                    else:\n",
    "                        dp[i][jflag]=0\n",
    "                else:\n",
    "                    dp[i][jflag]=0\n",
    "            i+=1\n",
    "            jflag+=1\n",
    "        j+=1\n",
    "        i=0\n",
    "    return count\n",
    "main()"
   ]
  },
  {
   "cell_type": "code",
   "execution_count": null,
   "id": "1db7364b",
   "metadata": {},
   "outputs": [],
   "source": []
  },
  {
   "cell_type": "code",
   "execution_count": 5,
   "id": "d5857521",
   "metadata": {},
   "outputs": [
    {
     "name": "stdin",
     "output_type": "stream",
     "text": [
      "Enter the list: 3,9,8,6,-1,-3,5,2,11\n",
      "Enter the index: 4\n"
     ]
    },
    {
     "name": "stdout",
     "output_type": "stream",
     "text": [
      "[3, 9, 8, 6, 11, 2, 5, -3, -1]\n"
     ]
    }
   ],
   "source": [
    "a=list(map(int,input(\"Enter the list:\").split(',')))#[3,9,8,6,-1,-3,5,2,11]\n",
    "k=int(input(\"Enter the index:\"))#k=4\n",
    "b=a[k:]\n",
    "l=a[:k]\n",
    "print(l+b[::-1])"
   ]
  },
  {
   "cell_type": "raw",
   "id": "5ca375fe",
   "metadata": {},
   "source": [
    "String=\"madammadam\"\n",
    "i)Count number of pallindromic substring\n",
    "ii)Count longest pallindromic substring\n",
    "iii)smallest pallindromic substring which is not 1 in length"
   ]
  },
  {
   "cell_type": "code",
   "execution_count": 6,
   "id": "938d0a2d",
   "metadata": {},
   "outputs": [
    {
     "data": {
      "text/plain": [
       "2"
      ]
     },
     "execution_count": 6,
     "metadata": {},
     "output_type": "execute_result"
    }
   ],
   "source": [
    "def palin_substring(str):\n",
    "    #count no fo palindromic substring\n",
    "    x=\"\"\n",
    "    c=0\n",
    "    x+=str[0]\n",
    "    for i in range(1,len(str)):\n",
    "        x+=str[i]\n",
    "        if x==x[::-1]:\n",
    "            c+=1\n",
    "    return c\n",
    "str=\"madammadam\"\n",
    "palin_substring(str)"
   ]
  },
  {
   "cell_type": "code",
   "execution_count": 10,
   "id": "e8d40d44",
   "metadata": {},
   "outputs": [
    {
     "name": "stdout",
     "output_type": "stream",
     "text": [
      "['m', 'a', 'd', 'a', 'm', 'm', 'a', 'd', 'a', 'm', 'mm', 'ada', 'ada', 'amma', 'madam', 'madam', 'dammad', 'adammada', 'madammadam']\n"
     ]
    }
   ],
   "source": [
    "def find_palindromic_substrings(s):\n",
    "    n = len(s)\n",
    "    # Initialize a 2D table with all zeroes.\n",
    "    dp = [[0] * n for _ in range(n)]\n",
    "    palindromes = []\n",
    "\n",
    "    # All substrings of length 1 are palindromes.\n",
    "    for i in range(n):\n",
    "        dp[i][i] = 1\n",
    "        palindromes.append(s[i])\n",
    "\n",
    "    # Check for substrings of length 2.\n",
    "    for i in range(n-1):\n",
    "        if s[i] == s[i+1]:\n",
    "            dp[i][i+1] = 1\n",
    "            palindromes.append(s[i:i+2])\n",
    "\n",
    "    # Check for substrings of length greater than 2.\n",
    "    for k in range(3, n+1):\n",
    "        for i in range(n-k+1):\n",
    "            j = i + k - 1\n",
    "            if dp[i+1][j-1] and s[i] == s[j]:\n",
    "                dp[i][j] = 1\n",
    "                palindromes.append(s[i:j+1])\n",
    "\n",
    "    return palindromes\n",
    "\n",
    "# Example usage:\n",
    "string = \"madammadam\"\n",
    "palindromes = find_palindromic_substrings(string)\n",
    "print(palindromes)\n"
   ]
  },
  {
   "cell_type": "code",
   "execution_count": 4,
   "id": "883f639f",
   "metadata": {},
   "outputs": [
    {
     "name": "stdout",
     "output_type": "stream",
     "text": [
      "['m', 'madam', 'madammadam', 'a', 'ada', 'adammada', 'd', 'dammad', 'a', 'amma', 'm', 'mm', 'm', 'madam', 'a', 'ada', 'd', 'a', 'm']\n",
      "19\n"
     ]
    }
   ],
   "source": [
    "def is_palindrome(substring):\n",
    "    return substring == substring[::-1]\n",
    "\n",
    "def find_palindromic_substrings(s):\n",
    "    n = len(s)\n",
    "    palindromes = []\n",
    "\n",
    "    for i in range(n):\n",
    "        for j in range(i, n):\n",
    "            substring = s[i:j+1]\n",
    "            if is_palindrome(substring):\n",
    "                palindromes.append(substring)\n",
    "\n",
    "    return palindromes\n",
    "\n",
    "# Example usage:\n",
    "string = \"madammadam\"\n",
    "palindromes = find_palindromic_substrings(string)\n",
    "print(palindromes)\n",
    "print(len(palindromes))\n"
   ]
  },
  {
   "cell_type": "code",
   "execution_count": 15,
   "id": "f064709f",
   "metadata": {},
   "outputs": [
    {
     "name": "stdout",
     "output_type": "stream",
     "text": [
      "19\n"
     ]
    }
   ],
   "source": [
    "def main():\n",
    "    s = \"madammadam\"\n",
    "    n = len(s)\n",
    "    dp = [[0 for _ in range(n)] for _ in range(n)]\n",
    "    count = 0\n",
    "\n",
    "    for i in range(n):\n",
    "        dp[i][i] = 1\n",
    "        count += 1\n",
    "\n",
    "    for i in range(n-1):\n",
    "        if s[i] == s[i+1]:\n",
    "            dp[i][i+1] = 1\n",
    "            count += 1\n",
    "\n",
    "    for k in range(3, n+1):\n",
    "        for i in range(n-k+1):\n",
    "            j = i + k - 1\n",
    "            if s[i] == s[j] and dp[i+1][j-1]:\n",
    "                dp[i][j] = 1\n",
    "                count += 1\n",
    "\n",
    "    print(count)\n",
    "\n",
    "main()\n"
   ]
  },
  {
   "cell_type": "code",
   "execution_count": 12,
   "id": "0732398f",
   "metadata": {},
   "outputs": [
    {
     "data": {
      "text/plain": [
       "19"
      ]
     },
     "execution_count": 12,
     "metadata": {},
     "output_type": "execute_result"
    }
   ],
   "source": [
    "def main():\n",
    "    s = \"madammadam\"\n",
    "    n = len(s)\n",
    "    dp = [[0 for _ in range(n)] for _ in range(n)]\n",
    "    count = 0\n",
    "\n",
    "    i, j = 0, 0\n",
    "    while j<n:\n",
    "        jflag=j\n",
    "        while jflag<n:\n",
    "            if i==jflag:\n",
    "                dp[i][jflag]=1\n",
    "                count+=1\n",
    "            elif abs(i-jflag)==1:\n",
    "                if s[i]==s[jflag]:\n",
    "                    dp[i][jflag]=1\n",
    "                    count+=1\n",
    "                else:\n",
    "                    dp[i][jflag]=0\n",
    "            else:\n",
    "                if s[i]==s[jflag]:\n",
    "                    if dp[i+1][jflag-1]==1:\n",
    "                        dp[i][jflag]=1\n",
    "                        count+=1\n",
    "                    else:\n",
    "                        dp[i][jflag]=0\n",
    "                else:\n",
    "                    dp[i][jflag]=0\n",
    "            i+=1\n",
    "            jflag+=1\n",
    "        j+=1\n",
    "        i=0\n",
    "    return count\n",
    "main()"
   ]
  },
  {
   "cell_type": "code",
   "execution_count": 29,
   "id": "5af5b871",
   "metadata": {},
   "outputs": [
    {
     "data": {
      "text/plain": [
       "9"
      ]
     },
     "execution_count": 29,
     "metadata": {},
     "output_type": "execute_result"
    }
   ],
   "source": [
    "def main():\n",
    "    s='bfffbfbffb'\n",
    "    visited=[0 for i in range(1000)]\n",
    "    cp=0\n",
    "    visited[cp]=1\n",
    "    ans=1\n",
    "    for ch in s:\n",
    "        if ch=='b':\n",
    "            if cp-1>=0:\n",
    "                cp-=1\n",
    "        else:\n",
    "            cp+=2\n",
    "        if visited[cp]!=1:\n",
    "            ans+=1\n",
    "            visited[cp]=1\n",
    "    return ans\n",
    "\n",
    "main()"
   ]
  },
  {
   "cell_type": "code",
   "execution_count": 10,
   "id": "d70e1d77",
   "metadata": {},
   "outputs": [
    {
     "name": "stdout",
     "output_type": "stream",
     "text": [
      "5\n",
      "3\n",
      "3\n",
      "5\n"
     ]
    }
   ],
   "source": [
    "def fun(n):\n",
    "    if n<=2:\n",
    "        return\n",
    "    print(n)\n",
    "    fun(n-2)\n",
    "    fun(n-4)\n",
    "    print(n)\n",
    "fun(5)"
   ]
  },
  {
   "cell_type": "code",
   "execution_count": 21,
   "id": "058950dc-f99c-412d-b3b4-07726abf4583",
   "metadata": {},
   "outputs": [
    {
     "name": "stdout",
     "output_type": "stream",
     "text": [
      "1697015671.598517 1697015671.598517\n"
     ]
    }
   ],
   "source": [
    "import time\n",
    "def fun(n):\n",
    "    if n<=2:\n",
    "        return n\n",
    "    return fun(n-4)+fun(n-2)\n",
    "start_time=time.time()\n",
    "fun(16)\n",
    "end_time=time.time()\n",
    "print(start_time,end_time)"
   ]
  },
  {
   "cell_type": "code",
   "execution_count": 5,
   "id": "b0f7f6c5",
   "metadata": {},
   "outputs": [
    {
     "name": "stdin",
     "output_type": "stream",
     "text": [
      "Enter the list: 3,9,8,6,-1,-3,5,2,11\n",
      "Enter the index: 4\n"
     ]
    },
    {
     "name": "stdout",
     "output_type": "stream",
     "text": [
      "[3, 9, 8, 6, 11, 2, 5, -3, -1]\n"
     ]
    }
   ],
   "source": [
    "a=list(map(int,input(\"Enter the list:\").split(',')))#[3,9,8,6,-1,-3,5,2,11]\n",
    "k=int(input(\"Enter the index:\"))#k=4\n",
    "b=a[k:]\n",
    "l=a[:k]\n",
    "print(l+b[::-1])"
   ]
  },
  {
   "cell_type": "raw",
   "id": "ea981fd0",
   "metadata": {},
   "source": [
    "String=\"madammadam\"\n",
    "i)Count number of pallindromic substring\n",
    "ii)Count longest pallindromic substring\n",
    "iii)smallest pallindromic substring which is not 1 in length"
   ]
  },
  {
   "cell_type": "code",
   "execution_count": 6,
   "id": "b6f0db0a",
   "metadata": {},
   "outputs": [
    {
     "data": {
      "text/plain": [
       "2"
      ]
     },
     "execution_count": 6,
     "metadata": {},
     "output_type": "execute_result"
    }
   ],
   "source": [
    "def palin_substring(str):\n",
    "    #count no fo palindromic substring\n",
    "    x=\"\"\n",
    "    c=0\n",
    "    x+=str[0]\n",
    "    for i in range(1,len(str)):\n",
    "        x+=str[i]\n",
    "        if x==x[::-1]:\n",
    "            c+=1\n",
    "    return c\n",
    "str=\"madammadam\"\n",
    "palin_substring(str)"
   ]
  },
  {
   "cell_type": "code",
   "execution_count": 10,
   "id": "4eb092ec",
   "metadata": {},
   "outputs": [
    {
     "name": "stdout",
     "output_type": "stream",
     "text": [
      "['m', 'a', 'd', 'a', 'm', 'm', 'a', 'd', 'a', 'm', 'mm', 'ada', 'ada', 'amma', 'madam', 'madam', 'dammad', 'adammada', 'madammadam']\n"
     ]
    }
   ],
   "source": [
    "def find_palindromic_substrings(s):\n",
    "    n = len(s)\n",
    "    # Initialize a 2D table with all zeroes.\n",
    "    dp = [[0] * n for _ in range(n)]\n",
    "    palindromes = []\n",
    "\n",
    "    # All substrings of length 1 are palindromes.\n",
    "    for i in range(n):\n",
    "        dp[i][i] = 1\n",
    "        palindromes.append(s[i])\n",
    "\n",
    "    # Check for substrings of length 2.\n",
    "    for i in range(n-1):\n",
    "        if s[i] == s[i+1]:\n",
    "            dp[i][i+1] = 1\n",
    "            palindromes.append(s[i:i+2])\n",
    "\n",
    "    # Check for substrings of length greater than 2.\n",
    "    for k in range(3, n+1):\n",
    "        for i in range(n-k+1):\n",
    "            j = i + k - 1\n",
    "            if dp[i+1][j-1] and s[i] == s[j]:\n",
    "                dp[i][j] = 1\n",
    "                palindromes.append(s[i:j+1])\n",
    "\n",
    "    return palindromes\n",
    "\n",
    "# Example usage:\n",
    "string = \"madammadam\"\n",
    "palindromes = find_palindromic_substrings(string)\n",
    "print(palindromes)\n"
   ]
  },
  {
   "cell_type": "code",
   "execution_count": 4,
   "id": "6a3265e6",
   "metadata": {},
   "outputs": [
    {
     "name": "stdout",
     "output_type": "stream",
     "text": [
      "['m', 'madam', 'madammadam', 'a', 'ada', 'adammada', 'd', 'dammad', 'a', 'amma', 'm', 'mm', 'm', 'madam', 'a', 'ada', 'd', 'a', 'm']\n",
      "19\n"
     ]
    }
   ],
   "source": [
    "def is_palindrome(substring):\n",
    "    return substring == substring[::-1]\n",
    "\n",
    "def find_palindromic_substrings(s):\n",
    "    n = len(s)\n",
    "    palindromes = []\n",
    "\n",
    "    for i in range(n):\n",
    "        for j in range(i, n):\n",
    "            substring = s[i:j+1]\n",
    "            if is_palindrome(substring):\n",
    "                palindromes.append(substring)\n",
    "\n",
    "    return palindromes\n",
    "\n",
    "# Example usage:\n",
    "string = \"madammadam\"\n",
    "palindromes = find_palindromic_substrings(string)\n",
    "print(palindromes)\n",
    "print(len(palindromes))\n"
   ]
  },
  {
   "cell_type": "code",
   "execution_count": 15,
   "id": "9c8853cd",
   "metadata": {},
   "outputs": [
    {
     "name": "stdout",
     "output_type": "stream",
     "text": [
      "19\n"
     ]
    }
   ],
   "source": [
    "def main():\n",
    "    s = \"madammadam\"\n",
    "    n = len(s)\n",
    "    dp = [[0 for _ in range(n)] for _ in range(n)]\n",
    "    count = 0\n",
    "\n",
    "    for i in range(n):\n",
    "        dp[i][i] = 1\n",
    "        count += 1\n",
    "\n",
    "    for i in range(n-1):\n",
    "        if s[i] == s[i+1]:\n",
    "            dp[i][i+1] = 1\n",
    "            count += 1\n",
    "\n",
    "    for k in range(3, n+1):\n",
    "        for i in range(n-k+1):\n",
    "            j = i + k - 1\n",
    "            if s[i] == s[j] and dp[i+1][j-1]:\n",
    "                dp[i][j] = 1\n",
    "                count += 1\n",
    "\n",
    "    print(count)\n",
    "\n",
    "main()\n"
   ]
  },
  {
   "cell_type": "code",
   "execution_count": 12,
   "id": "4d63e06b",
   "metadata": {},
   "outputs": [
    {
     "data": {
      "text/plain": [
       "19"
      ]
     },
     "execution_count": 12,
     "metadata": {},
     "output_type": "execute_result"
    }
   ],
   "source": [
    "def main():\n",
    "    s = \"madammadam\"\n",
    "    n = len(s)\n",
    "    dp = [[0 for _ in range(n)] for _ in range(n)]\n",
    "    count = 0\n",
    "\n",
    "    i, j = 0, 0\n",
    "    while j<n:\n",
    "        jflag=j\n",
    "        while jflag<n:\n",
    "            if i==jflag:\n",
    "                dp[i][jflag]=1\n",
    "                count+=1\n",
    "            elif abs(i-jflag)==1:\n",
    "                if s[i]==s[jflag]:\n",
    "                    dp[i][jflag]=1\n",
    "                    count+=1\n",
    "                else:\n",
    "                    dp[i][jflag]=0\n",
    "            else:\n",
    "                if s[i]==s[jflag]:\n",
    "                    if dp[i+1][jflag-1]==1:\n",
    "                        dp[i][jflag]=1\n",
    "                        count+=1\n",
    "                    else:\n",
    "                        dp[i][jflag]=0\n",
    "                else:\n",
    "                    dp[i][jflag]=0\n",
    "            i+=1\n",
    "            jflag+=1\n",
    "        j+=1\n",
    "        i=0\n",
    "    return count\n",
    "main()"
   ]
  },
  {
   "cell_type": "code",
   "execution_count": 5,
   "id": "15312519",
   "metadata": {},
   "outputs": [
    {
     "name": "stdin",
     "output_type": "stream",
     "text": [
      "Enter the list: 3,9,8,6,-1,-3,5,2,11\n",
      "Enter the index: 4\n"
     ]
    },
    {
     "name": "stdout",
     "output_type": "stream",
     "text": [
      "[3, 9, 8, 6, 11, 2, 5, -3, -1]\n"
     ]
    }
   ],
   "source": [
    "a=list(map(int,input(\"Enter the list:\").split(',')))#[3,9,8,6,-1,-3,5,2,11]\n",
    "k=int(input(\"Enter the index:\"))#k=4\n",
    "b=a[k:]\n",
    "l=a[:k]\n",
    "print(l+b[::-1])"
   ]
  },
  {
   "cell_type": "raw",
   "id": "2b750f38",
   "metadata": {},
   "source": [
    "String=\"madammadam\"\n",
    "i)Count number of pallindromic substring\n",
    "ii)Count longest pallindromic substring\n",
    "iii)smallest pallindromic substring which is not 1 in length"
   ]
  },
  {
   "cell_type": "code",
   "execution_count": 6,
   "id": "8f72989f",
   "metadata": {},
   "outputs": [
    {
     "data": {
      "text/plain": [
       "2"
      ]
     },
     "execution_count": 6,
     "metadata": {},
     "output_type": "execute_result"
    }
   ],
   "source": [
    "def palin_substring(str):\n",
    "    #count no fo palindromic substring\n",
    "    x=\"\"\n",
    "    c=0\n",
    "    x+=str[0]\n",
    "    for i in range(1,len(str)):\n",
    "        x+=str[i]\n",
    "        if x==x[::-1]:\n",
    "            c+=1\n",
    "    return c\n",
    "str=\"madammadam\"\n",
    "palin_substring(str)"
   ]
  },
  {
   "cell_type": "code",
   "execution_count": 10,
   "id": "82ab703e",
   "metadata": {},
   "outputs": [
    {
     "name": "stdout",
     "output_type": "stream",
     "text": [
      "['m', 'a', 'd', 'a', 'm', 'm', 'a', 'd', 'a', 'm', 'mm', 'ada', 'ada', 'amma', 'madam', 'madam', 'dammad', 'adammada', 'madammadam']\n"
     ]
    }
   ],
   "source": [
    "def find_palindromic_substrings(s):\n",
    "    n = len(s)\n",
    "    # Initialize a 2D table with all zeroes.\n",
    "    dp = [[0] * n for _ in range(n)]\n",
    "    palindromes = []\n",
    "\n",
    "    # All substrings of length 1 are palindromes.\n",
    "    for i in range(n):\n",
    "        dp[i][i] = 1\n",
    "        palindromes.append(s[i])\n",
    "\n",
    "    # Check for substrings of length 2.\n",
    "    for i in range(n-1):\n",
    "        if s[i] == s[i+1]:\n",
    "            dp[i][i+1] = 1\n",
    "            palindromes.append(s[i:i+2])\n",
    "\n",
    "    # Check for substrings of length greater than 2.\n",
    "    for k in range(3, n+1):\n",
    "        for i in range(n-k+1):\n",
    "            j = i + k - 1\n",
    "            if dp[i+1][j-1] and s[i] == s[j]:\n",
    "                dp[i][j] = 1\n",
    "                palindromes.append(s[i:j+1])\n",
    "\n",
    "    return palindromes\n",
    "\n",
    "# Example usage:\n",
    "string = \"madammadam\"\n",
    "palindromes = find_palindromic_substrings(string)\n",
    "print(palindromes)\n"
   ]
  },
  {
   "cell_type": "code",
   "execution_count": 4,
   "id": "eb3fdcd4",
   "metadata": {},
   "outputs": [
    {
     "name": "stdout",
     "output_type": "stream",
     "text": [
      "['m', 'madam', 'madammadam', 'a', 'ada', 'adammada', 'd', 'dammad', 'a', 'amma', 'm', 'mm', 'm', 'madam', 'a', 'ada', 'd', 'a', 'm']\n",
      "19\n"
     ]
    }
   ],
   "source": [
    "def is_palindrome(substring):\n",
    "    return substring == substring[::-1]\n",
    "\n",
    "def find_palindromic_substrings(s):\n",
    "    n = len(s)\n",
    "    palindromes = []\n",
    "\n",
    "    for i in range(n):\n",
    "        for j in range(i, n):\n",
    "            substring = s[i:j+1]\n",
    "            if is_palindrome(substring):\n",
    "                palindromes.append(substring)\n",
    "\n",
    "    return palindromes\n",
    "\n",
    "string = \"madammadam\"\n",
    "palindromes = find_palindromic_substrings(string)\n",
    "print(palindromes)\n",
    "print(len(palindromes))\n"
   ]
  },
  {
   "cell_type": "code",
   "execution_count": 15,
   "id": "d4d6cac9",
   "metadata": {},
   "outputs": [
    {
     "name": "stdout",
     "output_type": "stream",
     "text": [
      "19\n"
     ]
    }
   ],
   "source": [
    "def main():\n",
    "    s = \"madammadam\"\n",
    "    n = len(s)\n",
    "    dp = [[0 for _ in range(n)] for _ in range(n)]\n",
    "    count = 0\n",
    "\n",
    "    for i in range(n):\n",
    "        dp[i][i] = 1\n",
    "        count += 1\n",
    "\n",
    "    for i in range(n-1):\n",
    "        if s[i] == s[i+1]:\n",
    "            dp[i][i+1] = 1\n",
    "            count += 1\n",
    "\n",
    "    for k in range(3, n+1):\n",
    "        for i in range(n-k+1):\n",
    "            j = i + k - 1\n",
    "            if s[i] == s[j] and dp[i+1][j-1]:\n",
    "                dp[i][j] = 1\n",
    "                count += 1\n",
    "\n",
    "    print(count)\n",
    "\n",
    "main()\n"
   ]
  },
  {
   "cell_type": "code",
   "execution_count": 12,
   "id": "8bc1c5d6",
   "metadata": {},
   "outputs": [
    {
     "data": {
      "text/plain": [
       "19"
      ]
     },
     "execution_count": 12,
     "metadata": {},
     "output_type": "execute_result"
    }
   ],
   "source": [
    "def main():\n",
    "    s = \"madammadam\"\n",
    "    n = len(s)\n",
    "    dp = [[0 for _ in range(n)] for _ in range(n)]\n",
    "    count = 0\n",
    "\n",
    "    i, j = 0, 0\n",
    "    while j<n:\n",
    "        jflag=j\n",
    "        while jflag<n:\n",
    "            if i==jflag:\n",
    "                dp[i][jflag]=1\n",
    "                count+=1\n",
    "            elif abs(i-jflag)==1:\n",
    "                if s[i]==s[jflag]:\n",
    "                    dp[i][jflag]=1\n",
    "                    count+=1\n",
    "                else:\n",
    "                    dp[i][jflag]=0\n",
    "            else:\n",
    "                if s[i]==s[jflag]:\n",
    "                    if dp[i+1][jflag-1]==1:\n",
    "                        dp[i][jflag]=1\n",
    "                        count+=1\n",
    "                    else:\n",
    "                        dp[i][jflag]=0\n",
    "                else:\n",
    "                    dp[i][jflag]=0\n",
    "            i+=1\n",
    "            jflag+=1\n",
    "        j+=1\n",
    "        i=0\n",
    "    return count\n",
    "main()"
   ]
  },
  {
   "cell_type": "code",
   "execution_count": 29,
   "id": "ed3349b1",
   "metadata": {},
   "outputs": [
    {
     "data": {
      "text/plain": [
       "9"
      ]
     },
     "execution_count": 29,
     "metadata": {},
     "output_type": "execute_result"
    }
   ],
   "source": [
    "def main():\n",
    "    s='bfffbfbffb'\n",
    "    visited=[0 for i in range(1000)]\n",
    "    cp=0\n",
    "    visited[cp]=1\n",
    "    ans=1\n",
    "    for ch in s:\n",
    "        if ch=='b':\n",
    "            if cp-1>=0:\n",
    "                cp-=1\n",
    "        else:\n",
    "            cp+=2\n",
    "        if visited[cp]!=1:\n",
    "            ans+=1\n",
    "            visited[cp]=1\n",
    "    return ans\n",
    "\n",
    "main()"
   ]
  },
  {
   "cell_type": "code",
   "execution_count": null,
   "id": "301c248f",
   "metadata": {},
   "outputs": [],
   "source": []
  },
  {
   "cell_type": "code",
   "execution_count": 5,
   "id": "e629fb73",
   "metadata": {},
   "outputs": [
    {
     "name": "stdin",
     "output_type": "stream",
     "text": [
      "Enter the list: 3,9,8,6,-1,-3,5,2,11\n",
      "Enter the index: 4\n"
     ]
    },
    {
     "name": "stdout",
     "output_type": "stream",
     "text": [
      "[3, 9, 8, 6, 11, 2, 5, -3, -1]\n"
     ]
    }
   ],
   "source": [
    "a=list(map(int,input(\"Enter the list:\").split(',')))#[3,9,8,6,-1,-3,5,2,11]\n",
    "k=int(input(\"Enter the index:\"))#k=4\n",
    "b=a[k:]\n",
    "l=a[:k]\n",
    "print(l+b[::-1])"
   ]
  },
  {
   "cell_type": "raw",
   "id": "babfa7b9",
   "metadata": {},
   "source": [
    "String=\"madammadam\"\n",
    "i)Count number of pallindromic substring\n",
    "ii)Count longest pallindromic substring\n",
    "iii)smallest pallindromic substring which is not 1 in length"
   ]
  },
  {
   "cell_type": "code",
   "execution_count": 6,
   "id": "5316c42a",
   "metadata": {},
   "outputs": [
    {
     "data": {
      "text/plain": [
       "2"
      ]
     },
     "execution_count": 6,
     "metadata": {},
     "output_type": "execute_result"
    }
   ],
   "source": [
    "def palin_substring(str):\n",
    "    #count no fo palindromic substring\n",
    "    x=\"\"\n",
    "    c=0\n",
    "    x+=str[0]\n",
    "    for i in range(1,len(str)):\n",
    "        x+=str[i]\n",
    "        if x==x[::-1]:\n",
    "            c+=1\n",
    "    return c\n",
    "str=\"madammadam\"\n",
    "palin_substring(str)"
   ]
  },
  {
   "cell_type": "code",
   "execution_count": 10,
   "id": "d8924fc9",
   "metadata": {},
   "outputs": [
    {
     "name": "stdout",
     "output_type": "stream",
     "text": [
      "['m', 'a', 'd', 'a', 'm', 'm', 'a', 'd', 'a', 'm', 'mm', 'ada', 'ada', 'amma', 'madam', 'madam', 'dammad', 'adammada', 'madammadam']\n"
     ]
    }
   ],
   "source": [
    "def find_palindromic_substrings(s):\n",
    "    n = len(s)\n",
    "    # Initialize a 2D table with all zeroes.\n",
    "    dp = [[0] * n for _ in range(n)]\n",
    "    palindromes = []\n",
    "\n",
    "    # All substrings of length 1 are palindromes.\n",
    "    for i in range(n):\n",
    "        dp[i][i] = 1\n",
    "        palindromes.append(s[i])\n",
    "\n",
    "    # Check for substrings of length 2.\n",
    "    for i in range(n-1):\n",
    "        if s[i] == s[i+1]:\n",
    "            dp[i][i+1] = 1\n",
    "            palindromes.append(s[i:i+2])\n",
    "\n",
    "    # Check for substrings of length greater than 2.\n",
    "    for k in range(3, n+1):\n",
    "        for i in range(n-k+1):\n",
    "            j = i + k - 1\n",
    "            if dp[i+1][j-1] and s[i] == s[j]:\n",
    "                dp[i][j] = 1\n",
    "                palindromes.append(s[i:j+1])\n",
    "\n",
    "    return palindromes\n",
    "\n",
    "# Example usage:\n",
    "string = \"madammadam\"\n",
    "palindromes = find_palindromic_substrings(string)\n",
    "print(palindromes)\n"
   ]
  },
  {
   "cell_type": "code",
   "execution_count": 4,
   "id": "8376a41b",
   "metadata": {},
   "outputs": [
    {
     "name": "stdout",
     "output_type": "stream",
     "text": [
      "['m', 'madam', 'madammadam', 'a', 'ada', 'adammada', 'd', 'dammad', 'a', 'amma', 'm', 'mm', 'm', 'madam', 'a', 'ada', 'd', 'a', 'm']\n",
      "19\n"
     ]
    }
   ],
   "source": [
    "def is_palindrome(substring):\n",
    "    return substring == substring[::-1]\n",
    "\n",
    "def find_palindromic_substrings(s):\n",
    "    n = len(s)\n",
    "    palindromes = []\n",
    "\n",
    "    for i in range(n):\n",
    "        for j in range(i, n):\n",
    "            substring = s[i:j+1]\n",
    "            if is_palindrome(substring):\n",
    "                palindromes.append(substring)\n",
    "\n",
    "    return palindromes\n",
    "\n",
    "# Example usage:\n",
    "string = \"madammadam\"\n",
    "palindromes = find_palindromic_substrings(string)\n",
    "print(palindromes)\n",
    "print(len(palindromes))\n"
   ]
  },
  {
   "cell_type": "code",
   "execution_count": 15,
   "id": "a2495d99",
   "metadata": {},
   "outputs": [
    {
     "name": "stdout",
     "output_type": "stream",
     "text": [
      "19\n"
     ]
    }
   ],
   "source": [
    "def main():\n",
    "    s = \"madammadam\"\n",
    "    n = len(s)\n",
    "    dp = [[0 for _ in range(n)] for _ in range(n)]\n",
    "    count = 0\n",
    "\n",
    "    for i in range(n):\n",
    "        dp[i][i] = 1\n",
    "        count += 1\n",
    "\n",
    "    for i in range(n-1):\n",
    "        if s[i] == s[i+1]:\n",
    "            dp[i][i+1] = 1\n",
    "            count += 1\n",
    "\n",
    "    for k in range(3, n+1):\n",
    "        for i in range(n-k+1):\n",
    "            j = i + k - 1\n",
    "            if s[i] == s[j] and dp[i+1][j-1]:\n",
    "                dp[i][j] = 1\n",
    "                count += 1\n",
    "\n",
    "    print(count)\n",
    "\n",
    "main()\n"
   ]
  },
  {
   "cell_type": "code",
   "execution_count": 12,
   "id": "084fa79a",
   "metadata": {},
   "outputs": [
    {
     "data": {
      "text/plain": [
       "19"
      ]
     },
     "execution_count": 12,
     "metadata": {},
     "output_type": "execute_result"
    }
   ],
   "source": [
    "def main():\n",
    "    s = \"madammadam\"\n",
    "    n = len(s)\n",
    "    dp = [[0 for _ in range(n)] for _ in range(n)]\n",
    "    count = 0\n",
    "\n",
    "    i, j = 0, 0\n",
    "    while j<n:\n",
    "        jflag=j\n",
    "        while jflag<n:\n",
    "            if i==jflag:\n",
    "                dp[i][jflag]=1\n",
    "                count+=1\n",
    "            elif abs(i-jflag)==1:\n",
    "                if s[i]==s[jflag]:\n",
    "                    dp[i][jflag]=1\n",
    "                    count+=1\n",
    "                else:\n",
    "                    dp[i][jflag]=0\n",
    "            else:\n",
    "                if s[i]==s[jflag]:\n",
    "                    if dp[i+1][jflag-1]==1:\n",
    "                        dp[i][jflag]=1\n",
    "                        count+=1\n",
    "                    else:\n",
    "                        dp[i][jflag]=0\n",
    "                else:\n",
    "                    dp[i][jflag]=0\n",
    "            i+=1\n",
    "            jflag+=1\n",
    "        j+=1\n",
    "        i=0\n",
    "    return count\n",
    "main()"
   ]
  },
  {
   "cell_type": "code",
   "execution_count": null,
   "id": "e7bdd183",
   "metadata": {},
   "outputs": [],
   "source": []
  },
  {
   "cell_type": "code",
   "execution_count": 5,
   "id": "815776ec",
   "metadata": {},
   "outputs": [
    {
     "name": "stdin",
     "output_type": "stream",
     "text": [
      "Enter the list: 3,9,8,6,-1,-3,5,2,11\n",
      "Enter the index: 4\n"
     ]
    },
    {
     "name": "stdout",
     "output_type": "stream",
     "text": [
      "[3, 9, 8, 6, 11, 2, 5, -3, -1]\n"
     ]
    }
   ],
   "source": [
    "a=list(map(int,input(\"Enter the list:\").split(',')))#[3,9,8,6,-1,-3,5,2,11]\n",
    "k=int(input(\"Enter the index:\"))#k=4\n",
    "b=a[k:]\n",
    "l=a[:k]\n",
    "print(l+b[::-1])"
   ]
  },
  {
   "cell_type": "raw",
   "id": "a6667134",
   "metadata": {},
   "source": [
    "String=\"madammadam\"\n",
    "i)Count number of pallindromic substring\n",
    "ii)Count longest pallindromic substring\n",
    "iii)smallest pallindromic substring which is not 1 in length"
   ]
  },
  {
   "cell_type": "code",
   "execution_count": 6,
   "id": "15e9b9e8",
   "metadata": {},
   "outputs": [
    {
     "data": {
      "text/plain": [
       "2"
      ]
     },
     "execution_count": 6,
     "metadata": {},
     "output_type": "execute_result"
    }
   ],
   "source": [
    "def palin_substring(str):\n",
    "    #count no fo palindromic substring\n",
    "    x=\"\"\n",
    "    c=0\n",
    "    x+=str[0]\n",
    "    for i in range(1,len(str)):\n",
    "        x+=str[i]\n",
    "        if x==x[::-1]:\n",
    "            c+=1\n",
    "    return c\n",
    "str=\"madammadam\"\n",
    "palin_substring(str)"
   ]
  },
  {
   "cell_type": "code",
   "execution_count": 10,
   "id": "09d56375",
   "metadata": {},
   "outputs": [
    {
     "name": "stdout",
     "output_type": "stream",
     "text": [
      "['m', 'a', 'd', 'a', 'm', 'm', 'a', 'd', 'a', 'm', 'mm', 'ada', 'ada', 'amma', 'madam', 'madam', 'dammad', 'adammada', 'madammadam']\n"
     ]
    }
   ],
   "source": [
    "def find_palindromic_substrings(s):\n",
    "    n = len(s)\n",
    "    # Initialize a 2D table with all zeroes.\n",
    "    dp = [[0] * n for _ in range(n)]\n",
    "    palindromes = []\n",
    "\n",
    "    # All substrings of length 1 are palindromes.\n",
    "    for i in range(n):\n",
    "        dp[i][i] = 1\n",
    "        palindromes.append(s[i])\n",
    "\n",
    "    # Check for substrings of length 2.\n",
    "    for i in range(n-1):\n",
    "        if s[i] == s[i+1]:\n",
    "            dp[i][i+1] = 1\n",
    "            palindromes.append(s[i:i+2])\n",
    "\n",
    "    # Check for substrings of length greater than 2.\n",
    "    for k in range(3, n+1):\n",
    "        for i in range(n-k+1):\n",
    "            j = i + k - 1\n",
    "            if dp[i+1][j-1] and s[i] == s[j]:\n",
    "                dp[i][j] = 1\n",
    "                palindromes.append(s[i:j+1])\n",
    "\n",
    "    return palindromes\n",
    "\n",
    "# Example usage:\n",
    "string = \"madammadam\"\n",
    "palindromes = find_palindromic_substrings(string)\n",
    "print(palindromes)\n"
   ]
  },
  {
   "cell_type": "code",
   "execution_count": 4,
   "id": "14ddbc0c",
   "metadata": {},
   "outputs": [
    {
     "name": "stdout",
     "output_type": "stream",
     "text": [
      "['m', 'madam', 'madammadam', 'a', 'ada', 'adammada', 'd', 'dammad', 'a', 'amma', 'm', 'mm', 'm', 'madam', 'a', 'ada', 'd', 'a', 'm']\n",
      "19\n"
     ]
    }
   ],
   "source": [
    "def is_palindrome(substring):\n",
    "    return substring == substring[::-1]\n",
    "\n",
    "def find_palindromic_substrings(s):\n",
    "    n = len(s)\n",
    "    palindromes = []\n",
    "\n",
    "    for i in range(n):\n",
    "        for j in range(i, n):\n",
    "            substring = s[i:j+1]\n",
    "            if is_palindrome(substring):\n",
    "                palindromes.append(substring)\n",
    "\n",
    "    return palindromes\n",
    "\n",
    "# Example usage:\n",
    "string = \"madammadam\"\n",
    "palindromes = find_palindromic_substrings(string)\n",
    "print(palindromes)\n",
    "print(len(palindromes))\n"
   ]
  },
  {
   "cell_type": "code",
   "execution_count": 15,
   "id": "95afea53",
   "metadata": {},
   "outputs": [
    {
     "name": "stdout",
     "output_type": "stream",
     "text": [
      "19\n"
     ]
    }
   ],
   "source": [
    "def main():\n",
    "    s = \"madammadam\"\n",
    "    n = len(s)\n",
    "    dp = [[0 for _ in range(n)] for _ in range(n)]\n",
    "    count = 0\n",
    "\n",
    "    for i in range(n):\n",
    "        dp[i][i] = 1\n",
    "        count += 1\n",
    "\n",
    "    for i in range(n-1):\n",
    "        if s[i] == s[i+1]:\n",
    "            dp[i][i+1] = 1\n",
    "            count += 1\n",
    "\n",
    "    for k in range(3, n+1):\n",
    "        for i in range(n-k+1):\n",
    "            j = i + k - 1\n",
    "            if s[i] == s[j] and dp[i+1][j-1]:\n",
    "                dp[i][j] = 1\n",
    "                count += 1\n",
    "\n",
    "    print(count)\n",
    "\n",
    "main()\n"
   ]
  },
  {
   "cell_type": "code",
   "execution_count": 12,
   "id": "8d73c7dc",
   "metadata": {},
   "outputs": [
    {
     "data": {
      "text/plain": [
       "19"
      ]
     },
     "execution_count": 12,
     "metadata": {},
     "output_type": "execute_result"
    }
   ],
   "source": [
    "def main():\n",
    "    s = \"madammadam\"\n",
    "    n = len(s)\n",
    "    dp = [[0 for _ in range(n)] for _ in range(n)]\n",
    "    count = 0\n",
    "\n",
    "    i, j = 0, 0\n",
    "    while j<n:\n",
    "        jflag=j\n",
    "        while jflag<n:\n",
    "            if i==jflag:\n",
    "                dp[i][jflag]=1\n",
    "                count+=1\n",
    "            elif abs(i-jflag)==1:\n",
    "                if s[i]==s[jflag]:\n",
    "                    dp[i][jflag]=1\n",
    "                    count+=1\n",
    "                else:\n",
    "                    dp[i][jflag]=0\n",
    "            else:\n",
    "                if s[i]==s[jflag]:\n",
    "                    if dp[i+1][jflag-1]==1:\n",
    "                        dp[i][jflag]=1\n",
    "                        count+=1\n",
    "                    else:\n",
    "                        dp[i][jflag]=0\n",
    "                else:\n",
    "                    dp[i][jflag]=0\n",
    "            i+=1\n",
    "            jflag+=1\n",
    "        j+=1\n",
    "        i=0\n",
    "    return count\n",
    "main()"
   ]
  },
  {
   "cell_type": "code",
   "execution_count": 29,
   "id": "49e591d8",
   "metadata": {},
   "outputs": [
    {
     "data": {
      "text/plain": [
       "9"
      ]
     },
     "execution_count": 29,
     "metadata": {},
     "output_type": "execute_result"
    }
   ],
   "source": [
    "def main():\n",
    "    s='bfffbfbffb'\n",
    "    visited=[0 for i in range(1000)]\n",
    "    cp=0\n",
    "    visited[cp]=1\n",
    "    ans=1\n",
    "    for ch in s:\n",
    "        if ch=='b':\n",
    "            if cp-1>=0:\n",
    "                cp-=1\n",
    "        else:\n",
    "            cp+=2\n",
    "        if visited[cp]!=1:\n",
    "            ans+=1\n",
    "            visited[cp]=1\n",
    "    return ans\n",
    "\n",
    "main()"
   ]
  },
  {
   "cell_type": "code",
   "execution_count": 10,
   "id": "c07a3d1a",
   "metadata": {},
   "outputs": [
    {
     "name": "stdout",
     "output_type": "stream",
     "text": [
      "5\n",
      "3\n",
      "3\n",
      "5\n"
     ]
    }
   ],
   "source": [
    "def fun(n):\n",
    "    if n<=2:\n",
    "        return\n",
    "    print(n)\n",
    "    fun(n-2)\n",
    "    fun(n-4)\n",
    "    print(n)\n",
    "fun(5)"
   ]
  },
  {
   "cell_type": "code",
   "execution_count": 2,
   "id": "52190553",
   "metadata": {},
   "outputs": [
    {
     "name": "stdout",
     "output_type": "stream",
     "text": [
      "Start_Time:- 1697039685.0513098 \n",
      "End_Time:- 1697039685.0513098\n"
     ]
    }
   ],
   "source": [
    "import time\n",
    "def fun(n):\n",
    "    if n<=2:\n",
    "        return n\n",
    "    return fun(n-4)+fun(n-2)\n",
    "start_time=time.time()\n",
    "fun(16)\n",
    "end_time=time.time()\n",
    "print(\"Start_Time:-\",start_time,\"\\nEnd_Time:-\",end_time)"
   ]
  },
  {
   "cell_type": "code",
   "execution_count": null,
   "id": "10a6fe1f-85c4-40e3-aedf-3259663f37a5",
   "metadata": {},
   "outputs": [],
   "source": []
  }
 ],
 "metadata": {
  "kernelspec": {
   "display_name": "Python 3 (ipykernel)",
   "language": "python",
   "name": "python3"
  },
  "language_info": {
   "codemirror_mode": {
    "name": "ipython",
    "version": 3
   },
   "file_extension": ".py",
   "mimetype": "text/x-python",
   "name": "python",
   "nbconvert_exporter": "python",
   "pygments_lexer": "ipython3",
   "version": "3.11.4"
  }
 },
 "nbformat": 4,
 "nbformat_minor": 5
}
