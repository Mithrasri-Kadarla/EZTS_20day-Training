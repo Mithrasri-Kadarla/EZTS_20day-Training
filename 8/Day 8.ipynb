{
 "cells": [
  {
   "cell_type": "markdown",
   "id": "ce13de37-332b-4c92-b573-e7b814a7d492",
   "metadata": {},
   "source": [
    "## Bubble sort"
   ]
  },
  {
   "cell_type": "code",
   "execution_count": null,
   "id": "2a2b3088-1c5f-45dd-a7e2-0a01b0e834a0",
   "metadata": {},
   "outputs": [],
   "source": [
    "def bubble(l):\n",
    "    n=len(l)\n",
    "    for i in range(n):\n",
    "        for j in range(0,n-i-1):\n",
    "            if l[j]>l[j+1]:\n",
    "                (l[j],l[j+1])=(l[j+1],l[j])\n",
    "    return l\n",
    "l=list(map(int,input().split()))\n",
    "print(\"SortedList:\",bubble(l))"
   ]
  },
  {
   "cell_type": "code",
   "execution_count": 11,
   "id": "227f0614-c3b2-411d-a04d-817902b9813f",
   "metadata": {},
   "outputs": [
    {
     "name": "stdin",
     "output_type": "stream",
     "text": [
      " 1 5 7 4 2 8 6\n"
     ]
    },
    {
     "name": "stdout",
     "output_type": "stream",
     "text": [
      "Insertion sort: [1, 2, 4, 5, 6, 7, 8]\n"
     ]
    }
   ],
   "source": [
    "def insertion_sort(arr):\n",
    "    for i in range(1, len(arr)):\n",
    "        key = arr[i]\n",
    "        j = i - 1\n",
    "        while j >= 0 and key < arr[j]:\n",
    "            arr[j + 1] = arr[j]\n",
    "            j -= 1\n",
    "        arr[j + 1] = key\n",
    "    return arr\n",
    "my_array =list(map(int,input().split()))\n",
    "insertion_sort(my_array)\n",
    "print(\"Insertion sort:\",insertion_sort(my_array))\n"
   ]
  },
  {
   "cell_type": "markdown",
   "id": "102b1e46-0c35-4bbf-972a-ad33d6cb8c20",
   "metadata": {},
   "source": [
    "## Quick sort"
   ]
  },
  {
   "cell_type": "code",
   "execution_count": 10,
   "id": "a9c28724-9b9d-411c-8666-6fab54b412c9",
   "metadata": {},
   "outputs": [
    {
     "name": "stdin",
     "output_type": "stream",
     "text": [
      " 1 4 7 5 2 9 8 6 3\n"
     ]
    },
    {
     "name": "stdout",
     "output_type": "stream",
     "text": [
      "SortedList: [1, 2, 3, 4, 5, 6, 7, 8, 9]\n"
     ]
    }
   ],
   "source": [
    "def quick(l):\n",
    "    if len(l)<=1:\n",
    "        return l\n",
    "    else:\n",
    "        p=l[0]\n",
    "        small=[i for i in l[1:] if i<=p]\n",
    "        big=[i for i in l[1:] if i>p]\n",
    "        return quick(small)+[p]+quick(big)\n",
    "l=list(map(int,input().split()))\n",
    "print(\"SortedList:\",quick(l))   "
   ]
  },
  {
   "cell_type": "markdown",
   "id": "bbdc54ec-9400-441e-93dd-f47af432211a",
   "metadata": {},
   "source": [
    "## Selection sort"
   ]
  },
  {
   "cell_type": "code",
   "execution_count": 4,
   "id": "d180d890-1570-4b44-a200-e92cb8a92cad",
   "metadata": {},
   "outputs": [
    {
     "name": "stdin",
     "output_type": "stream",
     "text": [
      " 1 4 8 5 2 7\n"
     ]
    },
    {
     "name": "stdout",
     "output_type": "stream",
     "text": [
      "SortedList: [1, 4, 5, 7, 2, 8]\n"
     ]
    }
   ],
   "source": [
    "#selection sort\n",
    "def selection_sort(arr):\n",
    "    n=len(arr)\n",
    "    for i in range(n):\n",
    "        pos=i\n",
    "        for j in range(i+1,n):\n",
    "            if arr[pos]>arr[j]:\n",
    "                pos=j\n",
    "            arr[i],arr[pos]=arr[pos],arr[i]\n",
    "    return arr\n",
    "l=list(map(int,input().split()))\n",
    "print(\"SortedList:\",selection_sort(l))  "
   ]
  },
  {
   "cell_type": "code",
   "execution_count": 5,
   "id": "377b21a6-1451-442d-a513-f48d97222b90",
   "metadata": {},
   "outputs": [
    {
     "name": "stdin",
     "output_type": "stream",
     "text": [
      " 4 5 1 7 2\n"
     ]
    },
    {
     "name": "stdout",
     "output_type": "stream",
     "text": [
      "SortedList: [1, 2, 4, 5, 7]\n"
     ]
    }
   ],
   "source": [
    "#selection sort\n",
    "def selection_sort(arr):\n",
    "    n=len(arr)\n",
    "    for i in range(n):\n",
    "        for j in range(i+1,n):\n",
    "            if arr[i]>arr[j]:\n",
    "                temp=arr[i]\n",
    "                arr[i]=arr[j]\n",
    "                arr[j]=temp\n",
    "\n",
    "    return arr\n",
    "l=list(map(int,input().split()))\n",
    "print(\"SortedList:\",selection_sort(l))  "
   ]
  },
  {
   "cell_type": "markdown",
   "id": "ee832278-7c5a-4d4a-914e-496de9911189",
   "metadata": {},
   "source": [
    "## Merge Sort"
   ]
  },
  {
   "cell_type": "code",
   "execution_count": 10,
   "id": "815a0dea-3396-4615-94f6-e0196547a814",
   "metadata": {},
   "outputs": [
    {
     "name": "stdin",
     "output_type": "stream",
     "text": [
      " 15  4 8 7 2 1 \n"
     ]
    },
    {
     "name": "stdout",
     "output_type": "stream",
     "text": [
      "Sorted array: [1, 2, 4, 7, 8, 15]\n"
     ]
    }
   ],
   "source": [
    "def merge_sort(arr):\n",
    "    if len(arr) > 1:\n",
    "        mid = len(arr) // 2\n",
    "        left_half = arr[:mid] \n",
    "        right_half = arr[mid:]\n",
    "\n",
    "        merge_sort(left_half)\n",
    "        merge_sort(right_half)\n",
    "\n",
    "        i = j = k = 0\n",
    "\n",
    "        while i < len(left_half) and j < len(right_half):\n",
    "            if left_half[i] < right_half[j]:\n",
    "                arr[k] = left_half[i]\n",
    "                i += 1\n",
    "            else:\n",
    "                arr[k] = right_half[j]\n",
    "                j += 1\n",
    "            k += 1\n",
    "\n",
    "        while i < len(left_half):\n",
    "            arr[k] = left_half[i]\n",
    "            i += 1\n",
    "            k += 1\n",
    " \n",
    "        while j < len(right_half):\n",
    "            arr[k] = right_half[j]\n",
    "            j += 1\n",
    "            k += 1\n",
    "    return arr\n",
    "\n",
    "l=list(map(int,input().split()))\n",
    "print(\"Sorted array:\",merge_sort(l))"
   ]
  },
  {
   "cell_type": "code",
   "execution_count": null,
   "id": "c455d535-8306-41e3-942b-1e6b001ecfa1",
   "metadata": {},
   "outputs": [],
   "source": [
    "l=list(map(int,input().split()))\n",
    "c=0\n",
    "for i in range(len(l)-1):\n",
    "    for j in range(i+1,len(l)):\n",
    "        if l[i]>l[j]:\n",
    "            c+=1\n",
    "        \n",
    "print(c)"
   ]
  },
  {
   "cell_type": "code",
   "execution_count": 10,
   "id": "13101f92-94e3-41fd-b59e-64f7e3c7219e",
   "metadata": {},
   "outputs": [
    {
     "name": "stdout",
     "output_type": "stream",
     "text": [
      "Number of inversions: 4\n"
     ]
    }
   ],
   "source": [
    "def count_inversions(arr):\n",
    "    def merge(arr, left, mid, right):\n",
    "        left_half = arr[left:mid+1]\n",
    "        right_half = arr[mid+1:right+1]\n",
    "        \n",
    "        i = j = k = 0\n",
    "        inversions = 0\n",
    "\n",
    "        while i < len(left_half) and j < len(right_half):\n",
    "            if left_half[i] <= right_half[j]:\n",
    "                arr[left + k] = left_half[i]\n",
    "                i += 1\n",
    "            else:\n",
    "                arr[left + k] = right_half[j]\n",
    "                j += 1\n",
    "                inversions += len(left_half) - i  # Count inversions when an element from the right is smaller\n",
    "\n",
    "            k += 1\n",
    "\n",
    "        while i < len(left_half):\n",
    "            arr[left + k] = left_half[i]\n",
    "            i += 1\n",
    "            k += 1\n",
    "\n",
    "        while j < len(right_half):\n",
    "            arr[left + k] = right_half[j]\n",
    "            j += 1\n",
    "            k += 1\n",
    "\n",
    "        return inversions\n",
    "\n",
    "    def count_inversions_helper(arr, left, right):\n",
    "        inversions = 0\n",
    "        if left < right:\n",
    "            mid = (left + right) // 2\n",
    "            inversions += count_inversions_helper(arr, left, mid)\n",
    "            inversions += count_inversions_helper(arr, mid + 1, right)\n",
    "            inversions += merge(arr, left, mid, right)\n",
    "        return inversions\n",
    "\n",
    "    return count_inversions_helper(arr, 0, len(arr) - 1)\n",
    "\n",
    "# Example usage:\n",
    "arr = [1, 3, 2, 4, 1]\n",
    "inversions = count_inversions(arr)\n",
    "print(\"Number of inversions:\",inversions)\n"
   ]
  },
  {
   "cell_type": "code",
   "execution_count": 21,
   "id": "2df638a6-a8a9-4b83-bcc6-4412ea149715",
   "metadata": {},
   "outputs": [
    {
     "name": "stdin",
     "output_type": "stream",
     "text": [
      " 1 4 7\n"
     ]
    },
    {
     "name": "stdout",
     "output_type": "stream",
     "text": [
      "147\n",
      "148\n",
      "[1, 4, 8]\n"
     ]
    }
   ],
   "source": [
    "l=list(map(int,input().split()))\n",
    "s=''\n",
    "for i in l:\n",
    "    s+=str(i)\n",
    "print(s)\n",
    "x=int(s)\n",
    "new=x+1\n",
    "print(new)\n",
    "xl=[]\n",
    "for i in str(new):\n",
    "    xl.append(int(i))\n",
    "print(xl)"
   ]
  },
  {
   "cell_type": "code",
   "execution_count": null,
   "id": "9ab07bad-9899-42e6-afc5-a11d1b4a1dc2",
   "metadata": {},
   "outputs": [],
   "source": []
  },
  {
   "cell_type": "markdown",
   "id": "c8b8b886",
   "metadata": {},
   "source": [
    "## Bubble sort"
   ]
  },
  {
   "cell_type": "code",
   "execution_count": null,
   "id": "2d3d30fa",
   "metadata": {},
   "outputs": [],
   "source": [
    "def bubble(l):\n",
    "    n=len(l)\n",
    "    for i in range(n):\n",
    "        for j in range(0,n-i-1):\n",
    "            if l[j]>l[j+1]:\n",
    "                (l[j],l[j+1])=(l[j+1],l[j])\n",
    "    return l\n",
    "l=list(map(int,input().split()))\n",
    "print(\"SortedList:\",bubble(l))"
   ]
  },
  {
   "cell_type": "code",
   "execution_count": 11,
   "id": "9e19385a",
   "metadata": {},
   "outputs": [
    {
     "name": "stdin",
     "output_type": "stream",
     "text": [
      " 1 5 7 4 2 8 6\n"
     ]
    },
    {
     "name": "stdout",
     "output_type": "stream",
     "text": [
      "Insertion sort: [1, 2, 4, 5, 6, 7, 8]\n"
     ]
    }
   ],
   "source": [
    "def insertion_sort(arr):\n",
    "    for i in range(1, len(arr)):\n",
    "        key = arr[i]\n",
    "        j = i - 1\n",
    "        while j >= 0 and key < arr[j]:\n",
    "            arr[j + 1] = arr[j]\n",
    "            j -= 1\n",
    "        arr[j + 1] = key\n",
    "    return arr\n",
    "my_array =list(map(int,input().split()))\n",
    "insertion_sort(my_array)\n",
    "print(\"Insertion sort:\",insertion_sort(my_array))\n"
   ]
  },
  {
   "cell_type": "markdown",
   "id": "90e0b30f",
   "metadata": {},
   "source": [
    "## Quick sort"
   ]
  },
  {
   "cell_type": "code",
   "execution_count": 10,
   "id": "58cf30ca",
   "metadata": {},
   "outputs": [
    {
     "name": "stdin",
     "output_type": "stream",
     "text": [
      " 1 4 7 5 2 9 8 6 3\n"
     ]
    },
    {
     "name": "stdout",
     "output_type": "stream",
     "text": [
      "SortedList: [1, 2, 3, 4, 5, 6, 7, 8, 9]\n"
     ]
    }
   ],
   "source": [
    "def quick(l):\n",
    "    if len(l)<=1:\n",
    "        return l\n",
    "    else:\n",
    "        p=l[0]\n",
    "        small=[i for i in l[1:] if i<=p]\n",
    "        big=[i for i in l[1:] if i>p]\n",
    "        return quick(small)+[p]+quick(big)\n",
    "l=list(map(int,input().split()))\n",
    "print(\"SortedList:\",quick(l))   "
   ]
  },
  {
   "cell_type": "markdown",
   "id": "396615f4",
   "metadata": {},
   "source": [
    "## Selection sort"
   ]
  },
  {
   "cell_type": "code",
   "execution_count": 4,
   "id": "905e1dea",
   "metadata": {},
   "outputs": [
    {
     "name": "stdin",
     "output_type": "stream",
     "text": [
      " 1 4 8 5 2 7\n"
     ]
    },
    {
     "name": "stdout",
     "output_type": "stream",
     "text": [
      "SortedList: [1, 4, 5, 7, 2, 8]\n"
     ]
    }
   ],
   "source": [
    "#selection sort\n",
    "def selection_sort(arr):\n",
    "    n=len(arr)\n",
    "    for i in range(n):\n",
    "        pos=i\n",
    "        for j in range(i+1,n):\n",
    "            if arr[pos]>arr[j]:\n",
    "                pos=j\n",
    "            arr[i],arr[pos]=arr[pos],arr[i]\n",
    "    return arr\n",
    "l=list(map(int,input().split()))\n",
    "print(\"SortedList:\",selection_sort(l))  "
   ]
  },
  {
   "cell_type": "code",
   "execution_count": 5,
   "id": "b6432c07",
   "metadata": {},
   "outputs": [
    {
     "name": "stdin",
     "output_type": "stream",
     "text": [
      " 4 5 1 7 2\n"
     ]
    },
    {
     "name": "stdout",
     "output_type": "stream",
     "text": [
      "SortedList: [1, 2, 4, 5, 7]\n"
     ]
    }
   ],
   "source": [
    "#selection sort\n",
    "def selection_sort(arr):\n",
    "    n=len(arr)\n",
    "    for i in range(n):\n",
    "        for j in range(i+1,n):\n",
    "            if arr[i]>arr[j]:\n",
    "                temp=arr[i]\n",
    "                arr[i]=arr[j]\n",
    "                arr[j]=temp\n",
    "\n",
    "    return arr\n",
    "l=list(map(int,input().split()))\n",
    "print(\"SortedList:\",selection_sort(l))  "
   ]
  },
  {
   "cell_type": "markdown",
   "id": "5e9361d5",
   "metadata": {},
   "source": [
    "## Merge Sort"
   ]
  },
  {
   "cell_type": "code",
   "execution_count": 10,
   "id": "168fc6d4",
   "metadata": {},
   "outputs": [
    {
     "name": "stdin",
     "output_type": "stream",
     "text": [
      " 15  4 8 7 2 1 \n"
     ]
    },
    {
     "name": "stdout",
     "output_type": "stream",
     "text": [
      "Sorted array: [1, 2, 4, 7, 8, 15]\n"
     ]
    }
   ],
   "source": [
    "def merge_sort(arr):\n",
    "    if len(arr) > 1:\n",
    "        mid = len(arr) // 2\n",
    "        left_half = arr[:mid] \n",
    "        right_half = arr[mid:]\n",
    "\n",
    "        merge_sort(left_half)\n",
    "        merge_sort(right_half)\n",
    "\n",
    "        i = j = k = 0\n",
    "\n",
    "        while i < len(left_half) and j < len(right_half):\n",
    "            if left_half[i] < right_half[j]:\n",
    "                arr[k] = left_half[i]\n",
    "                i += 1\n",
    "            else:\n",
    "                arr[k] = right_half[j]\n",
    "                j += 1\n",
    "            k += 1\n",
    "\n",
    "        while i < len(left_half):\n",
    "            arr[k] = left_half[i]\n",
    "            i += 1\n",
    "            k += 1\n",
    " \n",
    "        while j < len(right_half):\n",
    "            arr[k] = right_half[j]\n",
    "            j += 1\n",
    "            k += 1\n",
    "    return arr\n",
    "\n",
    "l=list(map(int,input().split()))\n",
    "print(\"Sorted array:\",merge_sort(l))"
   ]
  },
  {
   "cell_type": "code",
   "execution_count": 7,
   "id": "b5671709",
   "metadata": {},
   "outputs": [
    {
     "ename": "KeyboardInterrupt",
     "evalue": "Interrupted by user",
     "output_type": "error",
     "traceback": [
      "\u001b[1;31m---------------------------------------------------------------------------\u001b[0m",
      "\u001b[1;31mKeyboardInterrupt\u001b[0m                         Traceback (most recent call last)",
      "Cell \u001b[1;32mIn[7], line 1\u001b[0m\n\u001b[1;32m----> 1\u001b[0m l\u001b[38;5;241m=\u001b[39m\u001b[38;5;28mlist\u001b[39m(\u001b[38;5;28mmap\u001b[39m(\u001b[38;5;28mint\u001b[39m,\u001b[38;5;28;43minput\u001b[39;49m\u001b[43m(\u001b[49m\u001b[43m)\u001b[49m\u001b[38;5;241m.\u001b[39msplit()))\n\u001b[0;32m      2\u001b[0m c\u001b[38;5;241m=\u001b[39m\u001b[38;5;241m0\u001b[39m\n\u001b[0;32m      3\u001b[0m \u001b[38;5;28;01mfor\u001b[39;00m i \u001b[38;5;129;01min\u001b[39;00m \u001b[38;5;28mrange\u001b[39m(\u001b[38;5;28mlen\u001b[39m(l)\u001b[38;5;241m-\u001b[39m\u001b[38;5;241m1\u001b[39m):\n",
      "File \u001b[1;32m~\\AppData\\Local\\Programs\\Python\\Python311\\Lib\\site-packages\\ipykernel\\kernelbase.py:1191\u001b[0m, in \u001b[0;36mKernel.raw_input\u001b[1;34m(self, prompt)\u001b[0m\n\u001b[0;32m   1189\u001b[0m     msg \u001b[38;5;241m=\u001b[39m \u001b[38;5;124m\"\u001b[39m\u001b[38;5;124mraw_input was called, but this frontend does not support input requests.\u001b[39m\u001b[38;5;124m\"\u001b[39m\n\u001b[0;32m   1190\u001b[0m     \u001b[38;5;28;01mraise\u001b[39;00m StdinNotImplementedError(msg)\n\u001b[1;32m-> 1191\u001b[0m \u001b[38;5;28;01mreturn\u001b[39;00m \u001b[38;5;28;43mself\u001b[39;49m\u001b[38;5;241;43m.\u001b[39;49m\u001b[43m_input_request\u001b[49m\u001b[43m(\u001b[49m\n\u001b[0;32m   1192\u001b[0m \u001b[43m    \u001b[49m\u001b[38;5;28;43mstr\u001b[39;49m\u001b[43m(\u001b[49m\u001b[43mprompt\u001b[49m\u001b[43m)\u001b[49m\u001b[43m,\u001b[49m\n\u001b[0;32m   1193\u001b[0m \u001b[43m    \u001b[49m\u001b[38;5;28;43mself\u001b[39;49m\u001b[38;5;241;43m.\u001b[39;49m\u001b[43m_parent_ident\u001b[49m\u001b[43m[\u001b[49m\u001b[38;5;124;43m\"\u001b[39;49m\u001b[38;5;124;43mshell\u001b[39;49m\u001b[38;5;124;43m\"\u001b[39;49m\u001b[43m]\u001b[49m\u001b[43m,\u001b[49m\n\u001b[0;32m   1194\u001b[0m \u001b[43m    \u001b[49m\u001b[38;5;28;43mself\u001b[39;49m\u001b[38;5;241;43m.\u001b[39;49m\u001b[43mget_parent\u001b[49m\u001b[43m(\u001b[49m\u001b[38;5;124;43m\"\u001b[39;49m\u001b[38;5;124;43mshell\u001b[39;49m\u001b[38;5;124;43m\"\u001b[39;49m\u001b[43m)\u001b[49m\u001b[43m,\u001b[49m\n\u001b[0;32m   1195\u001b[0m \u001b[43m    \u001b[49m\u001b[43mpassword\u001b[49m\u001b[38;5;241;43m=\u001b[39;49m\u001b[38;5;28;43;01mFalse\u001b[39;49;00m\u001b[43m,\u001b[49m\n\u001b[0;32m   1196\u001b[0m \u001b[43m\u001b[49m\u001b[43m)\u001b[49m\n",
      "File \u001b[1;32m~\\AppData\\Local\\Programs\\Python\\Python311\\Lib\\site-packages\\ipykernel\\kernelbase.py:1234\u001b[0m, in \u001b[0;36mKernel._input_request\u001b[1;34m(self, prompt, ident, parent, password)\u001b[0m\n\u001b[0;32m   1231\u001b[0m \u001b[38;5;28;01mexcept\u001b[39;00m \u001b[38;5;167;01mKeyboardInterrupt\u001b[39;00m:\n\u001b[0;32m   1232\u001b[0m     \u001b[38;5;66;03m# re-raise KeyboardInterrupt, to truncate traceback\u001b[39;00m\n\u001b[0;32m   1233\u001b[0m     msg \u001b[38;5;241m=\u001b[39m \u001b[38;5;124m\"\u001b[39m\u001b[38;5;124mInterrupted by user\u001b[39m\u001b[38;5;124m\"\u001b[39m\n\u001b[1;32m-> 1234\u001b[0m     \u001b[38;5;28;01mraise\u001b[39;00m \u001b[38;5;167;01mKeyboardInterrupt\u001b[39;00m(msg) \u001b[38;5;28;01mfrom\u001b[39;00m \u001b[38;5;28;01mNone\u001b[39;00m\n\u001b[0;32m   1235\u001b[0m \u001b[38;5;28;01mexcept\u001b[39;00m \u001b[38;5;167;01mException\u001b[39;00m:\n\u001b[0;32m   1236\u001b[0m     \u001b[38;5;28mself\u001b[39m\u001b[38;5;241m.\u001b[39mlog\u001b[38;5;241m.\u001b[39mwarning(\u001b[38;5;124m\"\u001b[39m\u001b[38;5;124mInvalid Message:\u001b[39m\u001b[38;5;124m\"\u001b[39m, exc_info\u001b[38;5;241m=\u001b[39m\u001b[38;5;28;01mTrue\u001b[39;00m)\n",
      "\u001b[1;31mKeyboardInterrupt\u001b[0m: Interrupted by user"
     ]
    }
   ],
   "source": [
    "l=list(map(int,input().split()))\n",
    "c=0\n",
    "for i in range(len(l)-1):\n",
    "    for j in range(i+1,len(l)):\n",
    "        if l[i]>l[j]:\n",
    "            c+=1\n",
    "        \n",
    "print(c)"
   ]
  },
  {
   "cell_type": "code",
   "execution_count": 10,
   "id": "18f2b8ef",
   "metadata": {},
   "outputs": [
    {
     "name": "stdout",
     "output_type": "stream",
     "text": [
      "Number of inversions: 4\n"
     ]
    }
   ],
   "source": [
    "def count_inversions(arr):\n",
    "    def merge(arr, left, mid, right):\n",
    "        left_half = arr[left:mid+1]\n",
    "        right_half = arr[mid+1:right+1]\n",
    "        \n",
    "        i = j = k = 0\n",
    "        inversions = 0\n",
    "\n",
    "        while i < len(left_half) and j < len(right_half):\n",
    "            if left_half[i] <= right_half[j]:\n",
    "                arr[left + k] = left_half[i]\n",
    "                i += 1\n",
    "            else:\n",
    "                arr[left + k] = right_half[j]\n",
    "                j += 1\n",
    "                inversions += len(left_half) - i  # Count inversions when an element from the right is smaller\n",
    "\n",
    "            k += 1\n",
    "\n",
    "        while i < len(left_half):\n",
    "            arr[left + k] = left_half[i]\n",
    "            i += 1\n",
    "            k += 1\n",
    "\n",
    "        while j < len(right_half):\n",
    "            arr[left + k] = right_half[j]\n",
    "            j += 1\n",
    "            k += 1\n",
    "\n",
    "        return inversions\n",
    "\n",
    "    def count_inversions_helper(arr, left, right):\n",
    "        inversions = 0\n",
    "        if left < right:\n",
    "            mid = (left + right) // 2\n",
    "            inversions += count_inversions_helper(arr, left, mid)\n",
    "            inversions += count_inversions_helper(arr, mid + 1, right)\n",
    "            inversions += merge(arr, left, mid, right)\n",
    "        return inversions\n",
    "\n",
    "    return count_inversions_helper(arr, 0, len(arr) - 1)\n",
    "\n",
    "# Example usage:\n",
    "arr = [1, 3, 2, 4, 1]\n",
    "inversions = count_inversions(arr)\n",
    "print(\"Number of inversions:\",inversions)\n"
   ]
  },
  {
   "cell_type": "code",
   "execution_count": 21,
   "id": "93a07179",
   "metadata": {},
   "outputs": [
    {
     "name": "stdin",
     "output_type": "stream",
     "text": [
      " 1 4 7\n"
     ]
    },
    {
     "name": "stdout",
     "output_type": "stream",
     "text": [
      "147\n",
      "148\n",
      "[1, 4, 8]\n"
     ]
    }
   ],
   "source": [
    "l=list(map(int,input().split()))\n",
    "s=''\n",
    "for i in l:\n",
    "    s+=str(i)\n",
    "print(s)\n",
    "x=int(s)\n",
    "new=x+1\n",
    "print(new)\n",
    "xl=[]\n",
    "for i in str(new):\n",
    "    xl.append(int(i))\n",
    "print(xl)"
   ]
  },
  {
   "cell_type": "code",
   "execution_count": null,
   "id": "85a819b0",
   "metadata": {},
   "outputs": [],
   "source": []
  }
 ],
 "metadata": {
  "kernelspec": {
   "display_name": "Python 3 (ipykernel)",
   "language": "python",
   "name": "python3"
  },
  "language_info": {
   "codemirror_mode": {
    "name": "ipython",
    "version": 3
   },
   "file_extension": ".py",
   "mimetype": "text/x-python",
   "name": "python",
   "nbconvert_exporter": "python",
   "pygments_lexer": "ipython3",
   "version": "3.11.4"
  }
 },
 "nbformat": 4,
 "nbformat_minor": 5
}
