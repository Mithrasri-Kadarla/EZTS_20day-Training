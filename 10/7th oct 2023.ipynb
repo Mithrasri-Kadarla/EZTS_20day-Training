{
 "cells": [
  {
   "cell_type": "markdown",
   "id": "f4c62bd7-e15f-4afc-a9d1-ee701a0db850",
   "metadata": {},
   "source": [
    "## Generating the otp"
   ]
  },
  {
   "cell_type": "code",
   "execution_count": 3,
   "id": "c4acf83d-3678-43c1-8b5b-fde32b4a1ff7",
   "metadata": {},
   "outputs": [
    {
     "name": "stdin",
     "output_type": "stream",
     "text": [
      " 7564168\n"
     ]
    },
    {
     "name": "stdout",
     "output_type": "stream",
     "text": [
      "2516\n"
     ]
    }
   ],
   "source": [
    "x=input()#7564168\n",
    "s=''\n",
    "for i in range(len(x)):\n",
    "    if i%2!=0:\n",
    "        x1=str(int(x[i])**2)\n",
    "        s+=x1\n",
    "print(s[0:4])"
   ]
  },
  {
   "cell_type": "code",
   "execution_count": 26,
   "id": "c421d6bc-ed2f-444c-99b9-1e5eeef33266",
   "metadata": {},
   "outputs": [
    {
     "ename": "KeyboardInterrupt",
     "evalue": "Interrupted by user",
     "output_type": "error",
     "traceback": [
      "\u001b[1;31m---------------------------------------------------------------------------\u001b[0m",
      "\u001b[1;31mKeyboardInterrupt\u001b[0m                         Traceback (most recent call last)",
      "Cell \u001b[1;32mIn[26], line 2\u001b[0m\n\u001b[0;32m      1\u001b[0m \u001b[38;5;66;03m#Abhishek:43848,Mayur:3749,Friend:3949,Yeah:7878(kueX)\u001b[39;00m\n\u001b[1;32m----> 2\u001b[0m s\u001b[38;5;241m=\u001b[39m\u001b[38;5;28;43minput\u001b[39;49m\u001b[43m(\u001b[49m\u001b[43m)\u001b[49m\n\u001b[0;32m      3\u001b[0m los\u001b[38;5;241m=\u001b[39ms\u001b[38;5;241m.\u001b[39msplit(\u001b[38;5;124m'\u001b[39m\u001b[38;5;124m,\u001b[39m\u001b[38;5;124m'\u001b[39m)\n\u001b[0;32m      4\u001b[0m op\u001b[38;5;241m=\u001b[39m\u001b[38;5;124m'\u001b[39m\u001b[38;5;124m'\u001b[39m\n",
      "File \u001b[1;32m~\\AppData\\Local\\Programs\\Python\\Python311\\Lib\\site-packages\\ipykernel\\kernelbase.py:1191\u001b[0m, in \u001b[0;36mKernel.raw_input\u001b[1;34m(self, prompt)\u001b[0m\n\u001b[0;32m   1189\u001b[0m     msg \u001b[38;5;241m=\u001b[39m \u001b[38;5;124m\"\u001b[39m\u001b[38;5;124mraw_input was called, but this frontend does not support input requests.\u001b[39m\u001b[38;5;124m\"\u001b[39m\n\u001b[0;32m   1190\u001b[0m     \u001b[38;5;28;01mraise\u001b[39;00m StdinNotImplementedError(msg)\n\u001b[1;32m-> 1191\u001b[0m \u001b[38;5;28;01mreturn\u001b[39;00m \u001b[38;5;28;43mself\u001b[39;49m\u001b[38;5;241;43m.\u001b[39;49m\u001b[43m_input_request\u001b[49m\u001b[43m(\u001b[49m\n\u001b[0;32m   1192\u001b[0m \u001b[43m    \u001b[49m\u001b[38;5;28;43mstr\u001b[39;49m\u001b[43m(\u001b[49m\u001b[43mprompt\u001b[49m\u001b[43m)\u001b[49m\u001b[43m,\u001b[49m\n\u001b[0;32m   1193\u001b[0m \u001b[43m    \u001b[49m\u001b[38;5;28;43mself\u001b[39;49m\u001b[38;5;241;43m.\u001b[39;49m\u001b[43m_parent_ident\u001b[49m\u001b[43m[\u001b[49m\u001b[38;5;124;43m\"\u001b[39;49m\u001b[38;5;124;43mshell\u001b[39;49m\u001b[38;5;124;43m\"\u001b[39;49m\u001b[43m]\u001b[49m\u001b[43m,\u001b[49m\n\u001b[0;32m   1194\u001b[0m \u001b[43m    \u001b[49m\u001b[38;5;28;43mself\u001b[39;49m\u001b[38;5;241;43m.\u001b[39;49m\u001b[43mget_parent\u001b[49m\u001b[43m(\u001b[49m\u001b[38;5;124;43m\"\u001b[39;49m\u001b[38;5;124;43mshell\u001b[39;49m\u001b[38;5;124;43m\"\u001b[39;49m\u001b[43m)\u001b[49m\u001b[43m,\u001b[49m\n\u001b[0;32m   1195\u001b[0m \u001b[43m    \u001b[49m\u001b[43mpassword\u001b[49m\u001b[38;5;241;43m=\u001b[39;49m\u001b[38;5;28;43;01mFalse\u001b[39;49;00m\u001b[43m,\u001b[49m\n\u001b[0;32m   1196\u001b[0m \u001b[43m\u001b[49m\u001b[43m)\u001b[49m\n",
      "File \u001b[1;32m~\\AppData\\Local\\Programs\\Python\\Python311\\Lib\\site-packages\\ipykernel\\kernelbase.py:1234\u001b[0m, in \u001b[0;36mKernel._input_request\u001b[1;34m(self, prompt, ident, parent, password)\u001b[0m\n\u001b[0;32m   1231\u001b[0m \u001b[38;5;28;01mexcept\u001b[39;00m \u001b[38;5;167;01mKeyboardInterrupt\u001b[39;00m:\n\u001b[0;32m   1232\u001b[0m     \u001b[38;5;66;03m# re-raise KeyboardInterrupt, to truncate traceback\u001b[39;00m\n\u001b[0;32m   1233\u001b[0m     msg \u001b[38;5;241m=\u001b[39m \u001b[38;5;124m\"\u001b[39m\u001b[38;5;124mInterrupted by user\u001b[39m\u001b[38;5;124m\"\u001b[39m\n\u001b[1;32m-> 1234\u001b[0m     \u001b[38;5;28;01mraise\u001b[39;00m \u001b[38;5;167;01mKeyboardInterrupt\u001b[39;00m(msg) \u001b[38;5;28;01mfrom\u001b[39;00m \u001b[38;5;28;01mNone\u001b[39;00m\n\u001b[0;32m   1235\u001b[0m \u001b[38;5;28;01mexcept\u001b[39;00m \u001b[38;5;167;01mException\u001b[39;00m:\n\u001b[0;32m   1236\u001b[0m     \u001b[38;5;28mself\u001b[39m\u001b[38;5;241m.\u001b[39mlog\u001b[38;5;241m.\u001b[39mwarning(\u001b[38;5;124m\"\u001b[39m\u001b[38;5;124mInvalid Message:\u001b[39m\u001b[38;5;124m\"\u001b[39m, exc_info\u001b[38;5;241m=\u001b[39m\u001b[38;5;28;01mTrue\u001b[39;00m)\n",
      "\u001b[1;31mKeyboardInterrupt\u001b[0m: Interrupted by user"
     ]
    }
   ],
   "source": [
    "#Abhishek:43848,Mayur:3749,Friend:3949,Yeah:7878(kueX)\n",
    "s=input()\n",
    "los=s.split(',')\n",
    "op=''\n",
    "for i in los:\n",
    "    nc=i.split(':')\n",
    "    name=nc[0]\n",
    "    code=nc[1]\n",
    "    l=len(name)\n",
    "    max=0\n",
    "    for i in code:\n",
    "        if int(i)>max and int(i)<=len(name):\n",
    "            max=int(i)\n",
    "    if max==0:\n",
    "        op+='X'\n",
    "    else:\n",
    "        op+=name[max-1]\n",
    "print(op)"
   ]
  },
  {
   "cell_type": "markdown",
   "id": "f87f30a3-3ea2-4f84-8e8a-c1fcae849e80",
   "metadata": {},
   "source": [
    "## Returning the index of imbalanced parenthesis"
   ]
  },
  {
   "cell_type": "code",
   "execution_count": 5,
   "id": "841a00d6-85c7-4c7d-a0e3-6ffdf2cd8a77",
   "metadata": {},
   "outputs": [
    {
     "name": "stdin",
     "output_type": "stream",
     "text": [
      " {(){}[]}}(}\n"
     ]
    },
    {
     "name": "stdout",
     "output_type": "stream",
     "text": [
      "( 1\n",
      "{ 3\n",
      "[ 5\n",
      "{ 0\n",
      "Extra closing bracket at index 8\n",
      "( 9\n",
      "Mismatched brackets at index 9 and 10\n"
     ]
    }
   ],
   "source": [
    "s = input()#{(){}[]}}(}-10\n",
    "stack = []\n",
    "\n",
    "for i in range(len(s)):\n",
    "    if s[i] in '([{':\n",
    "        stack.append((s[i], i))\n",
    "    elif s[i] in ')]}':\n",
    "        if not stack:\n",
    "            print(f\"Extra closing bracket at index {i}\")\n",
    "        else:\n",
    "            top, index = stack.pop()\n",
    "            print(top,index)\n",
    "            if (top == '(' and s[i] != ')') or (top == '[' and s[i] != ']') or (top == '{' and s[i] != '}'):\n",
    "                print(f\"Mismatched brackets at index {index} and {i}\")\n",
    "\n",
    "while stack:\n",
    "    top, index = stack.pop()\n",
    "    print(f\"Extra opening bracket at index {index}\")\n"
   ]
  },
  {
   "cell_type": "markdown",
   "id": "fb7e9b08-512e-4419-9011-63b72a08d315",
   "metadata": {},
   "source": [
    "## Reversing the string and placing the special character at the same indx"
   ]
  },
  {
   "cell_type": "code",
   "execution_count": 6,
   "id": "afb134b0-55e9-482c-bf49-1d2e9c65e131",
   "metadata": {},
   "outputs": [
    {
     "name": "stdin",
     "output_type": "stream",
     "text": [
      " py@thon\n"
     ]
    },
    {
     "name": "stdout",
     "output_type": "stream",
     "text": [
      "no@htyp\n"
     ]
    }
   ],
   "source": [
    "def fun(s):\n",
    "    l=[]\n",
    "    for i in s:\n",
    "        if i.isalpha():\n",
    "            l.append(i)\n",
    "        else:\n",
    "            spc=i\n",
    "            idxspc=s.index(i)\n",
    "    l.reverse()\n",
    "    l.insert(idxspc,spc)\n",
    "    return ''.join(l)\n",
    "s=input()\n",
    "print(fun(s))"
   ]
  },
  {
   "cell_type": "code",
   "execution_count": 7,
   "id": "f40782af-5800-4ef6-895e-9b643e4099a7",
   "metadata": {},
   "outputs": [
    {
     "name": "stdin",
     "output_type": "stream",
     "text": [
      " 2,5,1,4,3,2,7,8\n"
     ]
    },
    {
     "name": "stdout",
     "output_type": "stream",
     "text": [
      "4343\n"
     ]
    }
   ],
   "source": [
    "n1=input().split(',')#2,5,1,4,3,2,7,8\n",
    "\n",
    "s=[]\n",
    "st=''\n",
    "for i in n1:\n",
    "    i=int(i)\n",
    "    s.append(i)\n",
    "l=s.index(4)\n",
    "u=s.index(7)\n",
    "out=''\n",
    "for i in range(l,u+1):\n",
    "    out+=str(s[i])\n",
    "li=[]\n",
    "for i in range(0,l):\n",
    "    li.append(s[i])\n",
    "    \n",
    "for i in range(u+1,len(s)):\n",
    "    li.append(s[i])\n",
    "print(sum(li)+int(out))"
   ]
  },
  {
   "cell_type": "code",
   "execution_count": 16,
   "id": "f5e50a71-7209-42f4-8102-efb7d8e36709",
   "metadata": {},
   "outputs": [
    {
     "name": "stdin",
     "output_type": "stream",
     "text": [
      " 4 6 2 8 1 9 \n",
      " 5\n"
     ]
    },
    {
     "name": "stdout",
     "output_type": "stream",
     "text": [
      "(0, 2)\n"
     ]
    }
   ],
   "source": [
    "def two_pointer_approach(t, l):\n",
    "    l.sort()\n",
    "    i = 0\n",
    "    j = len(l) - 1\n",
    "\n",
    "    while i < j:\n",
    "        if l[i] + l[j] == t:\n",
    "            return i, j\n",
    "        elif l[i] + l[j] < t:\n",
    "            i += 1\n",
    "        else:\n",
    "            j -= 1\n",
    "\n",
    "\n",
    "l = list(map(int, input().split()))\n",
    "t = int(input())\n",
    "\n",
    "result = two_pointer_approach(t, l)\n",
    "print(result)\n",
    "\n"
   ]
  },
  {
   "cell_type": "code",
   "execution_count": null,
   "id": "7a5c4951-4e0c-4681-af00-0babfd1b0298",
   "metadata": {},
   "outputs": [],
   "source": [
    "def binary_search_floor(arr,target):\n",
    "    left,right=0,len(arr)-1\n",
    "    floor=-1\n",
    "    while left<=right:\n",
    "        mid=left+(right-left)//2\n",
    "        if arr[mid]==target:\n",
    "            return arr[mid]\n",
    "        elif arr[mid]<target:\n",
    "            floor=arr[mid]\n",
    "            left=mid+1\n",
    "        else:\n",
    "            right=mid-1\n",
    "    return floor\n",
    "l=list(map(int,input().split()))\n",
    "t=int(input())\n",
    "print(binary_search_floor(l,t))"
   ]
  },
  {
   "cell_type": "code",
   "execution_count": 19,
   "id": "d7c34a65-d40a-45ec-abbe-3000e297a7b5",
   "metadata": {},
   "outputs": [
    {
     "name": "stdin",
     "output_type": "stream",
     "text": [
      " 1 3 4 6 8 11 \n",
      " 8\n"
     ]
    },
    {
     "name": "stdout",
     "output_type": "stream",
     "text": [
      "8\n"
     ]
    }
   ],
   "source": [
    "def binary_search_ceil(arr,target):\n",
    "    left,right=0,len(arr)-1\n",
    "    ceil=float('-inf')\n",
    "    while left<=right:\n",
    "        mid=left+(right-left)//2\n",
    "        if arr[mid]==target:\n",
    "            return arr[mid]\n",
    "        elif arr[mid]<target:\n",
    "            floor=arr[mid]\n",
    "            left=mid+1\n",
    "        else:\n",
    "            ceil=arr[mid]\n",
    "            right=mid-1\n",
    "    return ceil\n",
    "l=list(map(int,input().split()))\n",
    "t=int(input())\n",
    "print(binary_search_ceil(l,t))"
   ]
  },
  {
   "cell_type": "code",
   "execution_count": null,
   "id": "894fdb5a-3dd6-43fc-a35e-470b6ab40468",
   "metadata": {},
   "outputs": [],
   "source": []
  },
  {
   "cell_type": "markdown",
   "id": "9542777f",
   "metadata": {},
   "source": [
    "## Generating the otp"
   ]
  },
  {
   "cell_type": "code",
   "execution_count": 3,
   "id": "dfed85dd",
   "metadata": {},
   "outputs": [
    {
     "name": "stdin",
     "output_type": "stream",
     "text": [
      " 7564168\n"
     ]
    },
    {
     "name": "stdout",
     "output_type": "stream",
     "text": [
      "2516\n"
     ]
    }
   ],
   "source": [
    "x=input()#7564168\n",
    "s=''\n",
    "for i in range(len(x)):\n",
    "    if i%2!=0:\n",
    "        x1=str(int(x[i])**2)\n",
    "        s+=x1\n",
    "print(s[0:4])"
   ]
  },
  {
   "cell_type": "code",
   "execution_count": 4,
   "id": "f82da16e",
   "metadata": {},
   "outputs": [
    {
     "name": "stdin",
     "output_type": "stream",
     "text": [
      " Abhishek:43848,Mayur:3749,Friend:3949,Yeah:7878\n"
     ]
    },
    {
     "name": "stdout",
     "output_type": "stream",
     "text": [
      "kueX\n"
     ]
    }
   ],
   "source": [
    "#Abhishek:43848,Mayur:3749,Friend:3949,Yeah:7878(kueX)\n",
    "s=input()\n",
    "los=s.split(',')\n",
    "op=''\n",
    "for i in los:\n",
    "    nc=i.split(':')\n",
    "    name=nc[0]\n",
    "    code=nc[1]\n",
    "    l=len(name)\n",
    "    max=0\n",
    "    for i in code:\n",
    "        if int(i)>max and int(i)<=len(name):\n",
    "            max=int(i)\n",
    "    if max==0:\n",
    "        op+='X'\n",
    "    else:\n",
    "        op+=name[max-1]\n",
    "print(op)"
   ]
  },
  {
   "cell_type": "markdown",
   "id": "7922d747",
   "metadata": {},
   "source": [
    "## Returning the index of imbalanced parenthesis"
   ]
  },
  {
   "cell_type": "code",
   "execution_count": 5,
   "id": "73d2fde9",
   "metadata": {},
   "outputs": [
    {
     "name": "stdin",
     "output_type": "stream",
     "text": [
      " {(){}[]}}(}\n"
     ]
    },
    {
     "name": "stdout",
     "output_type": "stream",
     "text": [
      "( 1\n",
      "{ 3\n",
      "[ 5\n",
      "{ 0\n",
      "Extra closing bracket at index 8\n",
      "( 9\n",
      "Mismatched brackets at index 9 and 10\n"
     ]
    }
   ],
   "source": [
    "s = input()#{(){}[]}}(}-10\n",
    "stack = []\n",
    "\n",
    "for i in range(len(s)):\n",
    "    if s[i] in '([{':\n",
    "        stack.append((s[i], i))\n",
    "    elif s[i] in ')]}':\n",
    "        if not stack:\n",
    "            print(f\"Extra closing bracket at index {i}\")\n",
    "        else:\n",
    "            top, index = stack.pop()\n",
    "            print(top,index)\n",
    "            if (top == '(' and s[i] != ')') or (top == '[' and s[i] != ']') or (top == '{' and s[i] != '}'):\n",
    "                print(f\"Mismatched brackets at index {index} and {i}\")\n",
    "\n",
    "while stack:\n",
    "    top, index = stack.pop()\n",
    "    print(f\"Extra opening bracket at index {index}\")\n"
   ]
  },
  {
   "cell_type": "markdown",
   "id": "943f78dd",
   "metadata": {},
   "source": [
    "## Reversing the string and placing the special character at the same indx"
   ]
  },
  {
   "cell_type": "code",
   "execution_count": 6,
   "id": "bc98ff3d",
   "metadata": {},
   "outputs": [
    {
     "name": "stdin",
     "output_type": "stream",
     "text": [
      " py@thon\n"
     ]
    },
    {
     "name": "stdout",
     "output_type": "stream",
     "text": [
      "no@htyp\n"
     ]
    }
   ],
   "source": [
    "def fun(s):\n",
    "    l=[]\n",
    "    for i in s:\n",
    "        if i.isalpha():\n",
    "            l.append(i)\n",
    "        else:\n",
    "            spc=i\n",
    "            idxspc=s.index(i)\n",
    "    l.reverse()\n",
    "    l.insert(idxspc,spc)\n",
    "    return ''.join(l)\n",
    "s=input()\n",
    "print(fun(s))"
   ]
  },
  {
   "cell_type": "code",
   "execution_count": 7,
   "id": "9dd63e03",
   "metadata": {},
   "outputs": [
    {
     "name": "stdin",
     "output_type": "stream",
     "text": [
      " 2,5,1,4,3,2,7,8\n"
     ]
    },
    {
     "name": "stdout",
     "output_type": "stream",
     "text": [
      "4343\n"
     ]
    }
   ],
   "source": [
    "n1=input().split(',')#2,5,1,4,3,2,7,8\n",
    "\n",
    "s=[]\n",
    "st=''\n",
    "for i in n1:\n",
    "    i=int(i)\n",
    "    s.append(i)\n",
    "l=s.index(4)\n",
    "u=s.index(7)\n",
    "out=''\n",
    "for i in range(l,u+1):\n",
    "    out+=str(s[i])\n",
    "li=[]\n",
    "for i in range(0,l):\n",
    "    li.append(s[i])\n",
    "    \n",
    "for i in range(u+1,len(s)):\n",
    "    li.append(s[i])\n",
    "print(sum(li)+int(out))"
   ]
  },
  {
   "cell_type": "code",
   "execution_count": 16,
   "id": "eeffd479",
   "metadata": {},
   "outputs": [
    {
     "name": "stdin",
     "output_type": "stream",
     "text": [
      " 4 6 2 8 1 9 \n",
      " 5\n"
     ]
    },
    {
     "name": "stdout",
     "output_type": "stream",
     "text": [
      "(0, 2)\n"
     ]
    }
   ],
   "source": [
    "def two_pointer_approach(t, l):\n",
    "    l.sort()\n",
    "    i = 0\n",
    "    j = len(l) - 1\n",
    "\n",
    "    while i < j:\n",
    "        if l[i] + l[j] == t:\n",
    "            return i, j\n",
    "        elif l[i] + l[j] < t:\n",
    "            i += 1\n",
    "        else:\n",
    "            j -= 1\n",
    "\n",
    "\n",
    "l = list(map(int, input().split()))\n",
    "t = int(input())\n",
    "\n",
    "result = two_pointer_approach(t, l)\n",
    "print(result)\n",
    "\n"
   ]
  },
  {
   "cell_type": "code",
   "execution_count": null,
   "id": "dad454dc",
   "metadata": {},
   "outputs": [],
   "source": [
    "def binary_search_floor(arr,target):\n",
    "    left,right=0,len(arr)-1\n",
    "    floor=-1\n",
    "    while left<=right:\n",
    "        mid=left+(right-left)//2\n",
    "        if arr[mid]==target:\n",
    "            return arr[mid]\n",
    "        elif arr[mid]<target:\n",
    "            floor=arr[mid]\n",
    "            left=mid+1\n",
    "        else:\n",
    "            right=mid-1\n",
    "    return floor\n",
    "l=list(map(int,input().split()))\n",
    "t=int(input())\n",
    "print(binary_search_floor(l,t))"
   ]
  },
  {
   "cell_type": "code",
   "execution_count": 19,
   "id": "7cf1e745",
   "metadata": {},
   "outputs": [
    {
     "name": "stdin",
     "output_type": "stream",
     "text": [
      " 1 3 4 6 8 11 \n",
      " 8\n"
     ]
    },
    {
     "name": "stdout",
     "output_type": "stream",
     "text": [
      "8\n"
     ]
    }
   ],
   "source": [
    "def binary_search_ceil(arr,target):\n",
    "    left,right=0,len(arr)-1\n",
    "    ceil=float('-inf')\n",
    "    while left<=right:\n",
    "        mid=left+(right-left)//2\n",
    "        if arr[mid]==target:\n",
    "            return arr[mid]\n",
    "        elif arr[mid]<target:\n",
    "            floor=arr[mid]\n",
    "            left=mid+1\n",
    "        else:\n",
    "            ceil=arr[mid]\n",
    "            right=mid-1\n",
    "    return ceil\n",
    "l=list(map(int,input().split()))\n",
    "t=int(input())\n",
    "print(binary_search_ceil(l,t))"
   ]
  },
  {
   "cell_type": "raw",
   "id": "176ec300-9b4a-4bbb-beba-a8b06897aa08",
   "metadata": {},
   "source": [
    "You are given an array of N integers and another integer k.How many numbers appear in the array at least k times"
   ]
  },
  {
   "cell_type": "code",
   "execution_count": 22,
   "id": "dc0175d2",
   "metadata": {},
   "outputs": [
    {
     "name": "stdin",
     "output_type": "stream",
     "text": [
      "Enter the length of an array: 3\n",
      "Enter the number u want to count: 1\n",
      "Enter the array elements: 1 1 1\n"
     ]
    },
    {
     "name": "stdout",
     "output_type": "stream",
     "text": [
      "3\n",
      "0\n"
     ]
    }
   ],
   "source": [
    "n=int(input(\"Enter the length of an array:\"))\n",
    "k=int(input(\"Enter the number u want to count:\"))\n",
    "l=list(map(int,input(\"Enter the array elements:\").split()))\n",
    "c=0\n",
    "for i in range(n):\n",
    "    if k == l[i]:\n",
    "        c+=1\n",
    "s=0\n",
    "if c==k:\n",
    "    s+=1"
   ]
  },
  {
   "cell_type": "code",
   "execution_count": null,
   "id": "530ca5e3-d2a5-4aa1-b10b-52a3cf94e1b0",
   "metadata": {},
   "outputs": [],
   "source": []
  },
  {
   "cell_type": "markdown",
   "id": "1fc83352",
   "metadata": {},
   "source": [
    "## Generating the otp"
   ]
  },
  {
   "cell_type": "code",
   "execution_count": 3,
   "id": "6457a7a3",
   "metadata": {},
   "outputs": [
    {
     "name": "stdin",
     "output_type": "stream",
     "text": [
      " 7564168\n"
     ]
    },
    {
     "name": "stdout",
     "output_type": "stream",
     "text": [
      "2516\n"
     ]
    }
   ],
   "source": [
    "x=input()#7564168\n",
    "s=''\n",
    "for i in range(len(x)):\n",
    "    if i%2!=0:\n",
    "        x1=str(int(x[i])**2)\n",
    "        s+=x1\n",
    "print(s[0:4])"
   ]
  },
  {
   "cell_type": "code",
   "execution_count": 4,
   "id": "d4141045",
   "metadata": {},
   "outputs": [
    {
     "name": "stdin",
     "output_type": "stream",
     "text": [
      " Abhishek:43848,Mayur:3749,Friend:3949,Yeah:7878\n"
     ]
    },
    {
     "name": "stdout",
     "output_type": "stream",
     "text": [
      "kueX\n"
     ]
    }
   ],
   "source": [
    "#Abhishek:43848,Mayur:3749,Friend:3949,Yeah:7878(kueX)\n",
    "s=input()\n",
    "los=s.split(',')\n",
    "op=''\n",
    "for i in los:\n",
    "    nc=i.split(':')\n",
    "    name=nc[0]\n",
    "    code=nc[1]\n",
    "    l=len(name)\n",
    "    max=0\n",
    "    for i in code:\n",
    "        if int(i)>max and int(i)<=len(name):\n",
    "            max=int(i)\n",
    "    if max==0:\n",
    "        op+='X'\n",
    "    else:\n",
    "        op+=name[max-1]\n",
    "print(op)"
   ]
  },
  {
   "cell_type": "markdown",
   "id": "91b918ef",
   "metadata": {},
   "source": [
    "## Returning the index of imbalanced parenthesis"
   ]
  },
  {
   "cell_type": "code",
   "execution_count": 5,
   "id": "f154ace5",
   "metadata": {},
   "outputs": [
    {
     "name": "stdin",
     "output_type": "stream",
     "text": [
      " {(){}[]}}(}\n"
     ]
    },
    {
     "name": "stdout",
     "output_type": "stream",
     "text": [
      "( 1\n",
      "{ 3\n",
      "[ 5\n",
      "{ 0\n",
      "Extra closing bracket at index 8\n",
      "( 9\n",
      "Mismatched brackets at index 9 and 10\n"
     ]
    }
   ],
   "source": [
    "s = input()#{(){}[]}}(}-10\n",
    "stack = []\n",
    "\n",
    "for i in range(len(s)):\n",
    "    if s[i] in '([{':\n",
    "        stack.append((s[i], i))\n",
    "    elif s[i] in ')]}':\n",
    "        if not stack:\n",
    "            print(f\"Extra closing bracket at index {i}\")\n",
    "        else:\n",
    "            top, index = stack.pop()\n",
    "            print(top,index)\n",
    "            if (top == '(' and s[i] != ')') or (top == '[' and s[i] != ']') or (top == '{' and s[i] != '}'):\n",
    "                print(f\"Mismatched brackets at index {index} and {i}\")\n",
    "\n",
    "while stack:\n",
    "    top, index = stack.pop()\n",
    "    print(f\"Extra opening bracket at index {index}\")\n"
   ]
  },
  {
   "cell_type": "markdown",
   "id": "f66b4e0b",
   "metadata": {},
   "source": [
    "## Reversing the string and placing the special character at the same indx"
   ]
  },
  {
   "cell_type": "code",
   "execution_count": 6,
   "id": "9f7296a7",
   "metadata": {},
   "outputs": [
    {
     "name": "stdin",
     "output_type": "stream",
     "text": [
      " py@thon\n"
     ]
    },
    {
     "name": "stdout",
     "output_type": "stream",
     "text": [
      "no@htyp\n"
     ]
    }
   ],
   "source": [
    "def fun(s):\n",
    "    l=[]\n",
    "    for i in s:\n",
    "        if i.isalpha():\n",
    "            l.append(i)\n",
    "        else:\n",
    "            spc=i\n",
    "            idxspc=s.index(i)\n",
    "    l.reverse()\n",
    "    l.insert(idxspc,spc)\n",
    "    return ''.join(l)\n",
    "s=input()\n",
    "print(fun(s))"
   ]
  },
  {
   "cell_type": "code",
   "execution_count": 7,
   "id": "29ebc0bd",
   "metadata": {},
   "outputs": [
    {
     "name": "stdin",
     "output_type": "stream",
     "text": [
      " 2,5,1,4,3,2,7,8\n"
     ]
    },
    {
     "name": "stdout",
     "output_type": "stream",
     "text": [
      "4343\n"
     ]
    }
   ],
   "source": [
    "n1=input().split(',')#2,5,1,4,3,2,7,8\n",
    "\n",
    "s=[]\n",
    "st=''\n",
    "for i in n1:\n",
    "    i=int(i)\n",
    "    s.append(i)\n",
    "l=s.index(4)\n",
    "u=s.index(7)\n",
    "out=''\n",
    "for i in range(l,u+1):\n",
    "    out+=str(s[i])\n",
    "li=[]\n",
    "for i in range(0,l):\n",
    "    li.append(s[i])\n",
    "    \n",
    "for i in range(u+1,len(s)):\n",
    "    li.append(s[i])\n",
    "print(sum(li)+int(out))"
   ]
  },
  {
   "cell_type": "code",
   "execution_count": 16,
   "id": "47fefe16",
   "metadata": {},
   "outputs": [
    {
     "name": "stdin",
     "output_type": "stream",
     "text": [
      " 4 6 2 8 1 9 \n",
      " 5\n"
     ]
    },
    {
     "name": "stdout",
     "output_type": "stream",
     "text": [
      "(0, 2)\n"
     ]
    }
   ],
   "source": [
    "def two_pointer_approach(t, l):\n",
    "    l.sort()\n",
    "    i = 0\n",
    "    j = len(l) - 1\n",
    "\n",
    "    while i < j:\n",
    "        if l[i] + l[j] == t:\n",
    "            return i, j\n",
    "        elif l[i] + l[j] < t:\n",
    "            i += 1\n",
    "        else:\n",
    "            j -= 1\n",
    "\n",
    "\n",
    "l = list(map(int, input().split()))\n",
    "t = int(input())\n",
    "\n",
    "result = two_pointer_approach(t, l)\n",
    "print(result)\n",
    "\n"
   ]
  },
  {
   "cell_type": "code",
   "execution_count": null,
   "id": "dff3a81e",
   "metadata": {},
   "outputs": [],
   "source": [
    "def binary_search_floor(arr,target):\n",
    "    left,right=0,len(arr)-1\n",
    "    floor=-1\n",
    "    while left<=right:\n",
    "        mid=left+(right-left)//2\n",
    "        if arr[mid]==target:\n",
    "            return arr[mid]\n",
    "        elif arr[mid]<target:\n",
    "            floor=arr[mid]\n",
    "            left=mid+1\n",
    "        else:\n",
    "            right=mid-1\n",
    "    return floor\n",
    "l=list(map(int,input().split()))\n",
    "t=int(input())\n",
    "print(binary_search_floor(l,t))"
   ]
  },
  {
   "cell_type": "code",
   "execution_count": 19,
   "id": "d66be079",
   "metadata": {},
   "outputs": [
    {
     "name": "stdin",
     "output_type": "stream",
     "text": [
      " 1 3 4 6 8 11 \n",
      " 8\n"
     ]
    },
    {
     "name": "stdout",
     "output_type": "stream",
     "text": [
      "8\n"
     ]
    }
   ],
   "source": [
    "def binary_search_ceil(arr,target):\n",
    "    left,right=0,len(arr)-1\n",
    "    ceil=float('-inf')\n",
    "    while left<=right:\n",
    "        mid=left+(right-left)//2\n",
    "        if arr[mid]==target:\n",
    "            return arr[mid]\n",
    "        elif arr[mid]<target:\n",
    "            floor=arr[mid]\n",
    "            left=mid+1\n",
    "        else:\n",
    "            ceil=arr[mid]\n",
    "            right=mid-1\n",
    "    return ceil\n",
    "l=list(map(int,input().split()))\n",
    "t=int(input())\n",
    "print(binary_search_ceil(l,t))"
   ]
  },
  {
   "cell_type": "code",
   "execution_count": null,
   "id": "3f0b1da4",
   "metadata": {},
   "outputs": [],
   "source": []
  },
  {
   "cell_type": "markdown",
   "id": "0f79871e",
   "metadata": {},
   "source": [
    "## Generating the otp"
   ]
  },
  {
   "cell_type": "code",
   "execution_count": 3,
   "id": "081a8e36",
   "metadata": {},
   "outputs": [
    {
     "name": "stdin",
     "output_type": "stream",
     "text": [
      " 7564168\n"
     ]
    },
    {
     "name": "stdout",
     "output_type": "stream",
     "text": [
      "2516\n"
     ]
    }
   ],
   "source": [
    "x=input()#7564168\n",
    "s=''\n",
    "for i in range(len(x)):\n",
    "    if i%2!=0:\n",
    "        x1=str(int(x[i])**2)\n",
    "        s+=x1\n",
    "print(s[0:4])"
   ]
  },
  {
   "cell_type": "code",
   "execution_count": 4,
   "id": "28bbe3dc",
   "metadata": {},
   "outputs": [
    {
     "name": "stdin",
     "output_type": "stream",
     "text": [
      " Abhishek:43848,Mayur:3749,Friend:3949,Yeah:7878\n"
     ]
    },
    {
     "name": "stdout",
     "output_type": "stream",
     "text": [
      "kueX\n"
     ]
    }
   ],
   "source": [
    "#Abhishek:43848,Mayur:3749,Friend:3949,Yeah:7878(kueX)\n",
    "s=input()\n",
    "los=s.split(',')\n",
    "op=''\n",
    "for i in los:\n",
    "    nc=i.split(':')\n",
    "    name=nc[0]\n",
    "    code=nc[1]\n",
    "    l=len(name)\n",
    "    max=0\n",
    "    for i in code:\n",
    "        if int(i)>max and int(i)<=len(name):\n",
    "            max=int(i)\n",
    "    if max==0:\n",
    "        op+='X'\n",
    "    else:\n",
    "        op+=name[max-1]\n",
    "print(op)"
   ]
  },
  {
   "cell_type": "markdown",
   "id": "ea6fa764",
   "metadata": {},
   "source": [
    "## Returning the index of imbalanced parenthesis"
   ]
  },
  {
   "cell_type": "code",
   "execution_count": 5,
   "id": "bdfecbf1",
   "metadata": {},
   "outputs": [
    {
     "name": "stdin",
     "output_type": "stream",
     "text": [
      " {(){}[]}}(}\n"
     ]
    },
    {
     "name": "stdout",
     "output_type": "stream",
     "text": [
      "( 1\n",
      "{ 3\n",
      "[ 5\n",
      "{ 0\n",
      "Extra closing bracket at index 8\n",
      "( 9\n",
      "Mismatched brackets at index 9 and 10\n"
     ]
    }
   ],
   "source": [
    "s = input()#{(){}[]}}(}-10\n",
    "stack = []\n",
    "\n",
    "for i in range(len(s)):\n",
    "    if s[i] in '([{':\n",
    "        stack.append((s[i], i))\n",
    "    elif s[i] in ')]}':\n",
    "        if not stack:\n",
    "            print(f\"Extra closing bracket at index {i}\")\n",
    "        else:\n",
    "            top, index = stack.pop()\n",
    "            print(top,index)\n",
    "            if (top == '(' and s[i] != ')') or (top == '[' and s[i] != ']') or (top == '{' and s[i] != '}'):\n",
    "                print(f\"Mismatched brackets at index {index} and {i}\")\n",
    "\n",
    "while stack:\n",
    "    top, index = stack.pop()\n",
    "    print(f\"Extra opening bracket at index {index}\")\n"
   ]
  },
  {
   "cell_type": "markdown",
   "id": "d308f944",
   "metadata": {},
   "source": [
    "## Reversing the string and placing the special character at the same indx"
   ]
  },
  {
   "cell_type": "code",
   "execution_count": 6,
   "id": "b4d12e27",
   "metadata": {},
   "outputs": [
    {
     "name": "stdin",
     "output_type": "stream",
     "text": [
      " py@thon\n"
     ]
    },
    {
     "name": "stdout",
     "output_type": "stream",
     "text": [
      "no@htyp\n"
     ]
    }
   ],
   "source": [
    "def fun(s):\n",
    "    l=[]\n",
    "    for i in s:\n",
    "        if i.isalpha():\n",
    "            l.append(i)\n",
    "        else:\n",
    "            spc=i\n",
    "            idxspc=s.index(i)\n",
    "    l.reverse()\n",
    "    l.insert(idxspc,spc)\n",
    "    return ''.join(l)\n",
    "s=input()\n",
    "print(fun(s))"
   ]
  },
  {
   "cell_type": "code",
   "execution_count": 7,
   "id": "ef7b339c",
   "metadata": {},
   "outputs": [
    {
     "name": "stdin",
     "output_type": "stream",
     "text": [
      " 2,5,1,4,3,2,7,8\n"
     ]
    },
    {
     "name": "stdout",
     "output_type": "stream",
     "text": [
      "4343\n"
     ]
    }
   ],
   "source": [
    "n1=input().split(',')#2,5,1,4,3,2,7,8\n",
    "\n",
    "s=[]\n",
    "st=''\n",
    "for i in n1:\n",
    "    i=int(i)\n",
    "    s.append(i)\n",
    "l=s.index(4)\n",
    "u=s.index(7)\n",
    "out=''\n",
    "for i in range(l,u+1):\n",
    "    out+=str(s[i])\n",
    "li=[]\n",
    "for i in range(0,l):\n",
    "    li.append(s[i])\n",
    "    \n",
    "for i in range(u+1,len(s)):\n",
    "    li.append(s[i])\n",
    "print(sum(li)+int(out))"
   ]
  },
  {
   "cell_type": "code",
   "execution_count": 16,
   "id": "6b0c1a3b",
   "metadata": {},
   "outputs": [
    {
     "name": "stdin",
     "output_type": "stream",
     "text": [
      " 4 6 2 8 1 9 \n",
      " 5\n"
     ]
    },
    {
     "name": "stdout",
     "output_type": "stream",
     "text": [
      "(0, 2)\n"
     ]
    }
   ],
   "source": [
    "def two_pointer_approach(t, l):\n",
    "    l.sort()\n",
    "    i = 0\n",
    "    j = len(l) - 1\n",
    "\n",
    "    while i < j:\n",
    "        if l[i] + l[j] == t:\n",
    "            return i, j\n",
    "        elif l[i] + l[j] < t:\n",
    "            i += 1\n",
    "        else:\n",
    "            j -= 1\n",
    "\n",
    "\n",
    "l = list(map(int, input().split()))\n",
    "t = int(input())\n",
    "\n",
    "result = two_pointer_approach(t, l)\n",
    "print(result)\n",
    "\n"
   ]
  },
  {
   "cell_type": "code",
   "execution_count": null,
   "id": "036f2925",
   "metadata": {},
   "outputs": [],
   "source": [
    "def binary_search_floor(arr,target):\n",
    "    left,right=0,len(arr)-1\n",
    "    floor=-1\n",
    "    while left<=right:\n",
    "        mid=left+(right-left)//2\n",
    "        if arr[mid]==target:\n",
    "            return arr[mid]\n",
    "        elif arr[mid]<target:\n",
    "            floor=arr[mid]\n",
    "            left=mid+1\n",
    "        else:\n",
    "            right=mid-1\n",
    "    return floor\n",
    "l=list(map(int,input().split()))\n",
    "t=int(input())\n",
    "print(binary_search_floor(l,t))"
   ]
  },
  {
   "cell_type": "code",
   "execution_count": 19,
   "id": "878ebf05",
   "metadata": {},
   "outputs": [
    {
     "name": "stdin",
     "output_type": "stream",
     "text": [
      " 1 3 4 6 8 11 \n",
      " 8\n"
     ]
    },
    {
     "name": "stdout",
     "output_type": "stream",
     "text": [
      "8\n"
     ]
    }
   ],
   "source": [
    "def binary_search_ceil(arr,target):\n",
    "    left,right=0,len(arr)-1\n",
    "    ceil=float('-inf')\n",
    "    while left<=right:\n",
    "        mid=left+(right-left)//2\n",
    "        if arr[mid]==target:\n",
    "            return arr[mid]\n",
    "        elif arr[mid]<target:\n",
    "            floor=arr[mid]\n",
    "            left=mid+1\n",
    "        else:\n",
    "            ceil=arr[mid]\n",
    "            right=mid-1\n",
    "    return ceil\n",
    "l=list(map(int,input().split()))\n",
    "t=int(input())\n",
    "print(binary_search_ceil(l,t))"
   ]
  },
  {
   "cell_type": "raw",
   "id": "44a6d765",
   "metadata": {},
   "source": [
    "You are given an array of N integers and another integer k.How many numbers appear in the array at least k times"
   ]
  },
  {
   "cell_type": "code",
   "execution_count": null,
   "id": "5eb5651b",
   "metadata": {},
   "outputs": [],
   "source": [
    "n,k=map(int,input().split())\n",
    "lst=[]\n",
    "for i in range(n):\n",
    "    lst.append(int(input()))\n",
    "s,c=set(lst),0\n",
    "for i in s:\n",
    "    if lst.count(i)>=k:\n",
    "        c+=1\n",
    "print(c)"
   ]
  },
  {
   "cell_type": "code",
   "execution_count": null,
   "id": "b2e4c9f5-0400-4733-ba34-a5514ff16812",
   "metadata": {},
   "outputs": [],
   "source": []
  },
  {
   "cell_type": "code",
   "execution_count": null,
   "id": "1e1606e6-d88d-4ec7-aded-ad5e9486735a",
   "metadata": {},
   "outputs": [],
   "source": []
  }
 ],
 "metadata": {
  "kernelspec": {
   "display_name": "Python 3 (ipykernel)",
   "language": "python",
   "name": "python3"
  },
  "language_info": {
   "codemirror_mode": {
    "name": "ipython",
    "version": 3
   },
   "file_extension": ".py",
   "mimetype": "text/x-python",
   "name": "python",
   "nbconvert_exporter": "python",
   "pygments_lexer": "ipython3",
   "version": "3.11.4"
  }
 },
 "nbformat": 4,
 "nbformat_minor": 5
}
