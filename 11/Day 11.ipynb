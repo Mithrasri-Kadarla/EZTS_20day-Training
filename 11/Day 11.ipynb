{
 "cells": [
  {
   "cell_type": "markdown",
   "id": "fc80e741-d8db-45f8-a8dc-00e05488a341",
   "metadata": {},
   "source": [
    "## Bitwise Operators"
   ]
  },
  {
   "cell_type": "code",
   "execution_count": 2,
   "id": "e60b0ce6-5ae4-4f7e-a019-9962b92b92b9",
   "metadata": {},
   "outputs": [
    {
     "name": "stdout",
     "output_type": "stream",
     "text": [
      "5\n"
     ]
    }
   ],
   "source": [
    "a=5\n",
    "b=5\n",
    "print(a&b)# AND"
   ]
  },
  {
   "cell_type": "code",
   "execution_count": 3,
   "id": "1cd33389",
   "metadata": {},
   "outputs": [
    {
     "name": "stdout",
     "output_type": "stream",
     "text": [
      "5\n"
     ]
    }
   ],
   "source": [
    "print(a|b)#OR"
   ]
  },
  {
   "cell_type": "code",
   "execution_count": 4,
   "id": "35a20e67-d2e8-4bdb-bc07-21a47d305ce2",
   "metadata": {},
   "outputs": [
    {
     "name": "stdout",
     "output_type": "stream",
     "text": [
      "0\n"
     ]
    }
   ],
   "source": [
    "print(a^b)#XOR"
   ]
  },
  {
   "cell_type": "code",
   "execution_count": 5,
   "id": "7c45d737-f451-4337-b19d-622b7562361d",
   "metadata": {},
   "outputs": [
    {
     "name": "stdout",
     "output_type": "stream",
     "text": [
      "4\n",
      "13\n",
      "9\n"
     ]
    }
   ],
   "source": [
    "a=5\n",
    "b=12\n",
    "print(a&b)\n",
    "print(a|b)\n",
    "print(a^b)"
   ]
  },
  {
   "cell_type": "code",
   "execution_count": 7,
   "id": "5cfec40c-c66c-4a68-8976-d498757325c0",
   "metadata": {},
   "outputs": [
    {
     "name": "stdin",
     "output_type": "stream",
     "text": [
      "Enter the number: 13\n",
      "Enter the position: 1\n"
     ]
    },
    {
     "name": "stdout",
     "output_type": "stream",
     "text": [
      "15\n"
     ]
    }
   ],
   "source": [
    "def bit(n,pos):\n",
    "    x=1<<pos\n",
    "    res=n^x\n",
    "    return res\n",
    "n=int(input(\"Enter the number:\"))\n",
    "pos=int(input(\"Enter the position:\"))\n",
    "print(bit(n,pos))"
   ]
  },
  {
   "cell_type": "code",
   "execution_count": 8,
   "id": "94fa1917-cbbf-4d65-abdd-1c79ce07b87f",
   "metadata": {},
   "outputs": [
    {
     "name": "stdout",
     "output_type": "stream",
     "text": [
      "10\n"
     ]
    }
   ],
   "source": [
    "print(5<<1)#multiply"
   ]
  },
  {
   "cell_type": "code",
   "execution_count": 9,
   "id": "20b765a7-e709-4fb1-8e83-e1b41f53759f",
   "metadata": {},
   "outputs": [
    {
     "name": "stdout",
     "output_type": "stream",
     "text": [
      "2\n"
     ]
    }
   ],
   "source": [
    "print(5>>1)#divide"
   ]
  },
  {
   "cell_type": "code",
   "execution_count": 4,
   "id": "901b1e69-9620-4167-a4a0-aeaea9fe3cbe",
   "metadata": {},
   "outputs": [
    {
     "name": "stdin",
     "output_type": "stream",
     "text": [
      "Enter the number of plates: 3\n"
     ]
    },
    {
     "name": "stdout",
     "output_type": "stream",
     "text": [
      "I moved from src to dest\n",
      "I moved from src to aux\n",
      "I moved from dest to aux\n",
      "I moved from src to dest\n",
      "I moved from aux to src\n",
      "I moved from aux to dest\n",
      "I moved from src to dest\n"
     ]
    }
   ],
   "source": [
    "def TOH(n, src, aux, dest):\n",
    "    if n <= 1:\n",
    "        print(\"I moved from \"+src+\" to \" + dest)\n",
    "        return\n",
    "    TOH( n-1, src, dest, aux)\n",
    "    print(\"I moved from \"+src+\" to \" + dest)\n",
    "    TOH( n-1, aux, src, dest)\n",
    "n =int(input(\"Enter the number of plates:\"))\n",
    "TOH(n, 'src', 'aux', 'dest')"
   ]
  },
  {
   "cell_type": "code",
   "execution_count": 5,
   "id": "68a27841-72d3-40eb-90b4-d827a8efa6d9",
   "metadata": {},
   "outputs": [
    {
     "name": "stdin",
     "output_type": "stream",
     "text": [
      "Enter the number of plates: 5\n"
     ]
    },
    {
     "name": "stdout",
     "output_type": "stream",
     "text": [
      "The number of moves required to move 5  plates are 31\n"
     ]
    }
   ],
   "source": [
    "n=int(input(\"Enter the number of plates:\"))\n",
    "print(\"The number of moves required to move\",n,\" plates are\",(2**n-1))"
   ]
  },
  {
   "cell_type": "markdown",
   "id": "aaeda1ff-8c30-498a-a6d9-14fdc410779a",
   "metadata": {},
   "source": [
    "## Using Recursion"
   ]
  },
  {
   "cell_type": "code",
   "execution_count": 8,
   "id": "f96ad0ca-adec-42c3-9d23-a1eeddc677d6",
   "metadata": {},
   "outputs": [
    {
     "name": "stdin",
     "output_type": "stream",
     "text": [
      " 5\n"
     ]
    },
    {
     "name": "stdout",
     "output_type": "stream",
     "text": [
      "31\n"
     ]
    }
   ],
   "source": [
    "def count(n):\n",
    "    if n==1:\n",
    "        return 1\n",
    "    return 2*count(n-1)+1\n",
    "n=int(input())\n",
    "print(count(n))"
   ]
  },
  {
   "cell_type": "code",
   "execution_count": null,
   "id": "f6e88d71-faab-4874-8bdb-e060b58f2bfb",
   "metadata": {},
   "outputs": [],
   "source": [
    "def fun(arr):\n",
    "for row in arr:\n",
    "    if sum(row)!=15:\n",
    "        return False\n",
    "for i in range(len(arr)):\n",
    "    temp = 0\n",
    "    for j in range(len(arr))\n",
    "        temp += arr[j][i]\n",
    "    if temp != 15:\n",
    "        return False\n",
    "\n",
    "for i in range(len(arr)):\n",
    "    for j in range(len(arr))\n",
    "        if i == j:\n",
    "            temp += arr[i][j]\n",
    "if temp != 15:\n",
    "    return False\n",
    "i=0, j=n-1\n",
    "while i < n and j >=0:\n",
    "    temp += arr[i][j]\n",
    "    i += 1\n",
    "    j -= 1\n",
    "if temp != 15;\n",
    "    return False"
   ]
  },
  {
   "cell_type": "code",
   "execution_count": 16,
   "id": "b882f469-ed94-4fd9-a3ce-bbca22583100",
   "metadata": {},
   "outputs": [
    {
     "ename": "KeyboardInterrupt",
     "evalue": "Interrupted by user",
     "output_type": "error",
     "traceback": [
      "\u001b[1;31m---------------------------------------------------------------------------\u001b[0m",
      "\u001b[1;31mKeyboardInterrupt\u001b[0m                         Traceback (most recent call last)",
      "Cell \u001b[1;32mIn[16], line 27\u001b[0m\n\u001b[0;32m     25\u001b[0m     \u001b[38;5;28;01mreturn\u001b[39;00m \u001b[38;5;28;01mTrue\u001b[39;00m\n\u001b[0;32m     26\u001b[0m l\u001b[38;5;241m=\u001b[39m[]\n\u001b[1;32m---> 27\u001b[0m n\u001b[38;5;241m=\u001b[39m\u001b[38;5;28mint\u001b[39m(\u001b[38;5;28;43minput\u001b[39;49m\u001b[43m(\u001b[49m\u001b[43m)\u001b[49m)\n\u001b[0;32m     28\u001b[0m \u001b[38;5;28;01mfor\u001b[39;00m i \u001b[38;5;129;01min\u001b[39;00m \u001b[38;5;28mrange\u001b[39m(n):\n\u001b[0;32m     29\u001b[0m     arr\u001b[38;5;241m=\u001b[39m\u001b[38;5;28mlist\u001b[39m(\u001b[38;5;28mmap\u001b[39m(\u001b[38;5;28mint\u001b[39m,\u001b[38;5;28minput\u001b[39m()\u001b[38;5;241m.\u001b[39msplit()))\n",
      "File \u001b[1;32m~\\AppData\\Local\\Programs\\Python\\Python311\\Lib\\site-packages\\ipykernel\\kernelbase.py:1191\u001b[0m, in \u001b[0;36mKernel.raw_input\u001b[1;34m(self, prompt)\u001b[0m\n\u001b[0;32m   1189\u001b[0m     msg \u001b[38;5;241m=\u001b[39m \u001b[38;5;124m\"\u001b[39m\u001b[38;5;124mraw_input was called, but this frontend does not support input requests.\u001b[39m\u001b[38;5;124m\"\u001b[39m\n\u001b[0;32m   1190\u001b[0m     \u001b[38;5;28;01mraise\u001b[39;00m StdinNotImplementedError(msg)\n\u001b[1;32m-> 1191\u001b[0m \u001b[38;5;28;01mreturn\u001b[39;00m \u001b[38;5;28;43mself\u001b[39;49m\u001b[38;5;241;43m.\u001b[39;49m\u001b[43m_input_request\u001b[49m\u001b[43m(\u001b[49m\n\u001b[0;32m   1192\u001b[0m \u001b[43m    \u001b[49m\u001b[38;5;28;43mstr\u001b[39;49m\u001b[43m(\u001b[49m\u001b[43mprompt\u001b[49m\u001b[43m)\u001b[49m\u001b[43m,\u001b[49m\n\u001b[0;32m   1193\u001b[0m \u001b[43m    \u001b[49m\u001b[38;5;28;43mself\u001b[39;49m\u001b[38;5;241;43m.\u001b[39;49m\u001b[43m_parent_ident\u001b[49m\u001b[43m[\u001b[49m\u001b[38;5;124;43m\"\u001b[39;49m\u001b[38;5;124;43mshell\u001b[39;49m\u001b[38;5;124;43m\"\u001b[39;49m\u001b[43m]\u001b[49m\u001b[43m,\u001b[49m\n\u001b[0;32m   1194\u001b[0m \u001b[43m    \u001b[49m\u001b[38;5;28;43mself\u001b[39;49m\u001b[38;5;241;43m.\u001b[39;49m\u001b[43mget_parent\u001b[49m\u001b[43m(\u001b[49m\u001b[38;5;124;43m\"\u001b[39;49m\u001b[38;5;124;43mshell\u001b[39;49m\u001b[38;5;124;43m\"\u001b[39;49m\u001b[43m)\u001b[49m\u001b[43m,\u001b[49m\n\u001b[0;32m   1195\u001b[0m \u001b[43m    \u001b[49m\u001b[43mpassword\u001b[49m\u001b[38;5;241;43m=\u001b[39;49m\u001b[38;5;28;43;01mFalse\u001b[39;49;00m\u001b[43m,\u001b[49m\n\u001b[0;32m   1196\u001b[0m \u001b[43m\u001b[49m\u001b[43m)\u001b[49m\n",
      "File \u001b[1;32m~\\AppData\\Local\\Programs\\Python\\Python311\\Lib\\site-packages\\ipykernel\\kernelbase.py:1234\u001b[0m, in \u001b[0;36mKernel._input_request\u001b[1;34m(self, prompt, ident, parent, password)\u001b[0m\n\u001b[0;32m   1231\u001b[0m \u001b[38;5;28;01mexcept\u001b[39;00m \u001b[38;5;167;01mKeyboardInterrupt\u001b[39;00m:\n\u001b[0;32m   1232\u001b[0m     \u001b[38;5;66;03m# re-raise KeyboardInterrupt, to truncate traceback\u001b[39;00m\n\u001b[0;32m   1233\u001b[0m     msg \u001b[38;5;241m=\u001b[39m \u001b[38;5;124m\"\u001b[39m\u001b[38;5;124mInterrupted by user\u001b[39m\u001b[38;5;124m\"\u001b[39m\n\u001b[1;32m-> 1234\u001b[0m     \u001b[38;5;28;01mraise\u001b[39;00m \u001b[38;5;167;01mKeyboardInterrupt\u001b[39;00m(msg) \u001b[38;5;28;01mfrom\u001b[39;00m \u001b[38;5;28;01mNone\u001b[39;00m\n\u001b[0;32m   1235\u001b[0m \u001b[38;5;28;01mexcept\u001b[39;00m \u001b[38;5;167;01mException\u001b[39;00m:\n\u001b[0;32m   1236\u001b[0m     \u001b[38;5;28mself\u001b[39m\u001b[38;5;241m.\u001b[39mlog\u001b[38;5;241m.\u001b[39mwarning(\u001b[38;5;124m\"\u001b[39m\u001b[38;5;124mInvalid Message:\u001b[39m\u001b[38;5;124m\"\u001b[39m, exc_info\u001b[38;5;241m=\u001b[39m\u001b[38;5;28;01mTrue\u001b[39;00m)\n",
      "\u001b[1;31mKeyboardInterrupt\u001b[0m: Interrupted by user"
     ]
    }
   ],
   "source": [
    "def fun(arr):\n",
    "    for row in arr:\n",
    "        if sum(row)!=15:\n",
    "            return False\n",
    "    for i in range(len(arr)):\n",
    "        temp = 0\n",
    "        for j in range(len(arr)):\n",
    "            temp += arr[j][i]\n",
    "        if temp != 15:\n",
    "            return False\n",
    "\n",
    "    for i in range(len(arr)):\n",
    "        for j in range(len(arr)):\n",
    "            if i == j:\n",
    "                temp += arr[i][j]\n",
    "    if temp != 15:\n",
    "        return False\n",
    "    i,j=0,n-1\n",
    "    while i < n and j >=0:\n",
    "        temp += arr[i][j]\n",
    "        i += 1\n",
    "        j -= 1\n",
    "    if temp != 15:\n",
    "        return False\n",
    "    return True\n",
    "l=[]\n",
    "n=int(input())\n",
    "for i in range(n):\n",
    "    arr=list(map(int,input().split()))\n",
    "    l.append(arr)\n",
    "print(fun(l))"
   ]
  },
  {
   "cell_type": "markdown",
   "id": "ca5f2f98-2d70-4edc-a61d-ddfa891d60e0",
   "metadata": {},
   "source": [
    "## Magic Square"
   ]
  },
  {
   "cell_type": "raw",
   "id": "cb6dc25a-3a98-4ebb-b913-830916e3f367",
   "metadata": {},
   "source": [
    "1 => (3/2, 3-1) => (1, 2)\n",
    "2=> (1-1, 2+1) => (0, 0)\n",
    "3=> (0-1, 0+1) => (2, 1)\n",
    "4 => (2-1, 1+1) => (1, 2) => (2, 0)\n",
    "5 => (2-1, 0+1) => (1, 1)\n",
    "6 => (1-1, 1+1) => (0, 2)\n",
    "7 => (0-1, 2+1) => (-1, 3) => (0, n-2) => (0, 1)\n",
    "8 => (0-1, 1+1) => (2, 2) \n",
    "9 => (2-1, 2+1) => (1, 0)"
   ]
  },
  {
   "cell_type": "raw",
   "id": "bc3d3b2b-6ead-4894-86f1-f4eb6dcee5a7",
   "metadata": {},
   "source": [
    "1) (i) calculate the position as (n/2, n-1) = (x,y)\n",
    "  (ii) calculate the further position values as (x-1, y+1) => (i,j)\n",
    "2) either i or j, go out of the range (0,1,...n-1) then wrap around\n",
    "   (if i is less than 0, make i= n-1)\n",
    "    (if j is greater than n-1, make j=0)\n",
    "3) if i and j both go out of the range( eg: i<0 and j>n-1)\n",
    "   then (i, j) => (0, n-2)"
   ]
  },
  {
   "cell_type": "code",
   "execution_count": 18,
   "id": "c870459b-58af-4613-ab42-082824bbfdfc",
   "metadata": {},
   "outputs": [
    {
     "name": "stdin",
     "output_type": "stream",
     "text": [
      "Enter the number  of rows: 3\n"
     ]
    },
    {
     "name": "stdout",
     "output_type": "stream",
     "text": [
      "[[0, 0, 0], [0, 0, 0], [0, 0, 0]]\n",
      "A 3x3 Magic Square:\n",
      "2\t7\t6\t\n",
      "9\t5\t1\t\n",
      "4\t3\t8\t\n",
      "Original Matrix:\n",
      "[2, 7, 6]\n",
      "[9, 5, 1]\n",
      "[4, 3, 8]\n",
      "\n",
      "Mirror Image:\n",
      "[6, 7, 2]\n",
      "[1, 5, 9]\n",
      "[8, 3, 4]\n",
      "\n",
      "Water Image:\n",
      "[4, 3, 8]\n",
      "[9, 5, 1]\n",
      "[2, 7, 6]\n"
     ]
    }
   ],
   "source": [
    "def generate_magic_square(n):\n",
    "    magic_square = [[0] * n for _ in range(n)]\n",
    "    print(magic_square)\n",
    "    num = 1\n",
    "    i, j = n // 2, n - 1\n",
    "    while num <= (n * n):\n",
    "        if i == -1 and j == n:\n",
    "            j = n - 2\n",
    "            i = 0\n",
    "        else:\n",
    "            if j == n:\n",
    "                j = 0\n",
    "            if i < 0:\n",
    "                i = n - 1\n",
    "        \n",
    "        if magic_square[i][j] != 0:\n",
    "            j -= 2\n",
    "            i += 1\n",
    "            continue\n",
    "        else:\n",
    "            magic_square[i][j] = num\n",
    "            num += 1\n",
    "        \n",
    "        j += 1#Col is incrementing\n",
    "        i -= 1#row is decrementing\n",
    "\n",
    "    return magic_square\n",
    "\n",
    "def print_magic_square(square):\n",
    "    for i in range(len(square)):\n",
    "        for j in range(len(square[0])):\n",
    "            print(square[i][j], end=\"\\t\")\n",
    "        print()\n",
    "\n",
    "n=int(input(\"Enter the number  of rows:\"))\n",
    "magic_square = generate_magic_square(n)\n",
    "print(f\"A {n}x{n} Magic Square:\")\n",
    "print_magic_square(magic_square)\n",
    "def generate_mirror_image(matrix):\n",
    "    mirror_image = [row[::-1] for row in matrix]\n",
    "    return mirror_image\n",
    "\n",
    "def generate_water_image(matrix):\n",
    "    water_image = matrix[::-1]\n",
    "    return water_image\n",
    "\n",
    "mirror_image = generate_mirror_image(magic_square)\n",
    "water_image = generate_water_image(magic_square)\n",
    "\n",
    "print(\"Original Matrix:\")\n",
    "for row in magic_square:\n",
    "    print(row)\n",
    "\n",
    "print(\"\\nMirror Image:\")\n",
    "for row in mirror_image:\n",
    "    print(row)\n",
    "\n",
    "print(\"\\nWater Image:\")\n",
    "for row in water_image:\n",
    "    print(row)\n"
   ]
  },
  {
   "cell_type": "code",
   "execution_count": 28,
   "id": "59cbbebc-1fba-4d32-98fb-3130ac0644aa",
   "metadata": {},
   "outputs": [
    {
     "ename": "IndexError",
     "evalue": "list index out of range",
     "output_type": "error",
     "traceback": [
      "\u001b[1;31m---------------------------------------------------------------------------\u001b[0m",
      "\u001b[1;31mIndexError\u001b[0m                                Traceback (most recent call last)",
      "Cell \u001b[1;32mIn[28], line 30\u001b[0m\n\u001b[0;32m     26\u001b[0m         \u001b[38;5;28mprint\u001b[39m(row)\n\u001b[0;32m     29\u001b[0m n \u001b[38;5;241m=\u001b[39m \u001b[38;5;241m4\u001b[39m\n\u001b[1;32m---> 30\u001b[0m \u001b[43mgenerate\u001b[49m\u001b[43m(\u001b[49m\u001b[43mn\u001b[49m\u001b[43m)\u001b[49m\n",
      "Cell \u001b[1;32mIn[28], line 15\u001b[0m, in \u001b[0;36mgenerate\u001b[1;34m(n)\u001b[0m\n\u001b[0;32m     13\u001b[0m     \u001b[38;5;28;01mif\u001b[39;00m j \u001b[38;5;241m==\u001b[39m n:\n\u001b[0;32m     14\u001b[0m         j \u001b[38;5;241m=\u001b[39m \u001b[38;5;241m0\u001b[39m\n\u001b[1;32m---> 15\u001b[0m \u001b[38;5;28;01mif\u001b[39;00m \u001b[43marr\u001b[49m\u001b[43m[\u001b[49m\u001b[43mi\u001b[49m\u001b[43m]\u001b[49m[j] \u001b[38;5;241m!=\u001b[39m \u001b[38;5;241m0\u001b[39m:\n\u001b[0;32m     16\u001b[0m     i \u001b[38;5;241m+\u001b[39m\u001b[38;5;241m=\u001b[39m \u001b[38;5;241m1\u001b[39m \n\u001b[0;32m     17\u001b[0m     j \u001b[38;5;241m-\u001b[39m\u001b[38;5;241m=\u001b[39m \u001b[38;5;241m2\u001b[39m \n",
      "\u001b[1;31mIndexError\u001b[0m: list index out of range"
     ]
    }
   ],
   "source": [
    "def generate(n):\n",
    "    arr = [[0 for i in range(n)] for j in range(n)]\n",
    "    i = n//2\n",
    "    j = n-1\n",
    "    num = 1\n",
    "    while num <= (n*n):\n",
    "        if i == -1 and j == n:  \n",
    "            i = 0\n",
    "            j = n-2\n",
    "        else:\n",
    "            if i < 0:\n",
    "                i = n-1\n",
    "            if j == n:\n",
    "                j = 0\n",
    "        if arr[i][j] != 0:\n",
    "            i += 1 \n",
    "            j -= 2 \n",
    "            continue\n",
    "        else:\n",
    "            arr[i][j] = num\n",
    "            num = num+1\n",
    "        i = i-1\n",
    "        j = j+1\n",
    "        \n",
    "    for row in arr:\n",
    "        print(row)\n",
    "    \n",
    "    \n",
    "n = 4\n",
    "generate(n)\n"
   ]
  },
  {
   "cell_type": "markdown",
   "id": "72b24e2f-5b5f-4eb1-88b5-248f76f7b0fa",
   "metadata": {},
   "source": [
    "## Merge sort with Inversion count"
   ]
  },
  {
   "cell_type": "code",
   "execution_count": 29,
   "id": "57d3320d-8aa0-463d-a11c-67da15083608",
   "metadata": {},
   "outputs": [
    {
     "name": "stdin",
     "output_type": "stream",
     "text": [
      " 1,7,4,8,5\n"
     ]
    },
    {
     "name": "stdout",
     "output_type": "stream",
     "text": [
      "3\n"
     ]
    }
   ],
   "source": [
    "def merge_sort(li):\n",
    "    global c\n",
    "    if len(li)<=1:\n",
    "        return li\n",
    "    else:\n",
    "        mid=len(li)//2\n",
    "        left_arr=li[:mid]\n",
    "        right_arr=li[mid:]\n",
    "        merge_sort(left_arr)\n",
    "        merge_sort(right_arr)\n",
    "        i=j=k=0\n",
    "        while i<len(left_arr) and j<len(right_arr):\n",
    "            if left_arr[i]<right_arr[j]:\n",
    "                li[k]=left_arr[i]\n",
    "                i=i+1\n",
    "                k=k+1\n",
    "            else:\n",
    "                li[k]=right_arr[j]\n",
    "                c+=len(left_arr)-i\n",
    "                j=j+1\n",
    "                k=k+1\n",
    "                #to insert leftovers\n",
    "        while i<(len(left_arr)):\n",
    "            li[k]=left_arr[i]\n",
    "            i=i+1\n",
    "            k=k+1\n",
    "        while j<(len(right_arr)):\n",
    "            li[k]=right_arr[j]\n",
    "            j=j+1\n",
    "            k=k+1\n",
    "        return c\n",
    "li=list(map(int,input().split(\",\")))\n",
    "c=0\n",
    "print(merge_sort(li))"
   ]
  },
  {
   "cell_type": "markdown",
   "id": "94916f4d-5ac0-4e0d-9262-7cf1fda2da80",
   "metadata": {},
   "source": [
    "## Merge sort"
   ]
  },
  {
   "cell_type": "code",
   "execution_count": 30,
   "id": "377c40fe-5c00-49d2-b9fe-f4f46a04558b",
   "metadata": {},
   "outputs": [
    {
     "name": "stdin",
     "output_type": "stream",
     "text": [
      " 1,7,5,4,9,6,2,8,11\n"
     ]
    },
    {
     "name": "stdout",
     "output_type": "stream",
     "text": [
      "[1, 2, 4, 5, 6, 7, 8, 9, 11]\n"
     ]
    }
   ],
   "source": [
    "def merge_sort(li):\n",
    "    if len(li)<=1:\n",
    "        return li\n",
    "    else:\n",
    "        mid=len(li)//2\n",
    "        left_arr=li[:mid]\n",
    "        right_arr=li[mid:]\n",
    "        merge_sort(left_arr)\n",
    "        merge_sort(right_arr)\n",
    "        i=j=k=0\n",
    "        while i<len(left_arr) and j<len(right_arr):\n",
    "            if left_arr[i]<right_arr[j]:\n",
    "                li[k]=left_arr[i]\n",
    "                i=i+1\n",
    "                k=k+1\n",
    "            else:\n",
    "                li[k]=right_arr[j]\n",
    "                j=j+1\n",
    "                k=k+1\n",
    "                #to insert leftovers\n",
    "        while i<(len(left_arr)):\n",
    "            li[k]=left_arr[i]\n",
    "            i=i+1\n",
    "            k=k+1\n",
    "        while j<(len(right_arr)):\n",
    "            li[k]=right_arr[j]\n",
    "            j=j+1\n",
    "            k=k+1\n",
    "        return li\n",
    "li=list(map(int,input().split(\",\")))\n",
    "print(merge_sort(li))\n",
    "\n"
   ]
  },
  {
   "cell_type": "markdown",
   "id": "b052764f-3aee-4c4e-b171-ffd353daf8b7",
   "metadata": {},
   "source": [
    "## Inversion Brute force"
   ]
  },
  {
   "cell_type": "code",
   "execution_count": null,
   "id": "04ea3bac-a03f-4feb-a5a9-75eecb6a809f",
   "metadata": {},
   "outputs": [],
   "source": [
    "li=list(map(int,input().split(\",\")))\n",
    "c=0\n",
    "for i in range(0,len(li)):\n",
    "    for j in range(i+1,len(li)):\n",
    "        if li[i]>li[j]:\n",
    "            c=c+1\n",
    "print(c)\n"
   ]
  },
  {
   "cell_type": "code",
   "execution_count": null,
   "id": "eb75e06f-8b1d-4fe2-9e94-90420cb72e59",
   "metadata": {},
   "outputs": [],
   "source": []
  }
 ],
 "metadata": {
  "kernelspec": {
   "display_name": "Python 3 (ipykernel)",
   "language": "python",
   "name": "python3"
  },
  "language_info": {
   "codemirror_mode": {
    "name": "ipython",
    "version": 3
   },
   "file_extension": ".py",
   "mimetype": "text/x-python",
   "name": "python",
   "nbconvert_exporter": "python",
   "pygments_lexer": "ipython3",
   "version": "3.11.4"
  }
 },
 "nbformat": 4,
 "nbformat_minor": 5
}
