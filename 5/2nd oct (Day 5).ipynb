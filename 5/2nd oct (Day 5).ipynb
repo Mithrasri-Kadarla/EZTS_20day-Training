{
 "cells": [
  {
   "cell_type": "markdown",
   "id": "3aa007c9-423c-4c75-ae35-8cdc519dba93",
   "metadata": {},
   "source": [
    "## Similar sum in the matrix"
   ]
  },
  {
   "cell_type": "code",
   "execution_count": 2,
   "id": "e1cec35c-b86d-4566-bdde-5707b8a86546",
   "metadata": {},
   "outputs": [
    {
     "name": "stdin",
     "output_type": "stream",
     "text": [
      "Enter the number  of rows: 5\n"
     ]
    },
    {
     "name": "stdout",
     "output_type": "stream",
     "text": [
      "A 5x5 Magic Square:\n",
      "9\t3\t22\t16\t15\t\n",
      "2\t21\t20\t14\t8\t\n",
      "25\t19\t13\t7\t1\t\n",
      "18\t12\t6\t5\t24\t\n",
      "11\t10\t4\t23\t17\t\n",
      "Original Matrix:\n",
      "[9, 3, 22, 16, 15]\n",
      "[2, 21, 20, 14, 8]\n",
      "[25, 19, 13, 7, 1]\n",
      "[18, 12, 6, 5, 24]\n",
      "[11, 10, 4, 23, 17]\n",
      "\n",
      "Mirror Image:\n",
      "[15, 16, 22, 3, 9]\n",
      "[8, 14, 20, 21, 2]\n",
      "[1, 7, 13, 19, 25]\n",
      "[24, 5, 6, 12, 18]\n",
      "[17, 23, 4, 10, 11]\n",
      "\n",
      "Water Image:\n",
      "[11, 10, 4, 23, 17]\n",
      "[18, 12, 6, 5, 24]\n",
      "[25, 19, 13, 7, 1]\n",
      "[2, 21, 20, 14, 8]\n",
      "[9, 3, 22, 16, 15]\n"
     ]
    }
   ],
   "source": [
    "def generate_magic_square(n):\n",
    "    magic_square = [[0] * n for _ in range(n)]\n",
    "    num = 1\n",
    "    i, j = n // 2, n - 1\n",
    "\n",
    "    while num <= (n * n):\n",
    "        if i == -1 and j == n:\n",
    "            j = n - 2\n",
    "            i = 0\n",
    "        else:\n",
    "            if j == n:\n",
    "                j = 0\n",
    "            if i < 0:\n",
    "                i = n - 1\n",
    "        \n",
    "        if magic_square[i][j] != 0:\n",
    "            j -= 2\n",
    "            i += 1\n",
    "            continue\n",
    "        else:\n",
    "            magic_square[i][j] = num\n",
    "            num += 1\n",
    "        \n",
    "        j += 1\n",
    "        i -= 1\n",
    "\n",
    "    return magic_square\n",
    "\n",
    "def print_magic_square(square):\n",
    "    for i in range(len(square)):\n",
    "        for j in range(len(square[0])):\n",
    "            print(square[i][j], end=\"\\t\")\n",
    "        print()\n",
    "\n",
    "n=int(input(\"Enter the number  of rows:\"))\n",
    "magic_square = generate_magic_square(n)\n",
    "print(f\"A {n}x{n} Magic Square:\")\n",
    "print_magic_square(magic_square)\n",
    "def generate_mirror_image(matrix):\n",
    "    mirror_image = [row[::-1] for row in matrix]\n",
    "    return mirror_image\n",
    "\n",
    "def generate_water_image(matrix):\n",
    "    water_image = matrix[::-1]\n",
    "    return water_image\n",
    "\n",
    "mirror_image = generate_mirror_image(magic_square)\n",
    "water_image = generate_water_image(magic_square)\n",
    "\n",
    "print(\"Original Matrix:\")\n",
    "for row in magic_square:\n",
    "    print(row)\n",
    "\n",
    "print(\"\\nMirror Image:\")\n",
    "for row in mirror_image:\n",
    "    print(row)\n",
    "\n",
    "print(\"\\nWater Image:\")\n",
    "for row in water_image:\n",
    "    print(row)\n"
   ]
  }
 ],
 "metadata": {
  "kernelspec": {
   "display_name": "Python 3 (ipykernel)",
   "language": "python",
   "name": "python3"
  },
  "language_info": {
   "codemirror_mode": {
    "name": "ipython",
    "version": 3
   },
   "file_extension": ".py",
   "mimetype": "text/x-python",
   "name": "python",
   "nbconvert_exporter": "python",
   "pygments_lexer": "ipython3",
   "version": "3.11.4"
  }
 },
 "nbformat": 4,
 "nbformat_minor": 5
}
