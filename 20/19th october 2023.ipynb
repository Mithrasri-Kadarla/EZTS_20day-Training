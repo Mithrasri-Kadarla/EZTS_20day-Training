{
 "cells": [
  {
   "cell_type": "markdown",
   "id": "75618964-3a27-45fd-b501-fcfb596b4b5b",
   "metadata": {},
   "source": [
    "## Quadratic probing"
   ]
  },
  {
   "cell_type": "code",
   "execution_count": 8,
   "id": "a594f5b9-a8e9-4799-843e-2e0878d56ef4",
   "metadata": {},
   "outputs": [
    {
     "data": {
      "text/plain": [
       "[19, None, 12, None, None, 25, 76, None, 38, 18]"
      ]
     },
     "execution_count": 8,
     "metadata": {},
     "output_type": "execute_result"
    }
   ],
   "source": [
    "def quadratic_probing(search_key, n):\n",
    "    arr=[None]*n  \n",
    "    for key in search_key:\n",
    "        val=key % n\n",
    "        i=1\n",
    "        while arr[val] is not None:\n",
    "            val=(key+i**2)%n\n",
    "            i+=1\n",
    "        arr[val]=key\n",
    "    return arr\n",
    "search_key=[38,18,19,76,25,12]\n",
    "n=10\n",
    "quadratic_probing(search_key,n)"
   ]
  },
  {
   "cell_type": "code",
   "execution_count": null,
   "id": "8d5b6efa-565f-4f04-a508-a42b54c59ba4",
   "metadata": {},
   "outputs": [],
   "source": [
    "def hash_fn(val):\n",
    "    return val%10\n",
    "def probe(hash_table,ci):\n",
    "    probe_number=1\n",
    "    while hash_table[ci]!=-1:\n",
    "        ci+=probe_number**2\n",
    "        if ci>=len(hash_table):\n",
    "            \n",
    "        "
   ]
  },
  {
   "cell_type": "code",
   "execution_count": 1,
   "id": "6e3a1ce5-fd1f-4e80-b4fb-d7e03b6220bc",
   "metadata": {},
   "outputs": [
    {
     "ename": "UnboundLocalError",
     "evalue": "cannot access local variable 'n' where it is not associated with a value",
     "output_type": "error",
     "traceback": [
      "\u001b[1;31m---------------------------------------------------------------------------\u001b[0m",
      "\u001b[1;31mUnboundLocalError\u001b[0m                         Traceback (most recent call last)",
      "Cell \u001b[1;32mIn[1], line 9\u001b[0m\n\u001b[0;32m      7\u001b[0m l\u001b[38;5;241m=\u001b[39m[]    \n\u001b[0;32m      8\u001b[0m \u001b[38;5;28;01mfor\u001b[39;00m i \u001b[38;5;129;01min\u001b[39;00m \u001b[38;5;28mrange\u001b[39m(\u001b[38;5;241m5\u001b[39m):\n\u001b[1;32m----> 9\u001b[0m     x\u001b[38;5;241m=\u001b[39m\u001b[43mfun\u001b[49m\u001b[43m(\u001b[49m\u001b[43mi\u001b[49m\u001b[43m)\u001b[49m\n\u001b[0;32m     10\u001b[0m     l\u001b[38;5;241m.\u001b[39mappend(x)\n\u001b[0;32m     11\u001b[0m \u001b[38;5;28mprint\u001b[39m(l)\n",
      "Cell \u001b[1;32mIn[1], line 3\u001b[0m, in \u001b[0;36mfun\u001b[1;34m(val)\u001b[0m\n\u001b[0;32m      1\u001b[0m \u001b[38;5;28;01mdef\u001b[39;00m \u001b[38;5;21mfun\u001b[39m(val):\n\u001b[0;32m      2\u001b[0m     c\u001b[38;5;241m=\u001b[39m\u001b[38;5;241m0\u001b[39m\n\u001b[1;32m----> 3\u001b[0m     \u001b[38;5;28;01mwhile\u001b[39;00m(\u001b[43mn\u001b[49m):\n\u001b[0;32m      4\u001b[0m         n\u001b[38;5;241m=\u001b[39mn\u001b[38;5;241m&\u001b[39m(n\u001b[38;5;241m-\u001b[39m\u001b[38;5;241m1\u001b[39m)\n\u001b[0;32m      5\u001b[0m         c\u001b[38;5;241m+\u001b[39m\u001b[38;5;241m=\u001b[39m\u001b[38;5;241m1\u001b[39m\n",
      "\u001b[1;31mUnboundLocalError\u001b[0m: cannot access local variable 'n' where it is not associated with a value"
     ]
    }
   ],
   "source": [
    "def fun(val):\n",
    "    c=0\n",
    "    while(n):\n",
    "        n=n&(n-1)\n",
    "        c+=1\n",
    "    return c\n",
    "l=[]    \n",
    "for i in range(5):\n",
    "    x=fun(i)\n",
    "    l.append(x)\n",
    "print(l)\n"
   ]
  },
  {
   "cell_type": "code",
   "execution_count": null,
   "id": "dd3694a0-5fab-48ad-8fbb-5b394926f799",
   "metadata": {},
   "outputs": [],
   "source": []
  },
  {
   "cell_type": "markdown",
   "id": "583bce52",
   "metadata": {},
   "source": [
    "## Quadratic probing"
   ]
  },
  {
   "cell_type": "code",
   "execution_count": null,
   "id": "c678b526",
   "metadata": {},
   "outputs": [],
   "source": [
    "def hash_fn(val):\n",
    "    return val%10\n",
    "def probe(hash_table,ci):\n",
    "    probe_number=1\n",
    "    while hash_table[ci]!=-1:\n",
    "        ci+=probe_number**2\n",
    "        if ci>=len(hash_table):\n",
    "            \n",
    "        "
   ]
  },
  {
   "cell_type": "code",
   "execution_count": 9,
   "id": "12fca86e",
   "metadata": {},
   "outputs": [],
   "source": [
    "def get_number_of_set_bits(n):\n",
    "    c=0\n",
    "    while n>0:\n",
    "        if n%2==1:\n",
    "            c+=1\n",
    "            n=n>>1\n",
    "        else:\n",
    "            n=n>>1\n",
    "    return c\n",
    "    "
   ]
  },
  {
   "cell_type": "code",
   "execution_count": null,
   "id": "d9da8667-8272-47ac-b7b0-d0ee4f282253",
   "metadata": {},
   "outputs": [],
   "source": [
    "from collections import deque\n",
    "\n",
    "min_weight = float('+inf')\n",
    "min_weight_path = \"\"\n",
    "max_weight = float('-inf')\n",
    "max_weight_path = \"\"\n",
    "\n",
    "threshold_ceil = float('-inf')\n",
    "threshold_ceil_path = \"\"\n",
    "threshold_floor = float('+inf')\n",
    "threshold_floor_path = \"\"\n",
    "\n",
    "components = []\n",
    "\n",
    "\n",
    "\n",
    "def build_graph(number_of_vertices):\n",
    "\n",
    "    graph = [[] for i in range(number_of_vertices)]\n",
    "\n",
    "    graph[0].append([0,1,10])\n",
    "    graph[0].append([0,2,8])\n",
    "\n",
    "    graph[1].append([1,0,5])\n",
    "    graph[1].append([1,3,5])\n",
    "    graph[1].append([1,4,10])\n",
    "\n",
    "    graph[2].append([2,3,7])\n",
    "    graph[2].append([2,0,8])\n",
    "\n",
    "    graph[3].append([3,2,7])\n",
    "    graph[3].append([3,1,10])\n",
    "\n",
    "    graph[4].append([4,7,10])\n",
    "    graph[4].append([4,5,8])\n",
    "    graph[4].append([4,1,8])\n",
    "\n",
    "    graph[5].append([5,4,8])\n",
    "    graph[5].append([5,6,3])\n",
    "\n",
    "    graph[6].append([6,5,2])\n",
    "    graph[6].append([6,7,3])\n",
    "\n",
    "    graph[7].append([7,6,2])\n",
    "    graph[7].append([7,4,10])\n",
    "\n",
    "    return graph\n",
    "\n",
    "\n",
    "def print_graph(graph):\n",
    "    for vertices in graph:\n",
    "        for edge in vertices:\n",
    "            print(edge,end=\" \")\n",
    "        print()\n",
    "\n",
    "def has_path(graph, src , des , visited):\n",
    "    if src == des:\n",
    "        return True\n",
    "    visited[src] = True\n",
    "    for edge in graph[src]:\n",
    "        if visited[edge[1]] == False:\n",
    "            value = has_path(graph,edge[1],des,visited)\n",
    "            if value == True:\n",
    "                return True\n",
    "    return False\n",
    "\n",
    "\n",
    "def print_all_path(graph,src,des,psf,visited):\n",
    "    if src == des:\n",
    "        psf += str(src)\n",
    "        print(psf)\n",
    "        return\n",
    "    psf+=str(src)\n",
    "    visited[src] = True\n",
    "    for edge in graph[src]:\n",
    "        if visited[edge[1]] == False:\n",
    "            print_all_path(graph,edge[1],des,psf,visited)\n",
    "    visited[src] = False\n",
    "\n",
    "def multi_solver(graph,src,des,psf,wsf,visited,threshold):\n",
    "    global min_weight\n",
    "    global min_weight_path\n",
    "    global max_weight\n",
    "    global max_weight_path\n",
    "    global threshold_ceil\n",
    "    global threshold_floor\n",
    "    global threshold_ceil_path\n",
    "    global threshold_floor_path\n",
    "    if src == des:\n",
    "        psf += str(src)\n",
    "        if wsf < min_weight:\n",
    "            min_weight = wsf\n",
    "            min_weight_path = psf\n",
    "        if wsf > max_weight:\n",
    "            max_weight = wsf\n",
    "            max_weight_path = psf\n",
    "        if wsf > threshold and threshold_ceil < wsf:\n",
    "            threshold_ceil = wsf\n",
    "            threshold_ceil_path = psf\n",
    "        if wsf < threshold and threshold_floor > wsf:\n",
    "            threshold_floor = wsf\n",
    "            threshold_floor_path = psf        \n",
    "    psf+=str(src)\n",
    "    visited[src] = True\n",
    "    for edge in graph[src]: \n",
    "        if visited[edge[1]] == False:\n",
    "            multi_solver(graph,edge[1],des,psf,wsf+edge[2],visited,threshold)\n",
    "    visited[src] = False\n",
    "\n",
    "\n",
    "        \n",
    "def bfs(graph,queue,visited,psf,origin):\n",
    "    my_map = {}\n",
    "    flag = True\n",
    "    while queue:\n",
    "        removed_node = queue.popleft()\n",
    "        visited.add(tuple(removed_node))\n",
    "        level = removed_node[2]\n",
    "        src = removed_node[0]\n",
    "        if flag == True:\n",
    "            my_map[origin] = [src+1]\n",
    "            flag = False\n",
    "        if level not in my_map:\n",
    "            if src != origin:\n",
    "                my_map[level] = [src]\n",
    "        else:\n",
    "            if src != origin:\n",
    "                updated_value = my_map[level]+[src]\n",
    "                my_map[level] = updated_value\n",
    "        #print(psf)\n",
    "        next_level = level+1\n",
    "        for nbr in graph[removed_node[0]]:\n",
    "            if nbr[1] not in visited:\n",
    "                queue.append([nbr[1],psf,next_level])\n",
    "                visited.add(nbr[1])\n",
    "    print(my_map)\n",
    "         \n",
    "        \n",
    "        \n",
    "\n",
    "\n",
    "def main():\n",
    "    \n",
    "    number_of_vertices = 8\n",
    "    graph = build_graph(number_of_vertices)\n",
    "    queue = deque()\n",
    "    visited = set()\n",
    "    start = 0\n",
    "    psf = \"\"\n",
    "    queue.append([start,\"\",1])\n",
    "    bfs(graph,queue,visited,psf,start)\n",
    "main()"
   ]
  },
  {
   "cell_type": "markdown",
   "id": "89a42bf3-eed3-4536-892a-b24dd3254673",
   "metadata": {},
   "source": [
    "## Set Bits"
   ]
  },
  {
   "cell_type": "code",
   "execution_count": 1,
   "id": "874da407-1a0e-4cba-bb76-72fc17dee912",
   "metadata": {},
   "outputs": [
    {
     "name": "stdout",
     "output_type": "stream",
     "text": [
      "4\n"
     ]
    }
   ],
   "source": [
    "def get_number_of_set_bits(n):\n",
    "    count = 0\n",
    "    while n > 0:\n",
    "        if n%2 == 1:\n",
    "            count+=1\n",
    "            n = n>>1\n",
    "        else:\n",
    "            n = n>>1\n",
    "    return count\n",
    "\n",
    "def main():\n",
    "    print(get_number_of_set_bits(15))\n",
    "main()"
   ]
  },
  {
   "cell_type": "markdown",
   "id": "bc6ed587-968a-482b-a5d7-4af058103525",
   "metadata": {},
   "source": [
    "## Quadratic probing"
   ]
  },
  {
   "cell_type": "code",
   "execution_count": 2,
   "id": "0bd0f268-68cc-48c1-933c-8d87817add08",
   "metadata": {},
   "outputs": [
    {
     "name": "stdout",
     "output_type": "stream",
     "text": [
      "[-1, -1, 32, -1, 34, 54, 65, -1, 78, 98]\n"
     ]
    }
   ],
   "source": [
    "def hash_fn(value):\n",
    "    return value%10\n",
    "\n",
    "def probe(hash_table,ci):\n",
    "    probe_number = 1\n",
    "    while hash_table[ci] != -1:\n",
    "        ci = ci + probe_number**2\n",
    "        if ci >= len(hash_table):\n",
    "            ci = ci%10\n",
    "        if hash_table[ci] == -1:\n",
    "            return ci\n",
    "        else:\n",
    "            probe_number+=1\n",
    "def quadratic_probing(search_keys,n):\n",
    "    hash_table = [-1 for i in range(n)]\n",
    "    for key in search_keys:\n",
    "        ci = hash_fn(key)\n",
    "        if hash_table[ci] == -1:\n",
    "            hash_table[ci] = key\n",
    "        else:\n",
    "            ni = probe(hash_table,ci)\n",
    "            hash_table[ni] = key\n",
    "    return hash_table\n",
    "\n",
    "\n",
    "def main():\n",
    "    search_keys = [34,54,65,78,32,98]\n",
    "    n = 10\n",
    "    hash_table = quadratic_probing(search_keys,n)\n",
    "    print(hash_table)\n",
    "\n",
    "\n",
    "main()"
   ]
  },
  {
   "cell_type": "markdown",
   "id": "417a4315-c748-42fb-90da-1467e754cb6c",
   "metadata": {},
   "source": [
    "## Polymorphism"
   ]
  },
  {
   "cell_type": "code",
   "execution_count": 6,
   "id": "59a3db8d-e3bb-462a-9fae-1c25aceb118a",
   "metadata": {},
   "outputs": [
    {
     "name": "stdout",
     "output_type": "stream",
     "text": [
      "cooking food\n",
      "It time for the robbery\n"
     ]
    }
   ],
   "source": [
    "\n",
    "class CookWork:\n",
    "    def do_the_work(self):\n",
    "        print(\"cooking food\")\n",
    "class RooberyWork:\n",
    "    def do_the_work(self):\n",
    "        print(\"It time for the robbery\")\n",
    "def do_the_work(work):\n",
    "    work.do_the_work()\n",
    "\n",
    "cook_work = CookWork()\n",
    "robbery_work = RooberyWork()\n",
    "cook_work.do_the_work()\n",
    "robbery_work.do_the_work()"
   ]
  },
  {
   "cell_type": "markdown",
   "id": "5c25abf2-5505-45e8-8e71-3e4981ddead0",
   "metadata": {},
   "source": [
    "## Inheritance"
   ]
  },
  {
   "cell_type": "code",
   "execution_count": 7,
   "id": "6ab3a812-578f-491f-91f2-1e721888f7c8",
   "metadata": {},
   "outputs": [
    {
     "name": "stdout",
     "output_type": "stream",
     "text": [
      "4\n",
      "2 ears\n"
     ]
    }
   ],
   "source": [
    "class Animal:\n",
    "    def number_of_legs(self):\n",
    "        print(\"defualt number of legs\")\n",
    "class FourLegAnimals:\n",
    "    def number_of_legs(self):\n",
    "        print(4)\n",
    "class Cat(FourLegAnimals,Animal):\n",
    "    def number_of_ear(self):\n",
    "        print(\"2 ears\")\n",
    "cat = Cat()\n",
    "cat.number_of_legs()\n",
    "cat.number_of_ear()"
   ]
  },
  {
   "cell_type": "code",
   "execution_count": 12,
   "id": "7d9f587b-ac3c-4b11-861e-1602da976907",
   "metadata": {},
   "outputs": [
    {
     "name": "stdout",
     "output_type": "stream",
     "text": [
      "getting a lot of money\n"
     ]
    }
   ],
   "source": [
    "class Father:\n",
    "    def get_money(self):\n",
    "        print(\"getting a lot of money\")\n",
    "\n",
    "def get_money_from_father():\n",
    "    father = Father()\n",
    "    father.get_money()\n",
    "\n",
    "get_money_from_father()\n"
   ]
  },
  {
   "cell_type": "markdown",
   "id": "cecdecfa-83db-40ca-946a-5716c86ad079",
   "metadata": {},
   "source": [
    "## ENCAPSULATION"
   ]
  },
  {
   "cell_type": "code",
   "execution_count": 14,
   "id": "c96afd38-4ad9-4fd9-a56e-d40d01ddd300",
   "metadata": {},
   "outputs": [
    {
     "name": "stdout",
     "output_type": "stream",
     "text": [
      "Mithrasri\n"
     ]
    }
   ],
   "source": [
    "class Encapsulation:\n",
    "    def __init__(self):\n",
    "        self.name = \"Mithrasri\"\n",
    "        self.age = \"20\"\n",
    "    def get_name(self):\n",
    "        print(self.name)\n",
    "    def set_name(self,value):\n",
    "        self.name = value\n",
    "\n",
    "obj = Encapsulation()\n",
    "obj.get_name()"
   ]
  },
  {
   "cell_type": "code",
   "execution_count": null,
   "id": "90bc31da-19b1-41b9-8822-63192f8dea3d",
   "metadata": {},
   "outputs": [],
   "source": []
  }
 ],
 "metadata": {
  "kernelspec": {
   "display_name": "Python 3 (ipykernel)",
   "language": "python",
   "name": "python3"
  },
  "language_info": {
   "codemirror_mode": {
    "name": "ipython",
    "version": 3
   },
   "file_extension": ".py",
   "mimetype": "text/x-python",
   "name": "python",
   "nbconvert_exporter": "python",
   "pygments_lexer": "ipython3",
   "version": "3.11.4"
  }
 },
 "nbformat": 4,
 "nbformat_minor": 5
}
