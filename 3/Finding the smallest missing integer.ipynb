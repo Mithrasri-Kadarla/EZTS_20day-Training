{
 "cells": [
  {
   "cell_type": "code",
   "execution_count": 1,
   "id": "1fbc1bd2",
   "metadata": {},
   "outputs": [
    {
     "name": "stdout",
     "output_type": "stream",
     "text": [
      "1\n"
     ]
    }
   ],
   "source": [
    "print(7+2&4+3&9)"
   ]
  },
  {
   "cell_type": "code",
   "execution_count": 2,
   "id": "d6aa846f",
   "metadata": {},
   "outputs": [
    {
     "name": "stdout",
     "output_type": "stream",
     "text": [
      "10\n"
     ]
    }
   ],
   "source": [
    "print(10|3&4)"
   ]
  },
  {
   "cell_type": "code",
   "execution_count": 3,
   "id": "ddcde90e",
   "metadata": {},
   "outputs": [
    {
     "name": "stdout",
     "output_type": "stream",
     "text": [
      "11\n"
     ]
    }
   ],
   "source": [
    "print(10|3)"
   ]
  },
  {
   "cell_type": "code",
   "execution_count": 6,
   "id": "9ecf4b21",
   "metadata": {},
   "outputs": [
    {
     "name": "stdout",
     "output_type": "stream",
     "text": [
      "0\n"
     ]
    }
   ],
   "source": [
    "print(3&4)"
   ]
  },
  {
   "cell_type": "markdown",
   "id": "8af5d779",
   "metadata": {},
   "source": [
    "## negation (~) inside the expression is invalid"
   ]
  },
  {
   "cell_type": "code",
   "execution_count": 8,
   "id": "8fc21718",
   "metadata": {},
   "outputs": [
    {
     "ename": "SyntaxError",
     "evalue": "invalid syntax. Perhaps you forgot a comma? (323504611.py, line 1)",
     "output_type": "error",
     "traceback": [
      "\u001b[1;36m  Cell \u001b[1;32mIn[8], line 1\u001b[1;36m\u001b[0m\n\u001b[1;33m    print(10 & 4 ~2)\u001b[0m\n\u001b[1;37m          ^\u001b[0m\n\u001b[1;31mSyntaxError\u001b[0m\u001b[1;31m:\u001b[0m invalid syntax. Perhaps you forgot a comma?\n"
     ]
    }
   ],
   "source": [
    "print(10 & 4 ~2)"
   ]
  },
  {
   "cell_type": "code",
   "execution_count": 9,
   "id": "982b7fdb",
   "metadata": {},
   "outputs": [
    {
     "name": "stdout",
     "output_type": "stream",
     "text": [
      "0\n"
     ]
    }
   ],
   "source": [
    "print(10&4)"
   ]
  },
  {
   "cell_type": "code",
   "execution_count": 10,
   "id": "e94fb163",
   "metadata": {},
   "outputs": [
    {
     "ename": "SyntaxError",
     "evalue": "invalid syntax. Perhaps you forgot a comma? (3651543295.py, line 1)",
     "output_type": "error",
     "traceback": [
      "\u001b[1;36m  Cell \u001b[1;32mIn[10], line 1\u001b[1;36m\u001b[0m\n\u001b[1;33m    print(0~2)\u001b[0m\n\u001b[1;37m          ^\u001b[0m\n\u001b[1;31mSyntaxError\u001b[0m\u001b[1;31m:\u001b[0m invalid syntax. Perhaps you forgot a comma?\n"
     ]
    }
   ],
   "source": [
    "print(0~2)"
   ]
  },
  {
   "cell_type": "code",
   "execution_count": 11,
   "id": "5a7f4ef6",
   "metadata": {},
   "outputs": [
    {
     "name": "stdout",
     "output_type": "stream",
     "text": [
      "7\n"
     ]
    }
   ],
   "source": [
    "print(6|3&9+6)"
   ]
  },
  {
   "cell_type": "code",
   "execution_count": 12,
   "id": "7afe420b",
   "metadata": {},
   "outputs": [
    {
     "name": "stdout",
     "output_type": "stream",
     "text": [
      "3\n"
     ]
    }
   ],
   "source": [
    "print(1^2)"
   ]
  },
  {
   "cell_type": "code",
   "execution_count": 16,
   "id": "d217eb88",
   "metadata": {},
   "outputs": [
    {
     "name": "stdout",
     "output_type": "stream",
     "text": [
      "7\n",
      "3\n"
     ]
    },
    {
     "data": {
      "text/plain": [
       "1"
      ]
     },
     "execution_count": 16,
     "metadata": {},
     "output_type": "execute_result"
    }
   ],
   "source": [
    "print(14>>1)\n",
    "print(14>>2)\n",
    "14>>3"
   ]
  },
  {
   "cell_type": "code",
   "execution_count": 17,
   "id": "8d3eb5d1",
   "metadata": {},
   "outputs": [
    {
     "data": {
      "text/plain": [
       "28"
      ]
     },
     "execution_count": 17,
     "metadata": {},
     "output_type": "execute_result"
    }
   ],
   "source": [
    "14<<1"
   ]
  },
  {
   "cell_type": "markdown",
   "id": "0ce896c2",
   "metadata": {},
   "source": [
    "## Finding the missing number"
   ]
  },
  {
   "cell_type": "code",
   "execution_count": 20,
   "id": "d33f465e",
   "metadata": {},
   "outputs": [
    {
     "name": "stdout",
     "output_type": "stream",
     "text": [
      "1 4 3 5\n",
      "2\n"
     ]
    }
   ],
   "source": [
    "def findnum(arr,n):\n",
    "    if n==0:\n",
    "        return 1\n",
    "    i=0\n",
    "    while i<n:\n",
    "        if arr[i]>=1 and arr[i]<=n and arr[i]!=arr[arr[i]-1]:\n",
    "            temp=arr[i]-1\n",
    "            temp_2=arr[i]\n",
    "            arr[i]=arr[temp]\n",
    "            arr[temp]=temp_2\n",
    "        else:\n",
    "            i+=1\n",
    "    for i in range(n):\n",
    "        if arr[i]!=i+1:\n",
    "            return i+1\n",
    "arr=list(map(int,input().split()))\n",
    "print(findnum(arr,len(arr)))"
   ]
  },
  {
   "cell_type": "code",
   "execution_count": null,
   "id": "4aacacad",
   "metadata": {},
   "outputs": [],
   "source": []
  }
 ],
 "metadata": {
  "kernelspec": {
   "display_name": "Python 3 (ipykernel)",
   "language": "python",
   "name": "python3"
  },
  "language_info": {
   "codemirror_mode": {
    "name": "ipython",
    "version": 3
   },
   "file_extension": ".py",
   "mimetype": "text/x-python",
   "name": "python",
   "nbconvert_exporter": "python",
   "pygments_lexer": "ipython3",
   "version": "3.11.4"
  }
 },
 "nbformat": 4,
 "nbformat_minor": 5
}
