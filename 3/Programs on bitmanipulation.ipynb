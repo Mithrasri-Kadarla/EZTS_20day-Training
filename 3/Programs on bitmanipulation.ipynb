{
 "cells": [
  {
   "cell_type": "code",
   "execution_count": null,
   "id": "1e32a91e",
   "metadata": {},
   "outputs": [],
   "source": [
    "b=input()\n",
    "a=[int(x) for x in b.split(\" \")]\n",
    "print(a)\n",
    "for i in range(len(a)):\n",
    "    if i not in a:\n",
    "        print(i)\n",
    "        break"
   ]
  },
  {
   "cell_type": "markdown",
   "id": "5e7cd3ad",
   "metadata": {},
   "source": [
    "## Placing the setbit in given position "
   ]
  },
  {
   "cell_type": "code",
   "execution_count": null,
   "id": "30790da5",
   "metadata": {},
   "outputs": [],
   "source": [
    "def miss(arr):\n",
    "    nums=set(arr)\n",
    "    l=0\n",
    "    while l in nums:\n",
    "        l+=1\n",
    "    return l\n",
    "arr=list(map(int,input().split()))\n",
    "res=miss(arr)\n",
    "print(res)"
   ]
  },
  {
   "cell_type": "markdown",
   "id": "28c37b89",
   "metadata": {},
   "source": [
    "## Finding the element which is not repeated"
   ]
  },
  {
   "cell_type": "code",
   "execution_count": null,
   "id": "d38a84ea",
   "metadata": {},
   "outputs": [],
   "source": [
    "'''In the given array every number occurs twice only one number occurs 1 time '''\n",
    "\n",
    "a=list(map(int,input().split()))\n",
    "x=0\n",
    "for i in a:\n",
    "    x=x^i\n",
    "print(x)"
   ]
  },
  {
   "cell_type": "markdown",
   "id": "6d9c45c2",
   "metadata": {},
   "source": [
    "## Swapping the elements with xor"
   ]
  },
  {
   "cell_type": "code",
   "execution_count": null,
   "id": "77eb99da",
   "metadata": {},
   "outputs": [],
   "source": [
    "'''swapping'''\n",
    "a,b=int(input()),int(input())\n",
    "a=a^b\n",
    "b=a^b\n",
    "a=a^b\n",
    "print(\"After swapping\",a,b)"
   ]
  },
  {
   "cell_type": "markdown",
   "id": "eece794d",
   "metadata": {},
   "source": [
    "## Finding whether the given number has set bit or not at given position"
   ]
  },
  {
   "cell_type": "code",
   "execution_count": null,
   "id": "c713c7b0",
   "metadata": {},
   "outputs": [],
   "source": [
    "'''Set bit or not'''\n",
    "n=int(input(\"Enter the number:\"))\n",
    "k=int(input(\"Enter the index number to check whether it is set bit or not:\"))\n",
    "if n&(1<<k): \n",
    "    print(\"yes\")\n",
    "else:\n",
    "    print(\"no\")"
   ]
  },
  {
   "cell_type": "code",
   "execution_count": null,
   "id": "5293793b",
   "metadata": {},
   "outputs": [],
   "source": [
    "\n",
    "'''Set bit or not'''\n",
    "n=int(input(\"Enter the number:\"))\n",
    "k=int(input(\"Enter the index number to check whether it is set bit or not:\"))\n",
    "if 1&(n>>k-1)==0:\n",
    "    print(\"no\")\n",
    "else:\n",
    "    print(\"yes\")"
   ]
  },
  {
   "cell_type": "code",
   "execution_count": null,
   "id": "ac823a50",
   "metadata": {
    "scrolled": true
   },
   "outputs": [],
   "source": [
    "bin(10)"
   ]
  },
  {
   "cell_type": "code",
   "execution_count": null,
   "id": "80e729d7",
   "metadata": {},
   "outputs": [],
   "source": [
    "bin(4)"
   ]
  },
  {
   "cell_type": "markdown",
   "id": "0fc1d073",
   "metadata": {},
   "source": [
    "## Finding the xor of all the Number-O(n)"
   ]
  },
  {
   "cell_type": "code",
   "execution_count": null,
   "id": "cf24199c",
   "metadata": {},
   "outputs": [],
   "source": [
    "'''for given n numbers Find out xor of all n numbers'''\n",
    "n=int(input())\n",
    "x=0\n",
    "for i in range(1,n+1):\n",
    "    x^=i\n",
    "print(x)\n",
    "#O(n)"
   ]
  },
  {
   "cell_type": "markdown",
   "id": "d17d0fd3",
   "metadata": {},
   "source": [
    "## Finding the xor of numbers from 0-n range-O(1)"
   ]
  },
  {
   "cell_type": "code",
   "execution_count": null,
   "id": "0dc5f5e1",
   "metadata": {},
   "outputs": [],
   "source": [
    "n=int(input())\n",
    "x=0\n",
    "if n%4==0:\n",
    "    print(n)\n",
    "elif n%4==1:\n",
    "    print(1)\n",
    "elif n%4==2:\n",
    "    print(n+1)\n",
    "elif n%4==3:\n",
    "    print(0)\n",
    "    \n",
    "#o(1)"
   ]
  },
  {
   "cell_type": "markdown",
   "id": "f4c08a37",
   "metadata": {},
   "source": [
    "## Finding the xor of numbers at given range"
   ]
  },
  {
   "cell_type": "code",
   "execution_count": 13,
   "id": "19abd9e5",
   "metadata": {},
   "outputs": [
    {
     "name": "stdout",
     "output_type": "stream",
     "text": [
      "3\n",
      "7\n",
      "3\n"
     ]
    }
   ],
   "source": [
    "a,b=int(input()),int(input())\n",
    "x=0\n",
    "for i in range(a,b+1):\n",
    "    x^=i\n",
    "print(x)\n",
    "#O(n)"
   ]
  },
  {
   "cell_type": "code",
   "execution_count": null,
   "id": "33114220",
   "metadata": {},
   "outputs": [],
   "source": [
    "a,b=int(input()),int(input())\n",
    "x=range(a,b)\n",
    "print((list(x))"
   ]
  },
  {
   "cell_type": "markdown",
   "id": "cabb852e",
   "metadata": {},
   "source": [
    "## Finding the xor of numbers of given range"
   ]
  },
  {
   "cell_type": "code",
   "execution_count": 15,
   "id": "6b31bb22",
   "metadata": {},
   "outputs": [
    {
     "name": "stdout",
     "output_type": "stream",
     "text": [
      "Enter the Range:3 7\n",
      "3\n"
     ]
    }
   ],
   "source": [
    "def fun(a, b):\n",
    "    def subfun(n):\n",
    "        if n % 4 == 0:\n",
    "            return n\n",
    "        if n % 4 == 1:\n",
    "            return 1\n",
    "        if n % 4 == 2:\n",
    "            return n + 1\n",
    "        return 0\n",
    "\n",
    "    res = subfun(b) ^ subfun(a - 1)\n",
    "    return res\n",
    "\n",
    "a,b=list(map(int,input(\"Enter the Range:\").split()))\n",
    "\n",
    "print(fun(a,b))\n"
   ]
  },
  {
   "cell_type": "code",
   "execution_count": null,
   "id": "b5f30d65",
   "metadata": {},
   "outputs": [],
   "source": [
    "a,b=int(input()),int(input())\n",
    "if a%4==0:\n",
    "    print(a)\n",
    "elif a%4==1:\n",
    "    print(1)\n",
    "elif a%4==2:\n",
    "    print(a+1)\n",
    "elif a%4==3:\n",
    "    print(0)\n"
   ]
  },
  {
   "cell_type": "markdown",
   "id": "835976d0",
   "metadata": {},
   "source": [
    "## Finding whether the given number is even or odd"
   ]
  },
  {
   "cell_type": "code",
   "execution_count": null,
   "id": "5ce05694",
   "metadata": {},
   "outputs": [],
   "source": [
    "n=int(input())\n",
    "if(n&1==0):\n",
    "    print(\"Even\")\n",
    "else:\n",
    "    print(\"Odd\")"
   ]
  },
  {
   "cell_type": "markdown",
   "id": "9c00e496",
   "metadata": {},
   "source": [
    "## Finding the number at given input index"
   ]
  },
  {
   "cell_type": "code",
   "execution_count": null,
   "id": "6161e86d",
   "metadata": {},
   "outputs": [],
   "source": [
    "n=int(input(\"Enter the term:\"))\n",
    "n1=0\n",
    "n2=1\n",
    "if n<0:\n",
    "    print('Not possible')\n",
    "else:\n",
    "    for i in range(0,n-1):\n",
    "        n3=n1+n2\n",
    "        n1=n2\n",
    "        n2=n3\n",
    "    print(n2)"
   ]
  },
  {
   "cell_type": "code",
   "execution_count": null,
   "id": "d3ae78d9",
   "metadata": {},
   "outputs": [],
   "source": []
  }
 ],
 "metadata": {
  "kernelspec": {
   "display_name": "Python 3 (ipykernel)",
   "language": "python",
   "name": "python3"
  },
  "language_info": {
   "codemirror_mode": {
    "name": "ipython",
    "version": 3
   },
   "file_extension": ".py",
   "mimetype": "text/x-python",
   "name": "python",
   "nbconvert_exporter": "python",
   "pygments_lexer": "ipython3",
   "version": "3.11.4"
  }
 },
 "nbformat": 4,
 "nbformat_minor": 5
}
