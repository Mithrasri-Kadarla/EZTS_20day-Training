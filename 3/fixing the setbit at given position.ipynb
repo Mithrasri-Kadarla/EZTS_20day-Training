{
 "cells": [
  {
   "cell_type": "code",
   "execution_count": 1,
   "id": "938686f6",
   "metadata": {},
   "outputs": [
    {
     "name": "stdout",
     "output_type": "stream",
     "text": [
      "7\n"
     ]
    }
   ],
   "source": [
    "def bit(n,pos):\n",
    "    x=1<<pos\n",
    "    res=n^x\n",
    "    return res\n",
    "n=5\n",
    "pos=1\n",
    "print(bit(n,pos))"
   ]
  }
 ],
 "metadata": {
  "kernelspec": {
   "display_name": "Python 3 (ipykernel)",
   "language": "python",
   "name": "python3"
  },
  "language_info": {
   "codemirror_mode": {
    "name": "ipython",
    "version": 3
   },
   "file_extension": ".py",
   "mimetype": "text/x-python",
   "name": "python",
   "nbconvert_exporter": "python",
   "pygments_lexer": "ipython3",
   "version": "3.11.4"
  }
 },
 "nbformat": 4,
 "nbformat_minor": 5
}
