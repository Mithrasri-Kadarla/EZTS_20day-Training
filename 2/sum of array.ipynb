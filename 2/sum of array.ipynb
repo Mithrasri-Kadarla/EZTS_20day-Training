{
 "cells": [
  {
   "cell_type": "code",
   "execution_count": 1,
   "id": "8efec2f2",
   "metadata": {},
   "outputs": [
    {
     "name": "stdout",
     "output_type": "stream",
     "text": [
      "4 1 5\n",
      "10\n"
     ]
    }
   ],
   "source": [
    "def fun(arr):#space complexity is O(n)\n",
    "    s=0\n",
    "    for i in arr:\n",
    "        s+=i\n",
    "    return s\n",
    "l=list(map(int,input().split()))\n",
    "print(fun(l))"
   ]
  },
  {
   "cell_type": "code",
   "execution_count": 3,
   "id": "7d7abe0c",
   "metadata": {},
   "outputs": [
    {
     "name": "stdout",
     "output_type": "stream",
     "text": [
      "4 1 8\n",
      "Enter the element to search:4\n",
      "Element found\n"
     ]
    }
   ],
   "source": [
    "def fun(x,l):\n",
    "    if x in l:\n",
    "        print(\"Element found\")\n",
    "    else:\n",
    "        print(\"No such element\")\n",
    "l=list(map(int,input().split()))\n",
    "x=int(input(\"Enter the element to search:\"))\n",
    "fun(x,l)"
   ]
  },
  {
   "cell_type": "code",
   "execution_count": 8,
   "id": "1b1a9d44",
   "metadata": {},
   "outputs": [
    {
     "name": "stdout",
     "output_type": "stream",
     "text": [
      "1 5 7 9 4\n",
      "Enter the element to search:5\n",
      "Found\n"
     ]
    }
   ],
   "source": [
    "def binary(x,l):\n",
    "    lb=0\n",
    "    ub=len(l)-1\n",
    "    l.sort()\n",
    "    while lb<ub:\n",
    "        mid=(lb+ub)//2\n",
    "        if x>l[mid]:\n",
    "            lb=mid+1\n",
    "        elif x<l[mid]:\n",
    "            ub=mid-1\n",
    "        else:\n",
    "            return \"Found\"\n",
    "    return \"Not Found\"\n",
    "    \n",
    "l=list(map(int,input().split()))\n",
    "x=int(input(\"Enter the element to search:\"))\n",
    "print(binary(x,l))"
   ]
  },
  {
   "cell_type": "code",
   "execution_count": null,
   "id": "f3ea578c",
   "metadata": {},
   "outputs": [],
   "source": []
  }
 ],
 "metadata": {
  "kernelspec": {
   "display_name": "Python 3 (ipykernel)",
   "language": "python",
   "name": "python3"
  },
  "language_info": {
   "codemirror_mode": {
    "name": "ipython",
    "version": 3
   },
   "file_extension": ".py",
   "mimetype": "text/x-python",
   "name": "python",
   "nbconvert_exporter": "python",
   "pygments_lexer": "ipython3",
   "version": "3.11.4"
  }
 },
 "nbformat": 4,
 "nbformat_minor": 5
}
