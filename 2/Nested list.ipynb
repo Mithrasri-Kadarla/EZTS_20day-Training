{
 "cells": [
  {
   "cell_type": "code",
   "execution_count": 1,
   "id": "9464e2f1",
   "metadata": {},
   "outputs": [
    {
     "name": "stdout",
     "output_type": "stream",
     "text": [
      "[[0, 1, 2, 3, 4, 5, 6, 7, 8, 9], [0, 1, 2, 3, 4, 5, 6, 7, 8, 9], [0, 1, 2, 3, 4, 5, 6, 7, 8, 9], [0, 1, 2, 3, 4, 5, 6, 7, 8, 9], [0, 1, 2, 3, 4, 5, 6, 7, 8, 9], [0, 1, 2, 3, 4, 5, 6, 7, 8, 9], [0, 1, 2, 3, 4, 5, 6, 7, 8, 9], [0, 1, 2, 3, 4, 5, 6, 7, 8, 9], [0, 1, 2, 3, 4, 5, 6, 7, 8, 9], [0, 1, 2, 3, 4, 5, 6, 7, 8, 9]]\n"
     ]
    }
   ],
   "source": [
    "def generate_lists_of_list(n):\n",
    "    table_list=[]\n",
    "    for num in range(n):\n",
    "        row=[]\n",
    "        for i in range(n):\n",
    "            row.append(i)\n",
    "        table_list.append(row)\n",
    "    return table_list\n",
    "print(generate_lists_of_list(10))"
   ]
  },
  {
   "cell_type": "code",
   "execution_count": 2,
   "id": "bc907647",
   "metadata": {},
   "outputs": [
    {
     "name": "stdout",
     "output_type": "stream",
     "text": [
      "15\n"
     ]
    }
   ],
   "source": [
    "def add(n):# space complexity is O(N)\n",
    "    if n<=0:\n",
    "        return 0\n",
    "    else:\n",
    "        return n+add(n-1)\n",
    "print(add(5))"
   ]
  },
  {
   "cell_type": "code",
   "execution_count": null,
   "id": "f84e25ae",
   "metadata": {},
   "outputs": [],
   "source": [
    "# O(N) space complexity when reccursion is used\n",
    "#O(1) space complexity without reccursion"
   ]
  },
  {
   "cell_type": "code",
   "execution_count": 4,
   "id": "3e2b1029",
   "metadata": {},
   "outputs": [
    {
     "name": "stdout",
     "output_type": "stream",
     "text": [
      "6\n"
     ]
    }
   ],
   "source": [
    "def fact(n):# space complexity is O(N)\n",
    "    if n==1:\n",
    "        return 1\n",
    "    else:\n",
    "        return n*fact(n-1)\n",
    "print(fact(3))"
   ]
  },
  {
   "cell_type": "code",
   "execution_count": 15,
   "id": "2989caae",
   "metadata": {},
   "outputs": [
    {
     "name": "stdout",
     "output_type": "stream",
     "text": [
      "10\n",
      "0\n",
      "1\n",
      "1\n",
      "2\n",
      "3\n",
      "5\n",
      "8\n",
      "13\n",
      "21\n",
      "34\n"
     ]
    }
   ],
   "source": [
    "def fib(n):# space complexity is O(N)\n",
    "    if n<=1:\n",
    "        return n\n",
    "    if n==2:\n",
    "        return 1\n",
    "    else:\n",
    "        return fib(n-1)+fib(n-2)\n",
    "n=int(input())\n",
    "for i in range(n):\n",
    "    print(fib(i))"
   ]
  },
  {
   "cell_type": "code",
   "execution_count": null,
   "id": "ef106af3",
   "metadata": {},
   "outputs": [],
   "source": []
  }
 ],
 "metadata": {
  "kernelspec": {
   "display_name": "Python 3 (ipykernel)",
   "language": "python",
   "name": "python3"
  },
  "language_info": {
   "codemirror_mode": {
    "name": "ipython",
    "version": 3
   },
   "file_extension": ".py",
   "mimetype": "text/x-python",
   "name": "python",
   "nbconvert_exporter": "python",
   "pygments_lexer": "ipython3",
   "version": "3.11.4"
  }
 },
 "nbformat": 4,
 "nbformat_minor": 5
}
