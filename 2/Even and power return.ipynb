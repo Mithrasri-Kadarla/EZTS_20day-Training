{
 "cells": [
  {
   "cell_type": "code",
   "execution_count": 7,
   "id": "2fb22b57",
   "metadata": {},
   "outputs": [
    {
     "name": "stdout",
     "output_type": "stream",
     "text": [
      "10\n",
      "40\n",
      "Enter array size:8\n",
      "Enter Array elements:\n",
      "10\n",
      "11\n",
      "15\n",
      "16\n",
      "17\n",
      "20\n",
      "32\n",
      "39\n",
      "[10, 16, 20, 32]\n",
      "[16, 32]\n"
     ]
    }
   ],
   "source": [
    "'''create 1d array it should contain the numbers 10-30 .Extract and print even numbers and 2 power values'''\n",
    "\n",
    "l,u=int(input()),int(input())\n",
    "size=int(input(\"Enter array size:\"))\n",
    "print(\"Enter Array elements:\")\n",
    "ele=[]\n",
    "for i in range(size):\n",
    "    e=int(input())\n",
    "    if l<=e<=u:\n",
    "        ele.append(e)\n",
    "    else:\n",
    "        print(\"Enter between\",l,\"and\",u)\n",
    "e=[]\n",
    "res=[]\n",
    "for i in ele:\n",
    "    if i%2==0:\n",
    "        e.append(i)\n",
    "    if i&(i-1) ==0:\n",
    "        res.append(i)\n",
    "    else:\n",
    "        continue\n",
    "print(e)\n",
    "print(res)"
   ]
  },
  {
   "cell_type": "code",
   "execution_count": null,
   "id": "0e7be2de",
   "metadata": {},
   "outputs": [],
   "source": []
  }
 ],
 "metadata": {
  "kernelspec": {
   "display_name": "Python 3 (ipykernel)",
   "language": "python",
   "name": "python3"
  },
  "language_info": {
   "codemirror_mode": {
    "name": "ipython",
    "version": 3
   },
   "file_extension": ".py",
   "mimetype": "text/x-python",
   "name": "python",
   "nbconvert_exporter": "python",
   "pygments_lexer": "ipython3",
   "version": "3.11.4"
  }
 },
 "nbformat": 4,
 "nbformat_minor": 5
}
