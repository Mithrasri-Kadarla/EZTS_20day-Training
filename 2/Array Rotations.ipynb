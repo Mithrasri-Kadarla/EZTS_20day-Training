{
 "cells": [
  {
   "cell_type": "code",
   "execution_count": null,
   "id": "e632f71d",
   "metadata": {},
   "outputs": [],
   "source": [
    "'''Implement a 2d array and take to the matrix 90 deg'''\n",
    "def fun(x,a):\n",
    "    for i in range(int(x/2)):\n",
    "        for j in range(i,x-i-1):\n",
    "            temp=a[i][j]\n",
    "            a[i][j]=a[x-j-1][i]\n",
    "            a[x-j-1][i]=a[x-i-1][x-j-1]\n",
    "            a[x-i-1][x-j-1]=a[j][x-i-1]\n",
    "            a[j][x-i-1]=temp\n",
    "    return a\n",
    "            \n",
    "x=int(input())\n",
    "a=[]\n",
    "for i in range(x):\n",
    "    c=list(map(int,input().split()))\n",
    "    a.append(c)\n",
    "r=fun(x,a)\n",
    "print(\"After Rotation:\")\n",
    "for i in r:\n",
    "    print(\" \".join(map(str,i)))"
   ]
  },
  {
   "cell_type": "code",
   "execution_count": null,
   "id": "a105a76c",
   "metadata": {},
   "outputs": [],
   "source": [
    "r=int(input(\"Enter no of the rows:\"))\n",
    "c=int(input(\"Enter no of the columns:\"))\n",
    "matrix=[]\n",
    "for i in range(r):\n",
    "    a=[]\n",
    "    for i in range(c):\n",
    "        x=int(input(\"Enter the item:\"))\n",
    "        a.append(x)\n",
    "    matrix.append(a)\n",
    "print(\"The Matrix is:\")\n",
    "for i in range(r):\n",
    "    for j in range(c):\n",
    "        print(matrix[i][j],end=\" \")\n",
    "    print()\n",
    "print(\"The Clock wise Rotated Matrix is:\")\n",
    "for i in range(r):\n",
    "    for j in range(c-1,-1,-1):\n",
    "        print(matrix[j][i],end=\" \")\n",
    "    print()\n",
    "print(\"The AntiClock wise Rotated Matrix is:\")\n",
    "for i in range(r-1,-1,-1):\n",
    "    for j in range(c):\n",
    "        print(matrix[j][i],end=\" \")\n",
    "    print()"
   ]
  },
  {
   "cell_type": "code",
   "execution_count": null,
   "id": "51421b2a",
   "metadata": {},
   "outputs": [],
   "source": []
  }
 ],
 "metadata": {
  "kernelspec": {
   "display_name": "Python 3 (ipykernel)",
   "language": "python",
   "name": "python3"
  },
  "language_info": {
   "codemirror_mode": {
    "name": "ipython",
    "version": 3
   },
   "file_extension": ".py",
   "mimetype": "text/x-python",
   "name": "python",
   "nbconvert_exporter": "python",
   "pygments_lexer": "ipython3",
   "version": "3.11.4"
  }
 },
 "nbformat": 4,
 "nbformat_minor": 5
}
