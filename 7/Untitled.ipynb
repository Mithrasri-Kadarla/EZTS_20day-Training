{
 "cells": [
  {
   "cell_type": "code",
   "execution_count": 8,
   "id": "18fc0cfa-9918-4cd8-a3e9-8f25f771c94c",
   "metadata": {},
   "outputs": [
    {
     "name": "stdin",
     "output_type": "stream",
     "text": [
      "Enter number of rows: 3\n"
     ]
    },
    {
     "name": "stdout",
     "output_type": "stream",
     "text": [
      "No solution exists\n"
     ]
    }
   ],
   "source": [
    "def is_safe(board, row, col, n):\n",
    "    for i in range(row):\n",
    "        if board[i][col] == 1:\n",
    "            return False\n",
    "\n",
    "    for i, j in zip(range(row, -1, -1), range(col, -1, -1)):\n",
    "        if board[i][j] == 1:\n",
    "            return False\n",
    "\n",
    "    for i, j in zip(range(row, -1, -1), range(col, n)):\n",
    "        if board[i][j] == 1:\n",
    "            return False\n",
    "    \n",
    "    return True\n",
    "\n",
    "def solve_n_queens_util(board, row, n):\n",
    "    if row == n:\n",
    "        return True\n",
    "\n",
    "    for col in range(n):\n",
    "        if is_safe(board, row, col, n):\n",
    "            board[row][col] = 1\n",
    "\n",
    "            if solve_n_queens_util(board, row + 1, n):\n",
    "                return True\n",
    "\n",
    "            board[row][col] = 0\n",
    "\n",
    "    return False\n",
    "\n",
    "def solve_n_queens(n):\n",
    "    board = [[0 for _ in range(n)] for _ in range(n)]\n",
    "\n",
    "    if not solve_n_queens_util(board, 0, n):\n",
    "        print(\"No solution exists\")\n",
    "        return\n",
    "\n",
    "    for row in board:\n",
    "        print(\" \".join([\"Q\" if x == 1 else \".\" for x in row]))\n",
    "\n",
    "n=int(input(\"Enter number of rows:\"))\n",
    "solve_n_queens(n)\n"
   ]
  },
  {
   "cell_type": "code",
   "execution_count": 9,
   "id": "8583a5ee-b97d-4c89-8337-1678110d510b",
   "metadata": {},
   "outputs": [
    {
     "name": "stdout",
     "output_type": "stream",
     "text": [
      "(6, 8, 26)\n",
      "(9, 5, 26)\n",
      "(6, 5, 3, 26)\n",
      "(8, 4, 26, 2)\n",
      "(9, 3, 26, 2)\n",
      "(5, 4, 3, 26, 2)\n"
     ]
    }
   ],
   "source": [
    "from itertools import combinations\n",
    "x=[6,8,9,5,4,3,26,2]\n",
    "target= 40\n",
    "\n",
    "ans=[comb for i in range(1,len(x)+1) for comb in combinations(x,i) if sum(comb)==target]\n",
    "\n",
    "if ans:\n",
    "    for j in ans:\n",
    "        print(j)\n",
    "else:\n",
    "    print(\"No combinations found.\")"
   ]
  },
  {
   "cell_type": "code",
   "execution_count": 10,
   "id": "4fb6d1aa-c09d-4602-9e92-35b053703f5a",
   "metadata": {},
   "outputs": [
    {
     "name": "stdout",
     "output_type": "stream",
     "text": [
      "(6, 8, 26)\n",
      "(9, 5, 26)\n",
      "(6, 5, 3, 26)\n",
      "(8, 4, 26, 2)\n",
      "(9, 3, 26, 2)\n",
      "(5, 4, 3, 26, 2)\n"
     ]
    }
   ],
   "source": [
    "arr=[6,8,9,5,4,3,26,2]\n",
    "target=40\n",
    "ans=[s for i in range(1,len(arr)+1) for s in combinations(arr,i) if sum(s)==target]\n",
    "if ans:\n",
    "    for j in ans:\n",
    "        print(j)\n",
    "else:\n",
    "    print(\"no such sum\")"
   ]
  },
  {
   "cell_type": "code",
   "execution_count": 3,
   "id": "4f178c69-a08b-47d8-bbfe-4212c49c4e0e",
   "metadata": {},
   "outputs": [
    {
     "name": "stdout",
     "output_type": "stream",
     "text": [
      "[5, 4, 3, 26, 2]\n"
     ]
    }
   ],
   "source": [
    "arr = [6, 8, 9, 5, 4, 3, 26, 2]\n",
    "target = 40\n",
    "s = 0\n",
    "result = []\n",
    "\n",
    "for i in range(len(arr)):\n",
    "    s += arr[i]\n",
    "    result.append(arr[i])\n",
    "    \n",
    "    while s > target and result:\n",
    "        s -= result[0]\n",
    "        result = result[1:]\n",
    "    \n",
    "    if s == target:\n",
    "        print(result)\n",
    "\n",
    "    if s >= target:\n",
    "        s -= result[0]\n",
    "        result = result[1:]\n"
   ]
  },
  {
   "cell_type": "code",
   "execution_count": null,
   "id": "1c1f304a-560c-4e43-b4e0-8c3c71a38a08",
   "metadata": {},
   "outputs": [],
   "source": []
  }
 ],
 "metadata": {
  "kernelspec": {
   "display_name": "Python 3 (ipykernel)",
   "language": "python",
   "name": "python3"
  },
  "language_info": {
   "codemirror_mode": {
    "name": "ipython",
    "version": 3
   },
   "file_extension": ".py",
   "mimetype": "text/x-python",
   "name": "python",
   "nbconvert_exporter": "python",
   "pygments_lexer": "ipython3",
   "version": "3.11.4"
  }
 },
 "nbformat": 4,
 "nbformat_minor": 5
}
