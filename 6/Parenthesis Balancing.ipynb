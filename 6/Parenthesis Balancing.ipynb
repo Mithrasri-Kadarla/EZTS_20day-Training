{
 "cells": [
  {
   "cell_type": "code",
   "execution_count": 18,
   "id": "3484c8bc-e6aa-441f-a67d-dc821ed10a92",
   "metadata": {},
   "outputs": [
    {
     "name": "stdin",
     "output_type": "stream",
     "text": [
      " []{}()\n"
     ]
    },
    {
     "name": "stdout",
     "output_type": "stream",
     "text": [
      "Valid\n"
     ]
    }
   ],
   "source": [
    "b = input()\n",
    "if len(b) % 2 == 0:\n",
    "    n = len(b) - 1\n",
    "    if b[0] == ']' or b[0] == '}' or b[0] == ')':\n",
    "        print(\"Invalid Parenthesis\")\n",
    "    elif b[n] == '[' or b[n] == '{' or b[n] == '(':\n",
    "        print(\"Invalid Parenthesis\")\n",
    "    else:\n",
    "        ob = []\n",
    "        cb = []\n",
    "        for i in b:\n",
    "            if i == '{' or i == '[' or i == '(':\n",
    "                ob.append(i)\n",
    "            else:\n",
    "                cb.append(i)\n",
    "        if len(ob) == len(cb):\n",
    "            s = []\n",
    "            for i in b:\n",
    "                if i == '[' or i == '{' or i == '(':\n",
    "                    s.append(i)\n",
    "                elif i == ']' or i == '}' or i == ')':\n",
    "                    if len(s) == 0:\n",
    "                        print(\"Invalid Parenthesis\")\n",
    "                        break\n",
    "                    if (i == ']' and s[-1] == '[') or (i == '}' and s[-1] == '{') or (i == ')' and s[-1] == '('):\n",
    "                        s.pop()\n",
    "                    else:\n",
    "                        print(\"Invalid Parenthesis\")\n",
    "                        break\n",
    "            else:\n",
    "                if len(s) == 0:\n",
    "                    print(\"Valid\")\n",
    "                else:\n",
    "                    print(\"Invalid Parenthesis\")\n",
    "        else:\n",
    "            print(\"Invalid Parenthesis\")\n",
    "else:\n",
    "    print(\"Invalid Parenthesis\")\n"
   ]
  },
  {
   "cell_type": "code",
   "execution_count": null,
   "id": "38ab12bc-ccdb-4bc2-8685-f7b205523e4b",
   "metadata": {},
   "outputs": [],
   "source": [
    "def fun(b):\n",
    "    n=len(b)-1\n",
    "    if len(b)%2==0:\n",
    "        if b[n]=='(' or b[n]=='[' or b[0]=='{':\n",
    "            return False\n",
    "        if b[n]==']' or b[n]==''\n",
    "    else:\n",
    "        return False\n",
    "b=int(input())\n"
   ]
  },
  {
   "cell_type": "code",
   "execution_count": 19,
   "id": "ad0e00d1-a498-40eb-a362-e963dd57eb4d",
   "metadata": {},
   "outputs": [
    {
     "name": "stdin",
     "output_type": "stream",
     "text": [
      " 2\n"
     ]
    },
    {
     "name": "stdout",
     "output_type": "stream",
     "text": [
      "(())\n",
      "()()\n"
     ]
    }
   ],
   "source": [
    "### generate parenthesis\n",
    "def paren(res,n,open,close,str):\n",
    "    if open==close and close==n:\n",
    "        res.append(str)\n",
    "        return\n",
    "    if open>n:\n",
    "        paren(res,n,open-1,close,str+'(')\n",
    "    if close>open:\n",
    "        paren(res,n,open,close-1,str+')')\n",
    "def gen_par(n):\n",
    "    res=[]\n",
    "    paren(res,0,n,n,\"\")\n",
    "    return res\n",
    "n=int(input())\n",
    "x=gen_par(n)\n",
    "for i in x:\n",
    "    print(i)"
   ]
  },
  {
   "cell_type": "code",
   "execution_count": 10,
   "id": "274a466a",
   "metadata": {},
   "outputs": [
    {
     "name": "stdout",
     "output_type": "stream",
     "text": [
      "Partial:  Left: 3 right: 3\n",
      "Partial: ( Left: 2 right: 3\n",
      "Partial: (( Left: 1 right: 3\n",
      "Partial: ((( Left: 0 right: 3\n",
      "Partial: ((() Left: 0 right: 2\n",
      "Partial: ((()) Left: 0 right: 1\n",
      "Partial: ((())) Left: 0 right: 0\n",
      "Partial: (() Left: 1 right: 2\n",
      "Partial: (()( Left: 0 right: 2\n",
      "Partial: (()() Left: 0 right: 1\n",
      "Partial: (()()) Left: 0 right: 0\n",
      "Partial: (()) Left: 1 right: 1\n",
      "Partial: (())( Left: 0 right: 1\n",
      "Partial: (())() Left: 0 right: 0\n",
      "Partial: () Left: 2 right: 2\n",
      "Partial: ()( Left: 1 right: 2\n",
      "Partial: ()(( Left: 0 right: 2\n",
      "Partial: ()(() Left: 0 right: 1\n",
      "Partial: ()(()) Left: 0 right: 0\n",
      "Partial: ()() Left: 1 right: 1\n",
      "Partial: ()()( Left: 0 right: 1\n",
      "Partial: ()()() Left: 0 right: 0\n",
      "['((()))', '(()())', '(())()', '()(())', '()()()']\n"
     ]
    }
   ],
   "source": [
    "def fun(n):\n",
    "    def fun2(partial,left,right,res=[]):\n",
    "        print(\"Partial:\",partial,\"Left:\",left,'right:',right)\n",
    "        if left>0:\n",
    "            fun2(partial+'(',left-1,right)\n",
    "        if right>left:\n",
    "            fun2(partial+')',left,right-1)\n",
    "        if left==0 and right==0:\n",
    "            res.append(partial)\n",
    "        return res\n",
    "    return fun2('',n,n)\n",
    "n=3\n",
    "res=fun(n)\n",
    "print(res)"
   ]
  },
  {
   "cell_type": "code",
   "execution_count": null,
   "id": "355491a8-b4ff-4eff-b18f-6376ce43c2bc",
   "metadata": {},
   "outputs": [],
   "source": []
  }
 ],
 "metadata": {
  "kernelspec": {
   "display_name": "Python 3 (ipykernel)",
   "language": "python",
   "name": "python3"
  },
  "language_info": {
   "codemirror_mode": {
    "name": "ipython",
    "version": 3
   },
   "file_extension": ".py",
   "mimetype": "text/x-python",
   "name": "python",
   "nbconvert_exporter": "python",
   "pygments_lexer": "ipython3",
   "version": "3.11.4"
  }
 },
 "nbformat": 4,
 "nbformat_minor": 5
}
