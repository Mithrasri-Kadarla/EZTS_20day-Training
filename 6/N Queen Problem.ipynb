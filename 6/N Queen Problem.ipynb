{
 "cells": [
  {
   "cell_type": "code",
   "execution_count": 9,
   "id": "e8f223d8-1acf-4fa8-89ed-7796f1ea5d25",
   "metadata": {},
   "outputs": [
    {
     "name": "stdin",
     "output_type": "stream",
     "text": [
      "Enter number of rows: 4\n"
     ]
    },
    {
     "name": "stdout",
     "output_type": "stream",
     "text": [
      ". Q . .\n",
      ". . . Q\n",
      "Q . . .\n",
      ". . Q .\n"
     ]
    }
   ],
   "source": [
    "def is_safe(board, row, col, n):\n",
    "    for i in range(row):\n",
    "        if board[i][col] == 1:\n",
    "            return False\n",
    "\n",
    "    for i, j in zip(range(row, -1, -1), range(col, -1, -1)):\n",
    "        if board[i][j] == 1:\n",
    "            return False\n",
    "\n",
    "    for i, j in zip(range(row, -1, -1), range(col, n)):\n",
    "        if board[i][j] == 1:\n",
    "            return False\n",
    "    \n",
    "    return True\n",
    "\n",
    "def solve_n_queens_util(board, row, n):\n",
    "    if row == n:\n",
    "        return True\n",
    "\n",
    "    for col in range(n):\n",
    "        if is_safe(board, row, col, n):\n",
    "            board[row][col] = 1\n",
    "\n",
    "            if solve_n_queens_util(board, row + 1, n):\n",
    "                return True\n",
    "\n",
    "            board[row][col] = 0\n",
    "\n",
    "    return False\n",
    "\n",
    "def solve_n_queens(n):\n",
    "    board = [[0 for _ in range(n)] for _ in range(n)]\n",
    "\n",
    "    if not solve_n_queens_util(board, 0, n):\n",
    "        print(\"No solution exists\")\n",
    "        return\n",
    "\n",
    "    for row in board:\n",
    "        print(\" \".join([\"Q\" if x == 1 else \".\" for x in row]))\n",
    "\n",
    "n=int(input(\"Enter number of rows:\"))\n",
    "solve_n_queens(n)\n"
   ]
  },
  {
   "cell_type": "code",
   "execution_count": null,
   "id": "1adbc36a-d8f8-481c-8ba3-b9d8bc9b11fd",
   "metadata": {},
   "outputs": [],
   "source": []
  }
 ],
 "metadata": {
  "kernelspec": {
   "display_name": "Python 3 (ipykernel)",
   "language": "python",
   "name": "python3"
  },
  "language_info": {
   "codemirror_mode": {
    "name": "ipython",
    "version": 3
   },
   "file_extension": ".py",
   "mimetype": "text/x-python",
   "name": "python",
   "nbconvert_exporter": "python",
   "pygments_lexer": "ipython3",
   "version": "3.11.4"
  }
 },
 "nbformat": 4,
 "nbformat_minor": 5
}
