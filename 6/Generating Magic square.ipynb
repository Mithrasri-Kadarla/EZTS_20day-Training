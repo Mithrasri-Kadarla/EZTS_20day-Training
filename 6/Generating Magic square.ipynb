{
 "cells": [
  {
   "cell_type": "code",
   "execution_count": 3,
   "id": "93782023-d83a-489f-83c1-84fd10e59170",
   "metadata": {},
   "outputs": [
    {
     "name": "stdin",
     "output_type": "stream",
     "text": [
      "Enter the number  of rows: 3\n"
     ]
    },
    {
     "name": "stdout",
     "output_type": "stream",
     "text": [
      "[[0, 0, 0], [0, 0, 0], [0, 0, 0]]\n",
      "A 3x3 Magic Square:\n",
      "2\t7\t6\t\n",
      "9\t5\t1\t\n",
      "4\t3\t8\t\n",
      "Original Matrix:\n",
      "[2, 7, 6]\n",
      "[9, 5, 1]\n",
      "[4, 3, 8]\n",
      "\n",
      "Mirror Image:\n",
      "[6, 7, 2]\n",
      "[1, 5, 9]\n",
      "[8, 3, 4]\n",
      "\n",
      "Water Image:\n",
      "[4, 3, 8]\n",
      "[9, 5, 1]\n",
      "[2, 7, 6]\n"
     ]
    }
   ],
   "source": [
    "def generate_magic_square(n):\n",
    "    magic_square = [[0] * n for _ in range(n)]\n",
    "    print(magic_square)\n",
    "    num = 1\n",
    "    i, j = n // 2, n - 1\n",
    "    while num <= (n * n):\n",
    "        if i == -1 and j == n:\n",
    "            j = n - 2\n",
    "            i = 0\n",
    "        else:\n",
    "            if j == n:\n",
    "                j = 0\n",
    "            if i < 0:\n",
    "                i = n - 1\n",
    "        \n",
    "        if magic_square[i][j] != 0:\n",
    "            j -= 2\n",
    "            i += 1\n",
    "            continue\n",
    "        else:\n",
    "            magic_square[i][j] = num\n",
    "            num += 1\n",
    "        \n",
    "        j += 1#Col is incrementing\n",
    "        i -= 1#row is decrementing\n",
    "\n",
    "    return magic_square\n",
    "\n",
    "def print_magic_square(square):\n",
    "    for i in range(len(square)):\n",
    "        for j in range(len(square[0])):\n",
    "            print(square[i][j], end=\"\\t\")\n",
    "        print()\n",
    "\n",
    "n=int(input(\"Enter the number  of rows:\"))\n",
    "magic_square = generate_magic_square(n)\n",
    "print(f\"A {n}x{n} Magic Square:\")\n",
    "print_magic_square(magic_square)\n",
    "def generate_mirror_image(matrix):\n",
    "    mirror_image = [row[::-1] for row in matrix]\n",
    "    return mirror_image\n",
    "\n",
    "def generate_water_image(matrix):\n",
    "    water_image = matrix[::-1]\n",
    "    return water_image\n",
    "\n",
    "mirror_image = generate_mirror_image(magic_square)\n",
    "water_image = generate_water_image(magic_square)\n",
    "\n",
    "print(\"Original Matrix:\")\n",
    "for row in magic_square:\n",
    "    print(row)\n",
    "\n",
    "print(\"\\nMirror Image:\")\n",
    "for row in mirror_image:\n",
    "    print(row)\n",
    "\n",
    "print(\"\\nWater Image:\")\n",
    "for row in water_image:\n",
    "    print(row)\n"
   ]
  },
  {
   "cell_type": "code",
   "execution_count": 2,
   "id": "eb35cc30-5e90-4959-83db-90cec7018118",
   "metadata": {},
   "outputs": [
    {
     "name": "stdout",
     "output_type": "stream",
     "text": [
      "[[0, 0, 0], [0, 0, 0], [0, 0, 0]]\n"
     ]
    }
   ],
   "source": [
    "n=3\n",
    "magic_square = [[0] * n for _ in range(n)]\n",
    "print(magic_square)"
   ]
  },
  {
   "cell_type": "code",
   "execution_count": null,
   "id": "8afc0bdf-6b38-4a59-bdef-531e7c45b12c",
   "metadata": {},
   "outputs": [],
   "source": []
  },
  {
   "cell_type": "code",
   "execution_count": 2,
   "id": "a7ec1144",
   "metadata": {},
   "outputs": [
    {
     "name": "stdout",
     "output_type": "stream",
     "text": [
      "[[0, 0, 0], [0, 0, 0], [0, 0, 0]]\n"
     ]
    }
   ],
   "source": [
    "n=3\n",
    "magic_square = [[0] * n for _ in range(n)]\n",
    "print(magic_square)"
   ]
  },
  {
   "cell_type": "code",
   "execution_count": null,
   "id": "0f50e070",
   "metadata": {},
   "outputs": [],
   "source": []
  }
 ],
 "metadata": {
  "kernelspec": {
   "display_name": "Python 3 (ipykernel)",
   "language": "python",
   "name": "python3"
  },
  "language_info": {
   "codemirror_mode": {
    "name": "ipython",
    "version": 3
   },
   "file_extension": ".py",
   "mimetype": "text/x-python",
   "name": "python",
   "nbconvert_exporter": "python",
   "pygments_lexer": "ipython3",
   "version": "3.11.4"
  }
 },
 "nbformat": 4,
 "nbformat_minor": 5
}
