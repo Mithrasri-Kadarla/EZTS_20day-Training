{
 "cells": [
  {
   "cell_type": "code",
   "execution_count": 30,
   "id": "f27fffd4-40c9-4bd5-88a9-57d346b5d938",
   "metadata": {},
   "outputs": [
    {
     "name": "stdout",
     "output_type": "stream",
     "text": [
      "* * * * * * * * * * * \n",
      "* * * *       * * * * \n",
      "* * *           * * * \n",
      "* *               * * \n",
      "*                   * \n",
      "                      \n"
     ]
    }
   ],
   "source": [
    "def pyramid(n):\n",
    "    row=n\n",
    "    col=2*n-1\n",
    "    start,end=n-1,n-1\n",
    "    for i in range(row):\n",
    "        for j in range(col):\n",
    "            if i==0 and j==n-1:\n",
    "                print(\"*\",end=\" \")\n",
    "            elif j>=start and j<=end:\n",
    "                print(\" \",end=\" \")\n",
    "            else:\n",
    "                print(\"*\",end=\" \")\n",
    "        print()\n",
    "        start-=1\n",
    "        end+=1\n",
    "pyramid(6)"
   ]
  },
  {
   "cell_type": "code",
   "execution_count": 26,
   "id": "681b39ce-d7f7-409a-acdc-72bafceb10ed",
   "metadata": {},
   "outputs": [
    {
     "name": "stdout",
     "output_type": "stream",
     "text": [
      "          *           \n",
      "        * * *         \n",
      "      * * * * *       \n",
      "    * * * * * * *     \n",
      "  * * * * * * * * *   \n",
      "* * * * * * * * * * * \n"
     ]
    }
   ],
   "source": [
    "def pyramid(n):\n",
    "    row=n\n",
    "    col=2*n-1\n",
    "    start,end=n-1,n-1\n",
    "    for i in range(row):\n",
    "        for j in range(col):\n",
    "            if j>=start and j<=end:\n",
    "                print(\"*\",end=\" \")\n",
    "            else:\n",
    "                print(\" \",end=\" \")\n",
    "        print()\n",
    "        start-=1\n",
    "        end+=1\n",
    "pyramid(6)"
   ]
  },
  {
   "cell_type": "code",
   "execution_count": 55,
   "id": "80438046-b0f4-4f58-be84-2bd484b9e631",
   "metadata": {},
   "outputs": [
    {
     "name": "stdin",
     "output_type": "stream",
     "text": [
      " 7\n"
     ]
    },
    {
     "name": "stdout",
     "output_type": "stream",
     "text": [
      " ***** \n",
      "*     *\n",
      "*     *\n",
      "*     *\n",
      "*     *\n",
      "*     *\n",
      " ***** \n"
     ]
    }
   ],
   "source": [
    "n=int(input())\n",
    "for i in range(n):\n",
    "    for j in range(n):\n",
    "        if i==j or i+j==n-1 :\n",
    "            print(end=\" \")\n",
    "        elif i==0 or i==n-1 or j==0 or j==n-1:\n",
    "            print(\"*\",end=\"\")\n",
    "        else:\n",
    "            print(\" \",end=\"\")\n",
    "    print()"
   ]
  },
  {
   "cell_type": "code",
   "execution_count": 53,
   "id": "159fc003-7709-4af7-ae29-c81b0a5075dd",
   "metadata": {},
   "outputs": [
    {
     "name": "stdout",
     "output_type": "stream",
     "text": [
      " ****\n",
      "*   *\n",
      "*   *\n",
      "     \n",
      "**** \n"
     ]
    }
   ],
   "source": [
    "def circle(n):\n",
    "    row=n\n",
    "    col=n\n",
    "    for i in range(n):\n",
    "        for j in range(n):\n",
    "            if i==j or i+1==n-1:\n",
    "                print(end=' ')\n",
    "            elif i==0 or i==n-1 or j==0 or j==n-1:\n",
    "                print(\"*\",end='')\n",
    "            else:\n",
    "                print(\" \",end='')\n",
    "            \n",
    "        print()\n",
    "    \n",
    "circle(5)"
   ]
  },
  {
   "cell_type": "code",
   "execution_count": 60,
   "id": "cbd4d27b-d812-4205-b16e-91c305a5333c",
   "metadata": {},
   "outputs": [
    {
     "name": "stdout",
     "output_type": "stream",
     "text": [
      "* \n",
      "* * \n",
      "* * * \n",
      "* * * * \n",
      "* * * * * \n",
      "* * * * * * \n",
      "* * * * * * * \n"
     ]
    }
   ],
   "source": [
    "\n",
    "for i in range(n):\n",
    "    for j in range(i+1):\n",
    "        print(\"*\",end=\" \")\n",
    "    print()"
   ]
  },
  {
   "cell_type": "code",
   "execution_count": 96,
   "id": "bcf6a891-b91e-47ba-abba-555a05b1c1e9",
   "metadata": {},
   "outputs": [
    {
     "name": "stdout",
     "output_type": "stream",
     "text": [
      "a \n",
      "b c \n",
      "d e f \n",
      "g h i j \n",
      "k l m n o \n",
      "p q r s t u \n",
      "v w x y z a b \n",
      "c d e f g h i j \n",
      "k l m n o p q r s \n",
      "t u v w x y z a b c \n"
     ]
    }
   ],
   "source": [
    "n=10\n",
    "char='a'\n",
    "for i in range(1,n+1):\n",
    "    for j in range(i):\n",
    "        print(char,end=\" \")\n",
    "        char=chr(ord(char)+1)\n",
    "        if char>'z':\n",
    "            char='a'\n",
    "    print()"
   ]
  },
  {
   "cell_type": "code",
   "execution_count": 82,
   "id": "e35c1694-f665-430c-b08c-460ce2e35479",
   "metadata": {},
   "outputs": [
    {
     "name": "stdout",
     "output_type": "stream",
     "text": [
      "          *             \n",
      "        * * *           \n",
      "      * * * * *         \n",
      "    * * * * * * *       \n",
      "  * * * * * * * * *     \n",
      "* * * * * * * * * * *   \n"
     ]
    }
   ],
   "source": [
    "def pyramid(n):\n",
    "    row=n\n",
    "    col=2*n\n",
    "    start,end=n-1,n-1\n",
    "    for i in range(row):\n",
    "        for j in range(col):\n",
    "            if j>=start and j<=end:\n",
    "                print(\"*\",end=\" \")\n",
    "            else:\n",
    "                print(\" \",end=\" \")\n",
    "        print()\n",
    "        start-=1\n",
    "        end+=1\n",
    "pyramid(6)"
   ]
  },
  {
   "cell_type": "code",
   "execution_count": 88,
   "id": "d60b6d70-b02c-472e-8318-469ec9108216",
   "metadata": {},
   "outputs": [
    {
     "name": "stdout",
     "output_type": "stream",
     "text": [
      "          1             \n",
      "        2 2 2           \n",
      "      3 3 3 3 3         \n",
      "    4 4 4 4 4 4 4       \n",
      "  5 5 5 5 5 5 5 5 5     \n",
      "6 6 6 6 6 6 6 6 6 6 6   \n"
     ]
    }
   ],
   "source": [
    "def pyramid(n):\n",
    "    row=n+1\n",
    "    col=2*n\n",
    "    start,end=n-1,n-1\n",
    "    for i in range(1,row):\n",
    "        for j in range(0,col):\n",
    "            if j>=start and j<=end:\n",
    "                print(i,end=\" \")\n",
    "            else:\n",
    "                print(\" \",end=\" \")\n",
    "        print()\n",
    "        start-=1\n",
    "        end+=1\n",
    "pyramid(6)"
   ]
  },
  {
   "cell_type": "code",
   "execution_count": 95,
   "id": "8801c052-13c7-4499-8477-1ff384db276a",
   "metadata": {},
   "outputs": [
    {
     "ename": "SyntaxError",
     "evalue": "invalid syntax. Perhaps you forgot a comma? (3135639110.py, line 16)",
     "output_type": "error",
     "traceback": [
      "\u001b[1;36m  Cell \u001b[1;32mIn[95], line 16\u001b[1;36m\u001b[0m\n\u001b[1;33m    elif i==n-1 and (j<start anf j<-n-1):\u001b[0m\n\u001b[1;37m                     ^\u001b[0m\n\u001b[1;31mSyntaxError\u001b[0m\u001b[1;31m:\u001b[0m invalid syntax. Perhaps you forgot a comma?\n"
     ]
    }
   ],
   "source": [
    "def Hollow_pyramid(n):\n",
    "    row=n+1\n",
    "    col=2*n-1\n",
    "    start,end=n-1,n-1\n",
    "    var=2\n",
    "    for i in range(row):\n",
    "        for j in range(col):\n",
    "            if (j==start or j==end) and i!=n-1:\n",
    "                if start==end:\n",
    "                    print(\"1\",end=' ')\n",
    "                else:\n",
    "                    if j==start:\n",
    "                        print(\"1\")\n",
    "                    elif j==end:\n",
    "                        print(var,end=' ')\n",
    "            elif i==n-1 and (j<start anf j<-n-1):\n",
    "                print(var2,end=' ')\n",
    "                for k in range(col):\n",
    "                    print(str(var)+\" \",end=' ')\n",
    "                    \n",
    "                    var+=1\n",
    "                \n",
    "        print()\n",
    "        start-=1\n",
    "        end+=1\n",
    "Hollow_pyramid(9)"
   ]
  },
  {
   "cell_type": "code",
   "execution_count": 93,
   "id": "c7b2e041-272c-411f-aa24-df5f42d787c9",
   "metadata": {},
   "outputs": [
    {
     "name": "stdout",
     "output_type": "stream",
     "text": [
      "                1                 \n",
      "              1   1               \n",
      "            1       1             \n",
      "          1           1           \n",
      "        1               1         \n",
      "      1                   1       \n",
      "    1                       1     \n",
      "  1                           1   \n",
      "1  2  3  4  5  6  7  8  9  10  11  12  13  14  15  16  17  \n",
      "                                  \n"
     ]
    }
   ],
   "source": [
    "def Hollow_pyramid(n):\n",
    "    row = n + 1\n",
    "    col = 2 * n - 1\n",
    "    start = n - 1\n",
    "    end = n - 1\n",
    "    var = 1\n",
    "\n",
    "    for i in range(row):\n",
    "        for j in range(col):\n",
    "            if (j == start or j == end) and i != n - 1:\n",
    "                print(\"1\", end=' ')\n",
    "            elif i == n - 1:\n",
    "                print(str(var) + ' ', end=' ')\n",
    "                var += 1\n",
    "            else:\n",
    "                print(' ', end=' ')\n",
    "        \n",
    "        print()\n",
    "        start -= 1\n",
    "        end += 1\n",
    "\n",
    "Hollow_pyramid(9)\n"
   ]
  },
  {
   "cell_type": "code",
   "execution_count": 94,
   "id": "c28ffb73-4644-42a4-a1a0-b5d3a35eff3e",
   "metadata": {},
   "outputs": [
    {
     "name": "stdout",
     "output_type": "stream",
     "text": [
      "     1     \n",
      "    1 2    \n",
      "   1 2 3   \n",
      "  1 2 3 4  \n",
      " 1 2 3 4 5 \n",
      "1 2 3 4 5 6\n"
     ]
    }
   ],
   "source": [
    "def triangular_pattern(n):\n",
    "    max_width = 2 * n - 1\n",
    "    for i in range(n):\n",
    "        line = \" \".join(str(j) for j in range(1, i+2))\n",
    "        print(line.center(max_width))\n",
    "\n",
    "triangular_pattern(6)\n"
   ]
  },
  {
   "cell_type": "code",
   "execution_count": null,
   "id": "4af5ded6-5cb6-4908-bcba-ad841373688d",
   "metadata": {},
   "outputs": [],
   "source": []
  },
  {
   "cell_type": "code",
   "execution_count": 30,
   "id": "688b0dfc",
   "metadata": {},
   "outputs": [
    {
     "name": "stdout",
     "output_type": "stream",
     "text": [
      "* * * * * * * * * * * \n",
      "* * * *       * * * * \n",
      "* * *           * * * \n",
      "* *               * * \n",
      "*                   * \n",
      "                      \n"
     ]
    }
   ],
   "source": [
    "def pyramid(n):\n",
    "    row=n\n",
    "    col=2*n-1\n",
    "    start,end=n-1,n-1\n",
    "    for i in range(row):\n",
    "        for j in range(col):\n",
    "            if i==0 and j==n-1:\n",
    "                print(\"*\",end=\" \")\n",
    "            elif j>=start and j<=end:\n",
    "                print(\" \",end=\" \")\n",
    "            else:\n",
    "                print(\"*\",end=\" \")\n",
    "        print()\n",
    "        start-=1\n",
    "        end+=1\n",
    "pyramid(6)"
   ]
  },
  {
   "cell_type": "code",
   "execution_count": 26,
   "id": "8b62e078",
   "metadata": {},
   "outputs": [
    {
     "name": "stdout",
     "output_type": "stream",
     "text": [
      "          *           \n",
      "        * * *         \n",
      "      * * * * *       \n",
      "    * * * * * * *     \n",
      "  * * * * * * * * *   \n",
      "* * * * * * * * * * * \n"
     ]
    }
   ],
   "source": [
    "def pyramid(n):\n",
    "    row=n\n",
    "    col=2*n-1\n",
    "    start,end=n-1,n-1\n",
    "    for i in range(row):\n",
    "        for j in range(col):\n",
    "            if j>=start and j<=end:\n",
    "                print(\"*\",end=\" \")\n",
    "            else:\n",
    "                print(\" \",end=\" \")\n",
    "        print()\n",
    "        start-=1\n",
    "        end+=1\n",
    "pyramid(6)"
   ]
  },
  {
   "cell_type": "code",
   "execution_count": 55,
   "id": "5af89f03",
   "metadata": {},
   "outputs": [
    {
     "name": "stdin",
     "output_type": "stream",
     "text": [
      " 7\n"
     ]
    },
    {
     "name": "stdout",
     "output_type": "stream",
     "text": [
      " ***** \n",
      "*     *\n",
      "*     *\n",
      "*     *\n",
      "*     *\n",
      "*     *\n",
      " ***** \n"
     ]
    }
   ],
   "source": [
    "n=int(input())\n",
    "for i in range(n):\n",
    "    for j in range(n):\n",
    "        if i==j or i+j==n-1 :\n",
    "            print(end=\" \")\n",
    "        elif i==0 or i==n-1 or j==0 or j==n-1:\n",
    "            print(\"*\",end=\"\")\n",
    "        else:\n",
    "            print(\" \",end=\"\")\n",
    "    print()"
   ]
  },
  {
   "cell_type": "code",
   "execution_count": 53,
   "id": "7067b617",
   "metadata": {},
   "outputs": [
    {
     "name": "stdout",
     "output_type": "stream",
     "text": [
      " ****\n",
      "*   *\n",
      "*   *\n",
      "     \n",
      "**** \n"
     ]
    }
   ],
   "source": [
    "def circle(n):\n",
    "    row=n\n",
    "    col=n\n",
    "    for i in range(n):\n",
    "        for j in range(n):\n",
    "            if i==j or i+1==n-1:\n",
    "                print(end=' ')\n",
    "            elif i==0 or i==n-1 or j==0 or j==n-1:\n",
    "                print(\"*\",end='')\n",
    "            else:\n",
    "                print(\" \",end='')\n",
    "            \n",
    "        print()\n",
    "    \n",
    "circle(5)"
   ]
  },
  {
   "cell_type": "code",
   "execution_count": 60,
   "id": "5f34b01a",
   "metadata": {},
   "outputs": [
    {
     "name": "stdout",
     "output_type": "stream",
     "text": [
      "* \n",
      "* * \n",
      "* * * \n",
      "* * * * \n",
      "* * * * * \n",
      "* * * * * * \n",
      "* * * * * * * \n"
     ]
    }
   ],
   "source": [
    "\n",
    "for i in range(n):\n",
    "    for j in range(i+1):\n",
    "        print(\"*\",end=\" \")\n",
    "    print()"
   ]
  },
  {
   "cell_type": "code",
   "execution_count": 78,
   "id": "cd3e0c3a",
   "metadata": {},
   "outputs": [
    {
     "name": "stdout",
     "output_type": "stream",
     "text": [
      "a \n",
      "b c \n",
      "d e f \n",
      "g h i j \n",
      "k l m n o \n",
      "p q r s t u \n",
      "v w x y z a b \n",
      "c d e f g h i j \n",
      "k l m n o p q r s \n",
      "t u v w x y z a b c \n"
     ]
    }
   ],
   "source": [
    "n=10\n",
    "char='a'\n",
    "for i in range(1,n+1):\n",
    "    for j in range(i):\n",
    "        print(char,end=\" \")\n",
    "        char=chr(ord(char)+1)\n",
    "        if char>'z':\n",
    "            char='a'\n",
    "    print()+"
   ]
  },
  {
   "cell_type": "code",
   "execution_count": 82,
   "id": "1fe4d44d",
   "metadata": {},
   "outputs": [
    {
     "name": "stdout",
     "output_type": "stream",
     "text": [
      "          *             \n",
      "        * * *           \n",
      "      * * * * *         \n",
      "    * * * * * * *       \n",
      "  * * * * * * * * *     \n",
      "* * * * * * * * * * *   \n"
     ]
    }
   ],
   "source": [
    "def pyramid(n):\n",
    "    row=n\n",
    "    col=2*n\n",
    "    start,end=n-1,n-1\n",
    "    for i in range(row):\n",
    "        for j in range(col):\n",
    "            if j>=start and j<=end:\n",
    "                print(\"*\",end=\" \")\n",
    "            else:\n",
    "                print(\" \",end=\" \")\n",
    "        print()\n",
    "        start-=1\n",
    "        end+=1\n",
    "pyramid(6)"
   ]
  },
  {
   "cell_type": "code",
   "execution_count": 88,
   "id": "adeb3e3d",
   "metadata": {},
   "outputs": [
    {
     "name": "stdout",
     "output_type": "stream",
     "text": [
      "          1             \n",
      "        2 2 2           \n",
      "      3 3 3 3 3         \n",
      "    4 4 4 4 4 4 4       \n",
      "  5 5 5 5 5 5 5 5 5     \n",
      "6 6 6 6 6 6 6 6 6 6 6   \n"
     ]
    }
   ],
   "source": [
    "def pyramid(n):\n",
    "    row=n+1\n",
    "    col=2*n\n",
    "    start,end=n-1,n-1\n",
    "    for i in range(1,row):\n",
    "        for j in range(0,col):\n",
    "            if j>=start and j<=end:\n",
    "                print(i,end=\" \")\n",
    "            else:\n",
    "                print(\" \",end=\" \")\n",
    "        print()\n",
    "        start-=1\n",
    "        end+=1\n",
    "pyramid(6)"
   ]
  },
  {
   "cell_type": "code",
   "execution_count": 92,
   "id": "d7d69be5",
   "metadata": {},
   "outputs": [
    {
     "name": "stdout",
     "output_type": "stream",
     "text": [
      "1 \n",
      "1\n",
      "2 \n",
      "1\n",
      "2 \n",
      "1\n",
      "2 \n",
      "1\n",
      "2 \n",
      "1\n",
      "2 \n",
      "1\n",
      "2 \n",
      "1\n",
      "2 \n",
      "1  2  3  4  5  6  7  8  9  10  11  12  13  14  15  16  17  1  2  3  4  5  6  7  8  9  10  11  12  13  14  15  16  17  1  2  3  4  5  6  7  8  9  10  11  12  13  14  15  16  17  1  2  3  4  5  6  7  8  9  10  11  12  13  14  15  16  17  1  2  3  4  5  6  7  8  9  10  11  12  13  14  15  16  17  1  2  3  4  5  6  7  8  9  10  11  12  13  14  15  16  17  1  2  3  4  5  6  7  8  9  10  11  12  13  14  15  16  17  1  2  3  4  5  6  7  8  9  10  11  12  13  14  15  16  17  1  2  3  4  5  6  7  8  9  10  11  12  13  14  15  16  17  1  2  3  4  5  6  7  8  9  10  11  12  13  14  15  16  17  1  2  3  4  5  6  7  8  9  10  11  12  13  14  15  16  17  1  2  3  4  5  6  7  8  9  10  11  12  13  14  15  16  17  1  2  3  4  5  6  7  8  9  10  11  12  13  14  15  16  17  1  2  3  4  5  6  7  8  9  10  11  12  13  14  15  16  17  1  2  3  4  5  6  7  8  9  10  11  12  13  14  15  16  17  1  2  3  4  5  6  7  8  9  10  11  12  13  14  15  16  17  1  2  3  4  5  6  7  8  9  10  11  12  13  14  15  16  17  \n",
      "\n"
     ]
    }
   ],
   "source": [
    "def Hollow_pyramid(n):\n",
    "    row=n+1\n",
    "    col=2*n-1\n",
    "    start,end=n-1,n-1\n",
    "    var=2\n",
    "    for i in range(row):\n",
    "        for j in range(col):\n",
    "            if (j==start or j==end) and i!=n-1:\n",
    "                if start==end:\n",
    "                    print(1,end=' ')\n",
    "                elif j==start:\n",
    "                    print(1,end=' ')\n",
    "                 else:\n",
    "                    print(var,end=' ')\n",
    "                     var+=1\n",
    "            elif i==n-1 and (j>=start and j<=n-1):\n",
    "                \n",
    "                var=1\n",
    "                for k in range(col):\n",
    "                    print(str(var)+\" \",end=' ')\n",
    "                    var+=1\n",
    "                \n",
    "        print()\n",
    "        start-=1\n",
    "        end+=1\n",
    "Hollow_pyramid(9)"
   ]
  },
  {
   "cell_type": "code",
   "execution_count": 93,
   "id": "3b80da86",
   "metadata": {},
   "outputs": [
    {
     "name": "stdout",
     "output_type": "stream",
     "text": [
      "                1                 \n",
      "              1   1               \n",
      "            1       1             \n",
      "          1           1           \n",
      "        1               1         \n",
      "      1                   1       \n",
      "    1                       1     \n",
      "  1                           1   \n",
      "1  2  3  4  5  6  7  8  9  10  11  12  13  14  15  16  17  \n",
      "                                  \n"
     ]
    }
   ],
   "source": [
    "def Hollow_pyramid(n):\n",
    "    row = n + 1\n",
    "    col = 2 * n - 1\n",
    "    start = n - 1\n",
    "    end = n - 1\n",
    "    var = 1\n",
    "\n",
    "    for i in range(row):\n",
    "        for j in range(col):\n",
    "            if (j == start or j == end) and i != n - 1:\n",
    "                print(\"1\", end=' ')\n",
    "            elif i == n - 1:\n",
    "                print(str(var) + ' ', end=' ')\n",
    "                var += 1\n",
    "            else:\n",
    "                print(' ', end=' ')\n",
    "        \n",
    "        print()\n",
    "        start -= 1\n",
    "        end += 1\n",
    "\n",
    "Hollow_pyramid(9)\n"
   ]
  },
  {
   "cell_type": "code",
   "execution_count": 94,
   "id": "d2ff82d4",
   "metadata": {},
   "outputs": [
    {
     "name": "stdout",
     "output_type": "stream",
     "text": [
      "     1     \n",
      "    1 2    \n",
      "   1 2 3   \n",
      "  1 2 3 4  \n",
      " 1 2 3 4 5 \n",
      "1 2 3 4 5 6\n"
     ]
    }
   ],
   "source": [
    "def triangular_pattern(n):\n",
    "    max_width = 2 * n - 1\n",
    "    for i in range(n):\n",
    "        line = \" \".join(str(j) for j in range(1, i+2))\n",
    "        print(line.center(max_width))\n",
    "\n",
    "triangular_pattern(6)\n"
   ]
  },
  {
   "cell_type": "code",
   "execution_count": 30,
   "id": "409b4809",
   "metadata": {},
   "outputs": [
    {
     "name": "stdout",
     "output_type": "stream",
     "text": [
      "* * * * * * * * * * * \n",
      "* * * *       * * * * \n",
      "* * *           * * * \n",
      "* *               * * \n",
      "*                   * \n",
      "                      \n"
     ]
    }
   ],
   "source": [
    "def pyramid(n):\n",
    "    row=n\n",
    "    col=2*n-1\n",
    "    start,end=n-1,n-1\n",
    "    for i in range(row):\n",
    "        for j in range(col):\n",
    "            if i==0 and j==n-1:\n",
    "                print(\"*\",end=\" \")\n",
    "            elif j>=start and j<=end:\n",
    "                print(\" \",end=\" \")\n",
    "            else:\n",
    "                print(\"*\",end=\" \")\n",
    "        print()\n",
    "        start-=1\n",
    "        end+=1\n",
    "pyramid(6)"
   ]
  },
  {
   "cell_type": "code",
   "execution_count": 26,
   "id": "8d4b7238",
   "metadata": {},
   "outputs": [
    {
     "name": "stdout",
     "output_type": "stream",
     "text": [
      "          *           \n",
      "        * * *         \n",
      "      * * * * *       \n",
      "    * * * * * * *     \n",
      "  * * * * * * * * *   \n",
      "* * * * * * * * * * * \n"
     ]
    }
   ],
   "source": [
    "def pyramid(n):\n",
    "    row=n\n",
    "    col=2*n-1\n",
    "    start,end=n-1,n-1\n",
    "    for i in range(row):\n",
    "        for j in range(col):\n",
    "            if j>=start and j<=end:\n",
    "                print(\"*\",end=\" \")\n",
    "            else:\n",
    "                print(\" \",end=\" \")\n",
    "        print()\n",
    "        start-=1\n",
    "        end+=1\n",
    "pyramid(6)"
   ]
  },
  {
   "cell_type": "code",
   "execution_count": 55,
   "id": "5f623c0f",
   "metadata": {},
   "outputs": [
    {
     "name": "stdin",
     "output_type": "stream",
     "text": [
      " 7\n"
     ]
    },
    {
     "name": "stdout",
     "output_type": "stream",
     "text": [
      " ***** \n",
      "*     *\n",
      "*     *\n",
      "*     *\n",
      "*     *\n",
      "*     *\n",
      " ***** \n"
     ]
    }
   ],
   "source": [
    "n=int(input())\n",
    "for i in range(n):\n",
    "    for j in range(n):\n",
    "        if i==j or i+j==n-1 :\n",
    "            print(end=\" \")\n",
    "        elif i==0 or i==n-1 or j==0 or j==n-1:\n",
    "            print(\"*\",end=\"\")\n",
    "        else:\n",
    "            print(\" \",end=\"\")\n",
    "    print()"
   ]
  },
  {
   "cell_type": "code",
   "execution_count": 53,
   "id": "16f88095",
   "metadata": {},
   "outputs": [
    {
     "name": "stdout",
     "output_type": "stream",
     "text": [
      " ****\n",
      "*   *\n",
      "*   *\n",
      "     \n",
      "**** \n"
     ]
    }
   ],
   "source": [
    "def circle(n):\n",
    "    row=n\n",
    "    col=n\n",
    "    for i in range(n):\n",
    "        for j in range(n):\n",
    "            if i==j or i+1==n-1:\n",
    "                print(end=' ')\n",
    "            elif i==0 or i==n-1 or j==0 or j==n-1:\n",
    "                print(\"*\",end='')\n",
    "            else:\n",
    "                print(\" \",end='')\n",
    "            \n",
    "        print()\n",
    "    \n",
    "circle(5)"
   ]
  },
  {
   "cell_type": "code",
   "execution_count": 60,
   "id": "01985b99",
   "metadata": {},
   "outputs": [
    {
     "name": "stdout",
     "output_type": "stream",
     "text": [
      "* \n",
      "* * \n",
      "* * * \n",
      "* * * * \n",
      "* * * * * \n",
      "* * * * * * \n",
      "* * * * * * * \n"
     ]
    }
   ],
   "source": [
    "\n",
    "for i in range(n):\n",
    "    for j in range(i+1):\n",
    "        print(\"*\",end=\" \")\n",
    "    print()"
   ]
  },
  {
   "cell_type": "code",
   "execution_count": 78,
   "id": "a0c94b4e",
   "metadata": {},
   "outputs": [
    {
     "name": "stdout",
     "output_type": "stream",
     "text": [
      "a \n",
      "b c \n",
      "d e f \n",
      "g h i j \n",
      "k l m n o \n",
      "p q r s t u \n",
      "v w x y z a b \n",
      "c d e f g h i j \n",
      "k l m n o p q r s \n",
      "t u v w x y z a b c \n"
     ]
    }
   ],
   "source": [
    "n=10\n",
    "char='a'\n",
    "for i in range(1,n+1):\n",
    "    for j in range(i):\n",
    "        print(char,end=\" \")\n",
    "        char=chr(ord(char)+1)\n",
    "        if char>'z':\n",
    "            char='a'\n",
    "    print()+"
   ]
  },
  {
   "cell_type": "code",
   "execution_count": 82,
   "id": "d007a236",
   "metadata": {},
   "outputs": [
    {
     "name": "stdout",
     "output_type": "stream",
     "text": [
      "          *             \n",
      "        * * *           \n",
      "      * * * * *         \n",
      "    * * * * * * *       \n",
      "  * * * * * * * * *     \n",
      "* * * * * * * * * * *   \n"
     ]
    }
   ],
   "source": [
    "def pyramid(n):\n",
    "    row=n\n",
    "    col=2*n\n",
    "    start,end=n-1,n-1\n",
    "    for i in range(row):\n",
    "        for j in range(col):\n",
    "            if j>=start and j<=end:\n",
    "                print(\"*\",end=\" \")\n",
    "            else:\n",
    "                print(\" \",end=\" \")\n",
    "        print()\n",
    "        start-=1\n",
    "        end+=1\n",
    "pyramid(6)"
   ]
  },
  {
   "cell_type": "code",
   "execution_count": 88,
   "id": "fbcdd651",
   "metadata": {},
   "outputs": [
    {
     "name": "stdout",
     "output_type": "stream",
     "text": [
      "          1             \n",
      "        2 2 2           \n",
      "      3 3 3 3 3         \n",
      "    4 4 4 4 4 4 4       \n",
      "  5 5 5 5 5 5 5 5 5     \n",
      "6 6 6 6 6 6 6 6 6 6 6   \n"
     ]
    }
   ],
   "source": [
    "def pyramid(n):\n",
    "    row=n+1\n",
    "    col=2*n\n",
    "    start,end=n-1,n-1\n",
    "    for i in range(1,row):\n",
    "        for j in range(0,col):\n",
    "            if j>=start and j<=end:\n",
    "                print(i,end=\" \")\n",
    "            else:\n",
    "                print(\" \",end=\" \")\n",
    "        print()\n",
    "        start-=1\n",
    "        end+=1\n",
    "pyramid(6)"
   ]
  },
  {
   "cell_type": "code",
   "execution_count": 95,
   "id": "bb75dfdb",
   "metadata": {},
   "outputs": [
    {
     "ename": "SyntaxError",
     "evalue": "invalid syntax. Perhaps you forgot a comma? (3135639110.py, line 16)",
     "output_type": "error",
     "traceback": [
      "\u001b[1;36m  Cell \u001b[1;32mIn[95], line 16\u001b[1;36m\u001b[0m\n\u001b[1;33m    elif i==n-1 and (j<start anf j<-n-1):\u001b[0m\n\u001b[1;37m                     ^\u001b[0m\n\u001b[1;31mSyntaxError\u001b[0m\u001b[1;31m:\u001b[0m invalid syntax. Perhaps you forgot a comma?\n"
     ]
    }
   ],
   "source": [
    "def Hollow_pyramid(n):\n",
    "    row=n+1\n",
    "    col=2*n-1\n",
    "    start,end=n-1,n-1\n",
    "    var=2\n",
    "    for i in range(row):\n",
    "        for j in range(col):\n",
    "            if (j==start or j==end) and i!=n-1:\n",
    "                if start==end:\n",
    "                    print(\"1\",end=' ')\n",
    "                else:\n",
    "                    if j==start:\n",
    "                        print(\"1\")\n",
    "                    elif j==end:\n",
    "                        print(var,end=' ')\n",
    "            elif i==n-1 and (j<start anf j<-n-1):\n",
    "                print(var2,end=' ')\n",
    "                for k in range(col):\n",
    "                    print(str(var)+\" \",end=' ')\n",
    "                    \n",
    "                    var+=1\n",
    "                \n",
    "        print()\n",
    "        start-=1\n",
    "        end+=1\n",
    "Hollow_pyramid(9)"
   ]
  },
  {
   "cell_type": "code",
   "execution_count": 93,
   "id": "38ba9ea2",
   "metadata": {},
   "outputs": [
    {
     "name": "stdout",
     "output_type": "stream",
     "text": [
      "                1                 \n",
      "              1   1               \n",
      "            1       1             \n",
      "          1           1           \n",
      "        1               1         \n",
      "      1                   1       \n",
      "    1                       1     \n",
      "  1                           1   \n",
      "1  2  3  4  5  6  7  8  9  10  11  12  13  14  15  16  17  \n",
      "                                  \n"
     ]
    }
   ],
   "source": [
    "def Hollow_pyramid(n):\n",
    "    row = n + 1\n",
    "    col = 2 * n - 1\n",
    "    start = n - 1\n",
    "    end = n - 1\n",
    "    var = 1\n",
    "\n",
    "    for i in range(row):\n",
    "        for j in range(col):\n",
    "            if (j == start or j == end) and i != n - 1:\n",
    "                print(\"1\", end=' ')\n",
    "            elif i == n - 1:\n",
    "                print(str(var) + ' ', end=' ')\n",
    "                var += 1\n",
    "            else:\n",
    "                print(' ', end=' ')\n",
    "        \n",
    "        print()\n",
    "        start -= 1\n",
    "        end += 1\n",
    "\n",
    "Hollow_pyramid(9)\n"
   ]
  },
  {
   "cell_type": "code",
   "execution_count": 94,
   "id": "f2b72018",
   "metadata": {},
   "outputs": [
    {
     "name": "stdout",
     "output_type": "stream",
     "text": [
      "     1     \n",
      "    1 2    \n",
      "   1 2 3   \n",
      "  1 2 3 4  \n",
      " 1 2 3 4 5 \n",
      "1 2 3 4 5 6\n"
     ]
    }
   ],
   "source": [
    "def triangular_pattern(n):\n",
    "    max_width = 2 * n - 1\n",
    "    for i in range(n):\n",
    "        line = \" \".join(str(j) for j in range(1, i+2))\n",
    "        print(line.center(max_width))\n",
    "\n",
    "triangular_pattern(6)\n"
   ]
  },
  {
   "cell_type": "code",
   "execution_count": null,
   "id": "158734b0",
   "metadata": {},
   "outputs": [],
   "source": []
  },
  {
   "cell_type": "code",
   "execution_count": 30,
   "id": "c2b34ba3",
   "metadata": {},
   "outputs": [
    {
     "name": "stdout",
     "output_type": "stream",
     "text": [
      "* * * * * * * * * * * \n",
      "* * * *       * * * * \n",
      "* * *           * * * \n",
      "* *               * * \n",
      "*                   * \n",
      "                      \n"
     ]
    }
   ],
   "source": [
    "def pyramid(n):\n",
    "    row=n\n",
    "    col=2*n-1\n",
    "    start,end=n-1,n-1\n",
    "    for i in range(row):\n",
    "        for j in range(col):\n",
    "            if i==0 and j==n-1:\n",
    "                print(\"*\",end=\" \")\n",
    "            elif j>=start and j<=end:\n",
    "                print(\" \",end=\" \")\n",
    "            else:\n",
    "                print(\"*\",end=\" \")\n",
    "        print()\n",
    "        start-=1\n",
    "        end+=1\n",
    "pyramid(6)"
   ]
  },
  {
   "cell_type": "code",
   "execution_count": 26,
   "id": "e3f21a80",
   "metadata": {},
   "outputs": [
    {
     "name": "stdout",
     "output_type": "stream",
     "text": [
      "          *           \n",
      "        * * *         \n",
      "      * * * * *       \n",
      "    * * * * * * *     \n",
      "  * * * * * * * * *   \n",
      "* * * * * * * * * * * \n"
     ]
    }
   ],
   "source": [
    "def pyramid(n):\n",
    "    row=n\n",
    "    col=2*n-1\n",
    "    start,end=n-1,n-1\n",
    "    for i in range(row):\n",
    "        for j in range(col):\n",
    "            if j>=start and j<=end:\n",
    "                print(\"*\",end=\" \")\n",
    "            else:\n",
    "                print(\" \",end=\" \")\n",
    "        print()\n",
    "        start-=1\n",
    "        end+=1\n",
    "pyramid(6)"
   ]
  },
  {
   "cell_type": "code",
   "execution_count": 55,
   "id": "382cdd8c",
   "metadata": {},
   "outputs": [
    {
     "name": "stdin",
     "output_type": "stream",
     "text": [
      " 7\n"
     ]
    },
    {
     "name": "stdout",
     "output_type": "stream",
     "text": [
      " ***** \n",
      "*     *\n",
      "*     *\n",
      "*     *\n",
      "*     *\n",
      "*     *\n",
      " ***** \n"
     ]
    }
   ],
   "source": [
    "n=int(input())\n",
    "for i in range(n):\n",
    "    for j in range(n):\n",
    "        if i==j or i+j==n-1 :\n",
    "            print(end=\" \")\n",
    "        elif i==0 or i==n-1 or j==0 or j==n-1:\n",
    "            print(\"*\",end=\"\")\n",
    "        else:\n",
    "            print(\" \",end=\"\")\n",
    "    print()"
   ]
  },
  {
   "cell_type": "code",
   "execution_count": 53,
   "id": "61b5b00a",
   "metadata": {},
   "outputs": [
    {
     "name": "stdout",
     "output_type": "stream",
     "text": [
      " ****\n",
      "*   *\n",
      "*   *\n",
      "     \n",
      "**** \n"
     ]
    }
   ],
   "source": [
    "def circle(n):\n",
    "    row=n\n",
    "    col=n\n",
    "    for i in range(n):\n",
    "        for j in range(n):\n",
    "            if i==j or i+1==n-1:\n",
    "                print(end=' ')\n",
    "            elif i==0 or i==n-1 or j==0 or j==n-1:\n",
    "                print(\"*\",end='')\n",
    "            else:\n",
    "                print(\" \",end='')\n",
    "            \n",
    "        print()\n",
    "    \n",
    "circle(5)"
   ]
  },
  {
   "cell_type": "code",
   "execution_count": 60,
   "id": "30e48ccd",
   "metadata": {},
   "outputs": [
    {
     "name": "stdout",
     "output_type": "stream",
     "text": [
      "* \n",
      "* * \n",
      "* * * \n",
      "* * * * \n",
      "* * * * * \n",
      "* * * * * * \n",
      "* * * * * * * \n"
     ]
    }
   ],
   "source": [
    "\n",
    "for i in range(n):\n",
    "    for j in range(i+1):\n",
    "        print(\"*\",end=\" \")\n",
    "    print()"
   ]
  },
  {
   "cell_type": "code",
   "execution_count": 78,
   "id": "f51869d2",
   "metadata": {},
   "outputs": [
    {
     "name": "stdout",
     "output_type": "stream",
     "text": [
      "a \n",
      "b c \n",
      "d e f \n",
      "g h i j \n",
      "k l m n o \n",
      "p q r s t u \n",
      "v w x y z a b \n",
      "c d e f g h i j \n",
      "k l m n o p q r s \n",
      "t u v w x y z a b c \n"
     ]
    }
   ],
   "source": [
    "n=10\n",
    "char='a'\n",
    "for i in range(1,n+1):\n",
    "    for j in range(i):\n",
    "        print(char,end=\" \")\n",
    "        char=chr(ord(char)+1)\n",
    "        if char>'z':\n",
    "            char='a'\n",
    "    print()+"
   ]
  },
  {
   "cell_type": "code",
   "execution_count": 82,
   "id": "b1fa7427",
   "metadata": {},
   "outputs": [
    {
     "name": "stdout",
     "output_type": "stream",
     "text": [
      "          *             \n",
      "        * * *           \n",
      "      * * * * *         \n",
      "    * * * * * * *       \n",
      "  * * * * * * * * *     \n",
      "* * * * * * * * * * *   \n"
     ]
    }
   ],
   "source": [
    "def pyramid(n):\n",
    "    row=n\n",
    "    col=2*n\n",
    "    start,end=n-1,n-1\n",
    "    for i in range(row):\n",
    "        for j in range(col):\n",
    "            if j>=start and j<=end:\n",
    "                print(\"*\",end=\" \")\n",
    "            else:\n",
    "                print(\" \",end=\" \")\n",
    "        print()\n",
    "        start-=1\n",
    "        end+=1\n",
    "pyramid(6)"
   ]
  },
  {
   "cell_type": "code",
   "execution_count": 88,
   "id": "abb6a0ff",
   "metadata": {},
   "outputs": [
    {
     "name": "stdout",
     "output_type": "stream",
     "text": [
      "          1             \n",
      "        2 2 2           \n",
      "      3 3 3 3 3         \n",
      "    4 4 4 4 4 4 4       \n",
      "  5 5 5 5 5 5 5 5 5     \n",
      "6 6 6 6 6 6 6 6 6 6 6   \n"
     ]
    }
   ],
   "source": [
    "def pyramid(n):\n",
    "    row=n+1\n",
    "    col=2*n\n",
    "    start,end=n-1,n-1\n",
    "    for i in range(1,row):\n",
    "        for j in range(0,col):\n",
    "            if j>=start and j<=end:\n",
    "                print(i,end=\" \")\n",
    "            else:\n",
    "                print(\" \",end=\" \")\n",
    "        print()\n",
    "        start-=1\n",
    "        end+=1\n",
    "pyramid(6)"
   ]
  },
  {
   "cell_type": "code",
   "execution_count": 92,
   "id": "fefd67b0",
   "metadata": {},
   "outputs": [
    {
     "name": "stdout",
     "output_type": "stream",
     "text": [
      "1 \n",
      "1\n",
      "2 \n",
      "1\n",
      "2 \n",
      "1\n",
      "2 \n",
      "1\n",
      "2 \n",
      "1\n",
      "2 \n",
      "1\n",
      "2 \n",
      "1\n",
      "2 \n",
      "1  2  3  4  5  6  7  8  9  10  11  12  13  14  15  16  17  1  2  3  4  5  6  7  8  9  10  11  12  13  14  15  16  17  1  2  3  4  5  6  7  8  9  10  11  12  13  14  15  16  17  1  2  3  4  5  6  7  8  9  10  11  12  13  14  15  16  17  1  2  3  4  5  6  7  8  9  10  11  12  13  14  15  16  17  1  2  3  4  5  6  7  8  9  10  11  12  13  14  15  16  17  1  2  3  4  5  6  7  8  9  10  11  12  13  14  15  16  17  1  2  3  4  5  6  7  8  9  10  11  12  13  14  15  16  17  1  2  3  4  5  6  7  8  9  10  11  12  13  14  15  16  17  1  2  3  4  5  6  7  8  9  10  11  12  13  14  15  16  17  1  2  3  4  5  6  7  8  9  10  11  12  13  14  15  16  17  1  2  3  4  5  6  7  8  9  10  11  12  13  14  15  16  17  1  2  3  4  5  6  7  8  9  10  11  12  13  14  15  16  17  1  2  3  4  5  6  7  8  9  10  11  12  13  14  15  16  17  1  2  3  4  5  6  7  8  9  10  11  12  13  14  15  16  17  1  2  3  4  5  6  7  8  9  10  11  12  13  14  15  16  17  1  2  3  4  5  6  7  8  9  10  11  12  13  14  15  16  17  \n",
      "\n"
     ]
    }
   ],
   "source": [
    "def Hollow_pyramid(n):\n",
    "    row=n+1\n",
    "    col=2*n-1\n",
    "    start,end=n-1,n-1\n",
    "    var=2\n",
    "    for i in range(row):\n",
    "        for j in range(col):\n",
    "            if (j==start or j==end) and i!=n-1:\n",
    "                if start==end:\n",
    "                    print(1,end=' ')\n",
    "                elif j==start:\n",
    "                    print(1,end=' ')\n",
    "                 else:\n",
    "                    print(var,end=' ')\n",
    "                     var+=1\n",
    "            elif i==n-1 and (j>=start and j<=n-1):\n",
    "                \n",
    "                var=1\n",
    "                for k in range(col):\n",
    "                    print(str(var)+\" \",end=' ')\n",
    "                    var+=1\n",
    "                \n",
    "        print()\n",
    "        start-=1\n",
    "        end+=1\n",
    "Hollow_pyramid(9)"
   ]
  },
  {
   "cell_type": "code",
   "execution_count": 93,
   "id": "08addc40",
   "metadata": {},
   "outputs": [
    {
     "name": "stdout",
     "output_type": "stream",
     "text": [
      "                1                 \n",
      "              1   1               \n",
      "            1       1             \n",
      "          1           1           \n",
      "        1               1         \n",
      "      1                   1       \n",
      "    1                       1     \n",
      "  1                           1   \n",
      "1  2  3  4  5  6  7  8  9  10  11  12  13  14  15  16  17  \n",
      "                                  \n"
     ]
    }
   ],
   "source": [
    "def Hollow_pyramid(n):\n",
    "    row = n + 1\n",
    "    col = 2 * n - 1\n",
    "    start = n - 1\n",
    "    end = n - 1\n",
    "    var = 1\n",
    "\n",
    "    for i in range(row):\n",
    "        for j in range(col):\n",
    "            if (j == start or j == end) and i != n - 1:\n",
    "                print(\"1\", end=' ')\n",
    "            elif i == n - 1:\n",
    "                print(str(var) + ' ', end=' ')\n",
    "                var += 1\n",
    "            else:\n",
    "                print(' ', end=' ')\n",
    "        \n",
    "        print()\n",
    "        start -= 1\n",
    "        end += 1\n",
    "\n",
    "Hollow_pyramid(9)\n"
   ]
  },
  {
   "cell_type": "code",
   "execution_count": 94,
   "id": "920db991",
   "metadata": {},
   "outputs": [
    {
     "name": "stdout",
     "output_type": "stream",
     "text": [
      "     1     \n",
      "    1 2    \n",
      "   1 2 3   \n",
      "  1 2 3 4  \n",
      " 1 2 3 4 5 \n",
      "1 2 3 4 5 6\n"
     ]
    }
   ],
   "source": [
    "def triangular_pattern(n):\n",
    "    max_width = 2 * n - 1\n",
    "    for i in range(n):\n",
    "        line = \" \".join(str(j) for j in range(1, i+2))\n",
    "        print(line.center(max_width))\n",
    "\n",
    "triangular_pattern(6)\n"
   ]
  },
  {
   "cell_type": "code",
   "execution_count": null,
   "id": "f43d7b4a",
   "metadata": {},
   "outputs": [],
   "source": [
    "for i in range(row):\n",
    "    "
   ]
  }
 ],
 "metadata": {
  "kernelspec": {
   "display_name": "Python 3 (ipykernel)",
   "language": "python",
   "name": "python3"
  },
  "language_info": {
   "codemirror_mode": {
    "name": "ipython",
    "version": 3
   },
   "file_extension": ".py",
   "mimetype": "text/x-python",
   "name": "python",
   "nbconvert_exporter": "python",
   "pygments_lexer": "ipython3",
   "version": "3.11.4"
  }
 },
 "nbformat": 4,
 "nbformat_minor": 5
}
